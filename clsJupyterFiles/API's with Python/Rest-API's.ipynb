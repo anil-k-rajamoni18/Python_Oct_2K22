{
 "cells": [
  {
   "cell_type": "markdown",
   "id": "88ecc75b",
   "metadata": {},
   "source": [
    "### Intro\n",
    "\n",
    "    Representational State Transfer (REST) is an architectural style that defines a set of constraints to be used for creating web services. REST API is a way of accessing web services in a simple and flexible way without having any processing.\n",
    "    \n",
    "    Means of Communciation \n",
    "    \n",
    "    REST technology is generally preferred to the more robust Simple Object Access Protocol (SOAP) technology \n",
    "    \n",
    "    because REST uses less bandwidth, simple and flexible making it more suitable for internet usage. It’s used to fetch or give some information from a web service.\n",
    "    \n",
    "    All communication done via REST API uses only HTTP request. "
   ]
  },
  {
   "cell_type": "markdown",
   "id": "01c4acce",
   "metadata": {},
   "source": [
    "#### Working: \n",
    "\n",
    "        A request is sent from client to server in the form of a web URL as \n",
    "        HTTP GET or POST or PUT or  DELETE request. \n",
    "        \n",
    "        After that, a response comes back from the server in the form of a resource which can be anything like HTML, XML, Image, or JSON. \n",
    "        \n",
    "        But now JSON is the most popular format being used in Web Services. "
   ]
  },
  {
   "cell_type": "markdown",
   "id": "3bf56708",
   "metadata": {},
   "source": [
    "ex:  Client - JavaScript APP \n",
    "    \n",
    "    Backend - Python+DB (exposing Rest services)\n",
    "    \n",
    "    \n",
    "<img src = \"https://i.imgur.com/zkYjNBg.png\" heigth=\"600\" width=\"400\">"
   ]
  },
  {
   "cell_type": "markdown",
   "id": "2fd46e17",
   "metadata": {},
   "source": [
    "### Methods \n",
    "    \n",
    "    GET - retrive the data  \n",
    "    \n",
    "    POST - wrtie the data  \n",
    "    \n",
    "    DELETE - delete the data\n",
    "    \n",
    "    PUT - update the data \n",
    "    \n",
    "    \n",
    "    ex:\n",
    "    \n",
    "    GET : api/drinks/1\n",
    "    \n",
    "    POST : api/drinks\n",
    "    \n",
    "    PUT: api/drinks/605\n",
    "    \n",
    "    DELETE : api/drink/2\n",
    "    "
   ]
  },
  {
   "cell_type": "code",
   "execution_count": null,
   "id": "da742ce0",
   "metadata": {},
   "outputs": [],
   "source": []
  }
 ],
 "metadata": {
  "kernelspec": {
   "display_name": "Python 3",
   "language": "python",
   "name": "python3"
  },
  "language_info": {
   "codemirror_mode": {
    "name": "ipython",
    "version": 3
   },
   "file_extension": ".py",
   "mimetype": "text/x-python",
   "name": "python",
   "nbconvert_exporter": "python",
   "pygments_lexer": "ipython3",
   "version": "3.8.8"
  }
 },
 "nbformat": 4,
 "nbformat_minor": 5
}
