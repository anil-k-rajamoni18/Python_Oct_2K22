{
 "cells": [
  {
   "cell_type": "markdown",
   "metadata": {},
   "source": [
    "### What is API?"
   ]
  },
  {
   "cell_type": "markdown",
   "metadata": {},
   "source": [
    "#### An API (Application Programming Interface) is a set of rules that are shared by a particular service. \n",
    "- Here service can be any server or database or website \n",
    "\n",
    "- These rules determine in which format and with which command set your application can access the service, as well as what data this service can return in the response. \n",
    "\n",
    "- The API acts as a layer between your application and external service. \n",
    "- You do not need to know the internal structure and features of the service, you just send a certain simple command and receive data in a predetermined format."
   ]
  },
  {
   "cell_type": "markdown",
   "metadata": {},
   "source": [
    "- API is the acronym for Application Programming Interface, which is a software intermediary that allows two applications to talk to each other. \n",
    "- Each time you use an app like Facebook, send an instant message, or check the weather on your phone, or Paying the transactions or Using the googlemaps you’re using an API."
   ]
  },
  {
   "cell_type": "markdown",
   "metadata": {},
   "source": [
    "<img src= \"https://miro.medium.com/max/951/1*3h95bN2_xe-eitwHh_Ygvw.png\">"
   ]
  },
  {
   "cell_type": "markdown",
   "metadata": {},
   "source": [
    " - An API, or Application Programming Interface, is a server that you can use to retrieve and send data to using code. APIs are most commonly used to retrieve data, and that will be the focus of this beginner tutorial.\n",
    "\n",
    "- When we want to receive data from an API, we need to make a request. Requests are used all over the web. For instance, when you visited this blog post, your web browser made a request to the Dataquest web server, which responded with the content of this web page"
   ]
  },
  {
   "cell_type": "markdown",
   "metadata": {},
   "source": [
    "<img src= \"https://www.dataquest.io/wp-content/uploads/2019/09/api-request.svg\">"
   ]
  },
  {
   "cell_type": "markdown",
   "metadata": {},
   "source": [
    "- API requests work in exactly the same way – you make a request to an API server for data, and it responds to your request.\n",
    "\n",
    "- In order to work with API's in python , we need a tool to makes requests . In python most common library used to make requests\n",
    "are **requests** module , It is not part of S"
   ]
  },
  {
   "cell_type": "markdown",
   "metadata": {},
   "source": [
    "##### REST API (Representational state transfer) is an API that uses HTTP requests for communication with web services."
   ]
  },
  {
   "cell_type": "code",
   "execution_count": 3,
   "metadata": {},
   "outputs": [
    {
     "name": "stdout",
     "output_type": "stream",
     "text": [
      "Hello\n",
      "30\n"
     ]
    }
   ],
   "source": [
    "print(\"Hello\")\n",
    "a=10\n",
    "b=20\n",
    "print(a+b)"
   ]
  },
  {
   "cell_type": "markdown",
   "metadata": {},
   "source": [
    "- Client-server architecture – the client is responsible for the user interface, and the server is responsible for the backend and data storage. Client and server are independent and each of them can be replaced.\n",
    "\n",
    "- Stateless – no data from the client is stored on the server side. The session state is stored on the client side.\n",
    "\n",
    "- Cacheable – clients can cache server responses to improve performance."
   ]
  },
  {
   "cell_type": "markdown",
   "metadata": {},
   "source": [
    "### Types of Requests\n",
    "\n",
    "- Types of Requests or HTTP Request Methods characterize what action we are going to take by referring to the API.\n",
    "\n",
    "In total, there are four main types of actions:\n",
    "\n",
    "GET: retrieve information (like search results). This is the most common type of request. Using it, we can get the data we are interested in from those that the API is ready to share.\n",
    "\n",
    "POST: adds new data to the server. Using this type of request, you can, for example, add a new item to your inventory.\n",
    "\n",
    "PUT: changes existing information. For example, using this type of request, it would be possible to change the color or value of an existing product.\n",
    "\n",
    "DELETE: deletes existing information"
   ]
  },
  {
   "cell_type": "code",
   "execution_count": 1,
   "metadata": {},
   "outputs": [],
   "source": [
    "import requests"
   ]
  },
  {
   "cell_type": "code",
   "execution_count": 2,
   "metadata": {},
   "outputs": [
    {
     "data": {
      "text/plain": [
       "['ConnectTimeout',\n",
       " 'ConnectionError',\n",
       " 'DependencyWarning',\n",
       " 'FileModeWarning',\n",
       " 'HTTPError',\n",
       " 'NullHandler',\n",
       " 'PreparedRequest',\n",
       " 'ReadTimeout',\n",
       " 'Request',\n",
       " 'RequestException',\n",
       " 'RequestsDependencyWarning',\n",
       " 'Response',\n",
       " 'Session',\n",
       " 'Timeout',\n",
       " 'TooManyRedirects',\n",
       " 'URLRequired',\n",
       " '__author__',\n",
       " '__author_email__',\n",
       " '__build__',\n",
       " '__builtins__',\n",
       " '__cached__',\n",
       " '__cake__',\n",
       " '__copyright__',\n",
       " '__description__',\n",
       " '__doc__',\n",
       " '__file__',\n",
       " '__license__',\n",
       " '__loader__',\n",
       " '__name__',\n",
       " '__package__',\n",
       " '__path__',\n",
       " '__spec__',\n",
       " '__title__',\n",
       " '__url__',\n",
       " '__version__',\n",
       " '_check_cryptography',\n",
       " '_internal_utils',\n",
       " 'adapters',\n",
       " 'api',\n",
       " 'auth',\n",
       " 'certs',\n",
       " 'chardet',\n",
       " 'check_compatibility',\n",
       " 'codes',\n",
       " 'compat',\n",
       " 'cookies',\n",
       " 'delete',\n",
       " 'exceptions',\n",
       " 'get',\n",
       " 'head',\n",
       " 'hooks',\n",
       " 'logging',\n",
       " 'models',\n",
       " 'options',\n",
       " 'packages',\n",
       " 'patch',\n",
       " 'post',\n",
       " 'put',\n",
       " 'request',\n",
       " 'session',\n",
       " 'sessions',\n",
       " 'ssl',\n",
       " 'status_codes',\n",
       " 'structures',\n",
       " 'urllib3',\n",
       " 'utils',\n",
       " 'warnings']"
      ]
     },
     "execution_count": 2,
     "metadata": {},
     "output_type": "execute_result"
    }
   ],
   "source": [
    "dir(requests)"
   ]
  },
  {
   "cell_type": "code",
   "execution_count": 5,
   "metadata": {},
   "outputs": [
    {
     "name": "stdout",
     "output_type": "stream",
     "text": [
      "<Response [200]>\n"
     ]
    }
   ],
   "source": [
    "import requests #to send HTTP request to the web services\n",
    "\n",
    "response = requests.get('https://google.com/') #returns a response object  URL \n",
    "\n",
    "print(response)\n"
   ]
  },
  {
   "cell_type": "markdown",
   "metadata": {},
   "source": [
    "Request returns а Response, a powerful object for inspecting the results of the request.\n",
    "\n",
    "- Using Response,\n",
    "\n",
    "- you can examine the headers and contents of the response, get a dictionary with data from JSON in the response, and also determine how successful our access to the server was by the response code from it. In our example, the response code was 200"
   ]
  },
  {
   "cell_type": "markdown",
   "metadata": {},
   "source": [
    "### Status codes\n",
    "\n",
    "Status codes are returned with a response after each call to the server. They briefly describe the result of the call.\n",
    "\n",
    "- 200 – OK. The request was successful. The answer itself depends on the method used (GET, POST, etc.) and the API specification.\n",
    "\n",
    "- 204 – No Content. The server successfully processed the request and did not return any content.\n",
    "\n",
    "- 301 – Moved Permanently. The server responds that the requested page (endpoint) has been moved to another address and redirects to this address.\n",
    "- 400 – Bad Request. The server cannot process the request because the client-side errors (incorrect request format).\n",
    "\n",
    "- 401 – Unauthorized. Occurs when authentication was failed, due to incorrect credentials or even their absence.\n",
    "\n",
    "- 403 – Forbidden. Access to the specified resource is denied.\n",
    "\n",
    "- 404 – Not Found. The requested resource was not found on the server.\n",
    "\n",
    "- 500 – Internal Server Error. Occurs when an unknown error has occurred on the server."
   ]
  },
  {
   "cell_type": "code",
   "execution_count": 7,
   "metadata": {},
   "outputs": [
    {
     "name": "stdout",
     "output_type": "stream",
     "text": [
      "<Response [200]>\n",
      "True\n",
      "Request is successful.\n"
     ]
    }
   ],
   "source": [
    "import requests\n",
    "response = requests.get('https://google.com/') #returns a response object \n",
    "print(response)\n",
    "print(bool(response))\n",
    "if response:\n",
    "  print('Request is successful.')\n",
    "else:\n",
    "  print('Request returned an error.')"
   ]
  },
  {
   "cell_type": "markdown",
   "metadata": {},
   "source": [
    "### End points \n",
    "\n",
    "- Usually, an Endpoint is a specific address (for example, https://weather-in-london.com/forecast), \n",
    "\n",
    "- by referring to which you get access to certain features/data (in our case – the weather forecast for London). Commonly, the name (address) of the endpoint corresponds to the functionality it provides."
   ]
  },
  {
   "cell_type": "code",
   "execution_count": 11,
   "metadata": {},
   "outputs": [
    {
     "name": "stdout",
     "output_type": "stream",
     "text": [
      "{\"message\":\"API doesn't exists\"}\n",
      "<Response [404]>\n"
     ]
    }
   ],
   "source": [
    "import requests\n",
    "\n",
    "words = 30\n",
    "paragraphs = 1\n",
    "formats = 'text'\n",
    "\n",
    "response = requests.get(f\"https://alexnormand-dino-ipsum.p.rapidapi.com/?format={formats}&words={words}&paragraphs={paragraphs}\",\n",
    " \n",
    "                        headers={\n",
    "   \"X-RapidAPI-Host\": \"alexnormand-dino-ipsum.p.rapidapi.com\",\n",
    "   \"X-RapidAPI-Key\": \"xxxxxxxxxxxxxxxxxxxxxxxxxxxxxxxxxxxxxxxxxxxx\"\n",
    "                 }\n",
    ")\n",
    "print(response.text)\n",
    "print(response)"
   ]
  },
  {
   "cell_type": "code",
   "execution_count": 12,
   "metadata": {
    "scrolled": true
   },
   "outputs": [
    {
     "name": "stdout",
     "output_type": "stream",
     "text": [
      "{\"message\":\"API doesn't exists\"}\n",
      "<Response [404]>\n"
     ]
    }
   ],
   "source": [
    "#new api\n",
    "import requests\n",
    "\n",
    "url = \"https://alexnormand-dino-ipsum.p.rapidapi.com/\"\n",
    "\n",
    "querystring = {\"paragraphs\":\"10\",\"words\":\"30\",\"format\":\"html\"}\n",
    "\n",
    "headers = {\n",
    "    'x-rapidapi-host': \"alexnormand-dino-ipsum.p.rapidapi.com\",\n",
    "    'x-rapidapi-key': \"bbc4e72c95msh764d7107571c9ccp132292jsne000b3620c23\"\n",
    "    }\n",
    "\n",
    "response = requests.request(\"GET\", url, headers=headers, params=querystring)\n",
    "\n",
    "print(response.text)\n",
    "print(response)"
   ]
  },
  {
   "cell_type": "code",
   "execution_count": 13,
   "metadata": {},
   "outputs": [
    {
     "name": "stdout",
     "output_type": "stream",
     "text": [
      "<p>Rayososaurus Pachyspondylus Amargatitanis Zhuchengceratops Ganzhousaurus Sellosaurus Kazaklambia Dyoplosaurus Deltadromeus Zizhongosaurus.</p><p>Hallopus Shidaisaurus Kentrosaurus Aucasaurus Basutodon Anserimimus Stygivenator Sinusonasus Chubutisaurus Aggiosaurus.</p><p>Rahona Fusuisaurus Amazonsaurus Dashanpusaurus Ajkaceratops Ankylosaurus Amargasaurus Pawpawsaurus Avalonianus Corythosaurus.</p><p>Eotriceratops Probactrosaurus Basutodon Limaysaurus Clepsysaurus Arenysaurus Clarencea Diplodocus Dinotyrannus Chindesaurus.</p><p>Leonerasaurus Procompsognathus Beishanlong Microsaurops Shenzhousaurus Lagosuchus Tsintaosaurus Palaeosauriscus Hikanodon Cathetosaurus.</p><p>Mojoceratops Talarurus Australodocus Rahonavis Shaochilong Sanjuansaurus Triassolestes Nanyangosaurus Pterospondylus Alectrosaurus.</p><p>Macrogryphosaurus Falcarius Kaatedocus Albalophosaurus Astrodonius Citipati Kaijiangosaurus Teratophoneus Afrovenator Archaeodontosaurus.</p><p>Palaeopteryx Sulaimanisaurus Stereocephalus Neosodon Arkharavia Cathartesaura Lamplughsaura Dromicosaurus Sphenospondylus Bellusaurus.</p><p>Chirostenotes Dakosaurus Piveteausaurus Brachyceratops Tatankacephalus Asylosaurus Lariosaurus Stormbergia Manospondylus Nodocephalosaurus.</p><p>Batyrosaurus Onychosaurus Astrodonius Itemirus Archaeoceratops Dracopelta Comahuesaurus Texasetes Nopcsaspondylus Oxalaia.</p><p>Xuanhanosaurus Hesperosaurus Tyrannosaurus Struthiomimus Palaeopteryx Tanius Dynamosaurus Dakosaurus Khaan Philovenator.</p><p>Sinraptor Arrhinoceratops Calamosaurus Empaterias Ceratosaurus Zanabazar Malarguesaurus Mapusaurus Shuangmiaosaurus Clarencea.</p><p>Chaoyangosaurus Paronychodon Sinornithomimus Asiamericana Amygdalodon Proceratosaurus Scolosaurus Hallopus Kinnareemimus Astrodonius.</p><p>Spinosaurus Baryonyx Ruehleia Penelopognathus Archaeornis Tenontosaurus Xiongguanlong Australovenator Euoplocephalus Edmontosaurus.</p><p>Torvosaurus Neosodon Venaticosuchus Sinosaurus Tastavinsaurus Hypsibema Leipsanosaurus Sinocoelurus Therosaurus Chialingosaurus.</p><p>Caulodon Yinlong Rachitrema Deinodon Centrosaurus Xuanhuaceratops Chassternbergia Syrmosaurus Apatosaurus Acanthopholis.</p><p>Yuanmousaurus Carcharodontosaurus Plateosaurus Stegoceras Jiutaisaurus Pentaceratops Erketu Prosaurolophus Graciliraptor Procerosaurus.</p><p>Neovenator Huaxiaosaurus Ohmdenosaurus Antrodemus Tawasaurus Ajkaceratops Eodromaeus Iliosuchus Sarcosaurus Microsaurops.</p><p>Duriatitan Phuwiangosaurus Epichirostenotes Tsagantegia Veterupristisaurus Rinconsaurus Beishanlong Sarcolestes Xuanhanosaurus Nemegtomaia.</p><p>Wadhurstia Mei Hippodraco Polacanthus Rileya Andesaurus Microceratus Rajasaurus Vectisaurus Tawa.</p><p>Ponerosteus Hulsanpes Peltosaurus Scaphonyx Tawasaurus Dracovenator Majungasaurus Dynamosaurus Wintonotitan Hagryphus.</p><p>Cryptodraco Betasuchus Velociraptor Nomingia Cryolophosaurus Pantydraco Euoplocephalus Sphenospondylus Delapparentia Animantarx.</p><p>Pareiasaurus Eosinopteryx Elaphrosaurus Lufengocephalus Anoplosaurus Tehuelchesaurus Dongyangosaurus Marisaurus Huayangosaurus Naashoibitosaurus.</p><p>Montanoceratops Dinheirosaurus Anthodon Sellosaurus Chondrosteosaurus Bonapartenykus Australodocus Bactrosaurus Brachiosaurus Wannanosaurus.</p><p>Chungkingosaurus Pukyongosaurus Kemkemia Aepisaurus Fusuisaurus Amphisaurus Gasosaurus Orthogoniosaurus Heterodontosaurus Stephanosaurus.</p><p>Leyesaurus Animantarx Ankylosaurus Shixinggia Zuniceratops Huaxiaosaurus Dysganus Kangnasaurus Anabisetia Bainoceratops.</p><p>Amargatitanis Jenghizkhan Aggiosaurus Crichtonsaurus Nemegtia Sarcosaurus Oviraptor Changchunsaurus Anserimimus Parrosaurus.</p><p>Trachodon Claorhynchus Avalonianus Cylindricodon Pakisaurus Tarascosaurus Coelurosauravus Libycosaurus Rapator Chondrosteus.</p><p>Tendaguria Parvicursor Dyslocosaurus Eoraptor Asiatosaurus Caudipteryx Bahariasaurus Amargasaurus Orthogoniosaurus Thespesius.</p><p>Iuticosaurus Colonosaurus Coelosaurus Santanaraptor Saichania Ilokelesia Gongxianosaurus Daanosaurus Lambeosaurus Ampelosaurus.</p>\n",
      "<Response [200]>\n"
     ]
    }
   ],
   "source": [
    "import requests\n",
    "\n",
    "url = \"https://alexnormand-dino-ipsum.p.rapidapi.com/\"\n",
    "\n",
    "querystring = {\"paragraphs\":\"30\",\"words\":\"10\",\"format\":\"html\"}\n",
    "\n",
    "headers = {\n",
    "    'x-rapidapi-key': \"bbc4e72c95msh764d7107571c9ccp132292jsne000b3620c23\",\n",
    "    'x-rapidapi-host': \"alexnormand-dino-ipsum.p.rapidapi.com\"\n",
    "    }\n",
    "\n",
    "response = requests.request(\"GET\", url, headers=headers, params=querystring)\n",
    "\n",
    "print(response.text)\n",
    "print(response)"
   ]
  },
  {
   "cell_type": "markdown",
   "metadata": {},
   "source": [
    "#### JSON \n",
    "\n",
    "- JavaScript Object Notation (JSON)\n",
    "- It is a standardized format commonly used to transfer data as text that can be sent over a network. \n",
    "- It's used by lots of APIs and Databases, and it's easy for both humans and machines to read. \n",
    "- JSON represents objects as name/value pairs, just like a Python dictionary.\n",
    "\n",
    "- The previous version was XML\n",
    "\n",
    "- JSON is a syntax for storing and exchanging data."
   ]
  },
  {
   "cell_type": "markdown",
   "metadata": {},
   "source": [
    "- Python has a built-in package called json, which can be used to work with JSON data."
   ]
  },
  {
   "cell_type": "code",
   "execution_count": 13,
   "metadata": {},
   "outputs": [],
   "source": [
    "import json"
   ]
  },
  {
   "cell_type": "code",
   "execution_count": 14,
   "metadata": {},
   "outputs": [
    {
     "data": {
      "text/plain": [
       "['JSONDecodeError',\n",
       " 'JSONDecoder',\n",
       " 'JSONEncoder',\n",
       " '__all__',\n",
       " '__author__',\n",
       " '__builtins__',\n",
       " '__cached__',\n",
       " '__doc__',\n",
       " '__file__',\n",
       " '__loader__',\n",
       " '__name__',\n",
       " '__package__',\n",
       " '__path__',\n",
       " '__spec__',\n",
       " '__version__',\n",
       " '_default_decoder',\n",
       " '_default_encoder',\n",
       " 'codecs',\n",
       " 'decoder',\n",
       " 'detect_encoding',\n",
       " 'dump',\n",
       " 'dumps',\n",
       " 'encoder',\n",
       " 'load',\n",
       " 'loads',\n",
       " 'scanner']"
      ]
     },
     "execution_count": 14,
     "metadata": {},
     "output_type": "execute_result"
    }
   ],
   "source": [
    "dir(json)"
   ]
  },
  {
   "cell_type": "code",
   "execution_count": 15,
   "metadata": {
    "scrolled": true
   },
   "outputs": [
    {
     "name": "stdout",
     "output_type": "stream",
     "text": [
      "<class 'str'>\n",
      "{'name': 'John', 'age': 30, 'city': 'New York'}\n",
      "<class 'dict'>\n"
     ]
    }
   ],
   "source": [
    "#convert from JSON to Python\n",
    "x =  '{ \"name\":\"John\", \"age\":30, \"city\":\"New York\"}' #dict\n",
    "\n",
    "print(type(x))\n",
    "\n",
    "# parse x:\n",
    "y = json.loads(x)\n",
    "\n",
    "print(y)\n",
    "print(type(y))"
   ]
  },
  {
   "cell_type": "code",
   "execution_count": 17,
   "metadata": {},
   "outputs": [
    {
     "name": "stdout",
     "output_type": "stream",
     "text": [
      "30\n",
      "None\n"
     ]
    }
   ],
   "source": [
    "print(y['age'])\n",
    "print(y.get('city'))"
   ]
  },
  {
   "cell_type": "code",
   "execution_count": 14,
   "metadata": {},
   "outputs": [],
   "source": [
    "##Coverting python to json"
   ]
  },
  {
   "cell_type": "code",
   "execution_count": 18,
   "metadata": {
    "scrolled": true
   },
   "outputs": [
    {
     "name": "stdout",
     "output_type": "stream",
     "text": [
      "<class 'dict'>\n",
      "{\"name\": \"John\", \"age\": 30, \"city\": \"New York\"}\n",
      "<class 'str'>\n"
     ]
    }
   ],
   "source": [
    "import json\n",
    "\n",
    "# a Python object (dict):\n",
    "x = {\n",
    "  \"name\": \"John\",\n",
    "  \"age\": 30,\n",
    "  \"city\": \"New York\"\n",
    "}\n",
    "print(type(x))\n",
    "\n",
    "# convert into JSON:\n",
    "y = json.dumps(x)\n",
    "\n",
    "#the result is a JSON string\n",
    "print(y)\n",
    "print(type(y))"
   ]
  },
  {
   "cell_type": "code",
   "execution_count": 19,
   "metadata": {},
   "outputs": [
    {
     "name": "stdout",
     "output_type": "stream",
     "text": [
      "{\"name\": \"John\", \"age\": 30}\n",
      "[\"apple\", \"bananas\"]\n",
      "[\"apple\", \"bananas\"]\n",
      "\"hello\"\n",
      "42\n",
      "31.76\n",
      "true\n",
      "false\n",
      "null\n"
     ]
    }
   ],
   "source": [
    "import json\n",
    "\n",
    "print(json.dumps({\"name\": \"John\", \"age\": 30}))\n",
    "print(json.dumps([\"apple\", \"bananas\"]))\n",
    "print(json.dumps((\"apple\", \"bananas\")))\n",
    "print(json.dumps(\"hello\"))\n",
    "print(json.dumps(42))\n",
    "print(json.dumps(31.76))\n",
    "print(json.dumps(True))\n",
    "print(json.dumps(False))\n",
    "print(json.dumps(None))"
   ]
  },
  {
   "cell_type": "code",
   "execution_count": 18,
   "metadata": {},
   "outputs": [],
   "source": [
    "# Python\tJSON\n",
    "# dict\tObject\n",
    "# list\tArray\n",
    "# tuple\tArray\n",
    "# str\tString\n",
    "# int\tNumber\n",
    "# float\tNumber\n",
    "# True\ttrue\n",
    "# False\tfalse\n",
    "# None\tnull -->"
   ]
  },
  {
   "cell_type": "code",
   "execution_count": 4,
   "metadata": {},
   "outputs": [
    {
     "name": "stdout",
     "output_type": "stream",
     "text": [
      "{\"name\": \"John\", \"age\": 30, \"married\": true, \"divorced\": false, \"children\": [\"Ann\", \"Billy\"], \"pets\": null, \"cars\": [{\"model\": \"BMW 230\", \"mpg\": 27.5}, {\"model\": \"Ford Edge\", \"mpg\": 24.1}]}\n"
     ]
    }
   ],
   "source": [
    "import json\n",
    "\n",
    "x = {\n",
    "  \"name\": \"John\",\n",
    "  \"age\": 30,\n",
    "  \"married\": True,\n",
    "  \"divorced\": False,\n",
    "  \"children\": (\"Ann\",\"Billy\"),\n",
    "  \"pets\": None,\n",
    "  \"cars\": [\n",
    "    {\"model\": \"BMW 230\", \"mpg\": 27.5},\n",
    "    {\"model\": \"Ford Edge\", \"mpg\": 24.1}\n",
    "  ]\n",
    "}\n",
    "\n",
    "print(json.dumps(x))"
   ]
  },
  {
   "cell_type": "code",
   "execution_count": 21,
   "metadata": {},
   "outputs": [
    {
     "name": "stdout",
     "output_type": "stream",
     "text": [
      "{\n",
      "  \"name\": \"John\",\n",
      "  \"age\": 30,\n",
      "  \"married\": true,\n",
      "  \"divorced\": false,\n",
      "  \"children\": [\n",
      "    \"Ann\",\n",
      "    \"Billy\"\n",
      "  ],\n",
      "  \"pets\": null,\n",
      "  \"cars\": [\n",
      "    {\n",
      "      \"model\": \"BMW 230\",\n",
      "      \"mpg\": 27.5\n",
      "    },\n",
      "    {\n",
      "      \"model\": \"Ford Edge\",\n",
      "      \"mpg\": 24.1\n",
      "    }\n",
      "  ]\n",
      "}\n"
     ]
    }
   ],
   "source": [
    "# Use the indent parameter to define the numbers of indents:\n",
    "print(json.dumps(x, indent=2))"
   ]
  },
  {
   "cell_type": "code",
   "execution_count": 27,
   "metadata": {},
   "outputs": [
    {
     "name": "stdout",
     "output_type": "stream",
     "text": [
      "{\n",
      "  \"name\" = \"John\":\n",
      "  \"age\" = 30:\n",
      "  \"married\" = true:\n",
      "  \"divorced\" = false:\n",
      "  \"children\" = [\n",
      "    \"Ann\":\n",
      "    \"Billy\"\n",
      "  ]:\n",
      "  \"pets\" = null:\n",
      "  \"cars\" = [\n",
      "    {\n",
      "      \"model\" = \"BMW 230\":\n",
      "      \"mpg\" = 27.5\n",
      "    }:\n",
      "    {\n",
      "      \"model\" = \"Ford Edge\":\n",
      "      \"mpg\" = 24.1\n",
      "    }\n",
      "  ]\n",
      "}\n"
     ]
    }
   ],
   "source": [
    "# Use the separators parameter to change the default separator:\n",
    "print(json.dumps(x, indent=2, separators=(\":\", \" = \")))"
   ]
  },
  {
   "cell_type": "code",
   "execution_count": 28,
   "metadata": {},
   "outputs": [
    {
     "name": "stdout",
     "output_type": "stream",
     "text": [
      "{\n",
      "    \"age\": 30,\n",
      "    \"cars\": [\n",
      "        {\n",
      "            \"model\": \"BMW 230\",\n",
      "            \"mpg\": 27.5\n",
      "        },\n",
      "        {\n",
      "            \"model\": \"Ford Edge\",\n",
      "            \"mpg\": 24.1\n",
      "        }\n",
      "    ],\n",
      "    \"children\": [\n",
      "        \"Ann\",\n",
      "        \"Billy\"\n",
      "    ],\n",
      "    \"divorced\": false,\n",
      "    \"married\": true,\n",
      "    \"name\": \"John\",\n",
      "    \"pets\": null\n",
      "}\n"
     ]
    }
   ],
   "source": [
    "# The json.dumps() method has parameters to order the keys in the result:\n",
    "print(json.dumps(x, indent=4, sort_keys=True))"
   ]
  },
  {
   "cell_type": "code",
   "execution_count": 22,
   "metadata": {},
   "outputs": [
    {
     "name": "stdout",
     "output_type": "stream",
     "text": [
      "<class 'str'>\n",
      "{'message': \"API doesn't exists\"}\n"
     ]
    }
   ],
   "source": [
    "#old api\n",
    "import requests\n",
    "\n",
    "url = \"https://alexnormand-dino-ipsum.p.rapidapi.com/\"\n",
    "\n",
    "querystring = {\"paragraphs\":\"5\",\"words\":\"10\",\"format\":\"json\"}\n",
    "\n",
    "headers = {\n",
    "    'x-rapidapi-key': \"bbc4e72c95msh764d7107571c9ccp132292jsne000b3620c23\",\n",
    "    'x-rapidapi-host': \"alexnormand-dino-ipsum.p.rapidapi.com\"\n",
    "    }\n",
    "\n",
    "response = requests.request(\"GET\", url, headers=headers, params=querystring)\n",
    "\n",
    "return_var = response.text\n",
    "print(type(return_var))\n",
    "\n",
    "print(json.loads(return_var))"
   ]
  },
  {
   "cell_type": "code",
   "execution_count": 25,
   "metadata": {},
   "outputs": [
    {
     "name": "stdout",
     "output_type": "stream",
     "text": [
      "<Response [404]>\n",
      "{\"message\":\"API doesn't exists\"}\n"
     ]
    }
   ],
   "source": [
    "#new api\n",
    "import requests\n",
    "\n",
    "\n",
    "url = \"https://alexnormand-dino-ipsum.p.rapidapi.com/\"\n",
    "\n",
    "querystring = {\"paragraphs\":\"10\",\"words\":\"10\",\"format\":\"json\"}\n",
    "\n",
    "headers = {\n",
    "    'x-rapidapi-key': \"bbc4e72c95msh764d7107571c9ccp132292jsne000b3620c23\",\n",
    "    'x-rapidapi-host': \"alexnormand-dino-ipsum.p.rapidapi.com\"\n",
    "    \n",
    "    }\n",
    "\n",
    "response = requests.request(\"GET\", url, headers=headers, params=querystring)\n",
    "\n",
    "\n",
    "print(response)\n",
    "return_var = response.text\n",
    "print(return_var)\n",
    "# print(type(return_var))\n",
    "\n",
    "# print(json.loads(return_var)) #converting json-> python using loads methods"
   ]
  },
  {
   "cell_type": "code",
   "execution_count": 28,
   "metadata": {},
   "outputs": [
    {
     "name": "stdout",
     "output_type": "stream",
     "text": [
      "{\"cities\":[{\"country\":\"Turkey\",\"name\":\"Kocaeli\"},{\"country\":\"Czech Republic\",\"name\":\"Ostrava\"},{\"country\":\"United States\",\"name\":\"Santa Clara\"},{\"country\":\"United States\",\"name\":\"Iowa City\"},{\"country\":\"United Kingdom\",\"name\":\"Bournemouth\"},{\"country\":\"Montenegro\",\"name\":\"Podgorica\"},{\"country\":\"United States\",\"name\":\"Toledo\"},{\"country\":\"United Kingdom\",\"name\":\"Milton Keynes\"},{\"country\":\"India\",\"name\":\"Mangalore\"},{\"country\":\"Malaysia\",\"name\":\"Johor Bahru\"},{\"country\":\"Canada\",\"name\":\"St. John's\"},{\"country\":\"Pakistan\",\"name\":\"Islamabad\"},{\"country\":\"Norway\",\"name\":\"Trondheim\"},{\"country\":\"India\",\"name\":\"Nagpur\"},{\"country\":\"Czech Republic\",\"name\":\"Olomouc\"},{\"country\":\"Netherlands\",\"name\":\"Best\"},{\"country\":\"Ukraine\",\"name\":\"Zaporizhzhya\"},{\"country\":\"India\",\"name\":\"Mysore\"},{\"country\":\"China\",\"name\":\"Beijing\"},{\"country\":\"North Macedonia\",\"name\":\"Skopje\"},{\"country\":\"Philippines\",\"name\":\"Manila\"},{\"country\":\"Netherlands\",\"name\":\"Rotterdam\"},{\"country\":\"Brazil\",\"name\":\"Goiania\"},{\"country\":\"Austria\",\"name\":\"Salzburg\"},{\"country\":\"Germany\",\"name\":\"Frankfurt\"},{\"country\":\"Canada\",\"name\":\"North Vancouver\"},{\"country\":\"India\",\"name\":\"Ludhiana\"},{\"country\":\"Israel\",\"name\":\"Jerusalem\"},{\"country\":\"Afghanistan\",\"name\":\"Kabul\"},{\"country\":\"Romania\",\"name\":\"Iasi\"},{\"country\":\"United Kingdom\",\"name\":\"Bristol\"},{\"country\":\"Ecuador\",\"name\":\"Guayaquil\"},{\"country\":\"Georgia\",\"name\":\"Batumi\"},{\"country\":\"Botswana\",\"name\":\"Gaborone\"},{\"country\":\"Brazil\",\"name\":\"Natal\"},{\"country\":\"Trinidad And Tobago\",\"name\":\"Port of Spain\"},{\"country\":\"Belgium\",\"name\":\"Antwerp\"},{\"country\":\"Austria\",\"name\":\"Vienna\"},{\"country\":\"France\",\"name\":\"Lille\"},{\"country\":\"Poland\",\"name\":\"Olsztyn\"},{\"country\":\"Canada\",\"name\":\"Red Deer\"},{\"country\":\"Turkey\",\"name\":\"Izmir\"},{\"country\":\"Kosovo (Disputed Territory)\",\"name\":\"Pristina\"},{\"country\":\"Morocco\",\"name\":\"Agadir\"},{\"country\":\"United States\",\"name\":\"Detroit\"},{\"country\":\"United Kingdom\",\"name\":\"Cambridge\"},{\"country\":\"Russia\",\"name\":\"Krasnoyarsk\"},{\"country\":\"Belgium\",\"name\":\"Gent\"},{\"country\":\"United States\",\"name\":\"Fort Lauderdale\"},{\"country\":\"Finland\",\"name\":\"Helsinki\"},{\"country\":\"Mexico\",\"name\":\"Hermosillo\"},{\"country\":\"United States\",\"name\":\"Dallas\"},{\"country\":\"Canada\",\"name\":\"Winnipeg\"},{\"country\":\"Germany\",\"name\":\"Munich\"},{\"country\":\"United States\",\"name\":\"Chattanooga\"},{\"country\":\"United States\",\"name\":\"Charleston\"},{\"country\":\"China\",\"name\":\"Hangzhou\"},{\"country\":\"Cuba\",\"name\":\"Havana\"},{\"country\":\"Russia\",\"name\":\"Samara\"},{\"country\":\"United States\",\"name\":\"Kansas City\"},{\"country\":\"Italy\",\"name\":\"Cagliari\"},{\"country\":\"United Kingdom\",\"name\":\"Cardiff\"},{\"country\":\"Russia\",\"name\":\"Novosibirsk\"},{\"country\":\"Moldova\",\"name\":\"Chisinau\"},{\"country\":\"Bolivia\",\"name\":\"La Paz\"},{\"country\":\"Poland\",\"name\":\"Bialystok\"},{\"country\":\"Bosnia And Herzegovina\",\"name\":\"Sarajevo\"},{\"country\":\"United States\",\"name\":\"Fort Collins\"},{\"country\":\"Canada\",\"name\":\"Toronto\"},{\"country\":\"United States\",\"name\":\"Akron\"},{\"country\":\"Indonesia\",\"name\":\"Jakarta\"},{\"country\":\"United Kingdom\",\"name\":\"Aberdeen\"},{\"country\":\"Turkey\",\"name\":\"Istanbul\"},{\"country\":\"Russia\",\"name\":\"Nizhny Novgorod\"},{\"country\":\"Portugal\",\"name\":\"Braga\"},{\"country\":\"Germany\",\"name\":\"Ulm\"},{\"country\":\"Taiwan\",\"name\":\"Kaohsiung\"},{\"country\":\"United States\",\"name\":\"Denver\"},{\"country\":\"Russia\",\"name\":\"Moscow\"},{\"country\":\"Lithuania\",\"name\":\"Kaunas\"},{\"country\":\"United Kingdom\",\"name\":\"Brighton\"},{\"country\":\"United States\",\"name\":\"Bellingham\"},{\"country\":\"Taiwan\",\"name\":\"Taipei\"},{\"country\":\"Romania\",\"name\":\"Craiova\"},{\"country\":\"United Kingdom\",\"name\":\"Stoke-on-Trent\"},{\"country\":\"Belgium\",\"name\":\"Brussels\"},{\"country\":\"Greece\",\"name\":\"Patras\"},{\"country\":\"Thailand\",\"name\":\"Bangkok\"},{\"country\":\"India\",\"name\":\"Surat\"},{\"country\":\"United States\",\"name\":\"Saint Louis\"},{\"country\":\"United States\",\"name\":\"Jersey City\"},{\"country\":\"Palestine\",\"name\":\"Ramallah\"},{\"country\":\"Slovakia\",\"name\":\"Kosice\"},{\"country\":\"Senegal\",\"name\":\"Dakar\"},{\"country\":\"India\",\"name\":\"Noida\"},{\"country\":\"India\",\"name\":\"Madurai\"},{\"country\":\"Germany\",\"name\":\"Karlsruhe\"},{\"country\":\"Russia\",\"name\":\"Perm\"},{\"country\":\"United Kingdom\",\"name\":\"Birmingham\"},{\"country\":\"Lithuania\",\"name\":\"Klaipeda\"},{\"country\":\"Canada\",\"name\":\"Markham\"},{\"country\":\"Myanmar\",\"name\":\"Yangon\"},{\"country\":\"United States\",\"name\":\"Ann Arbor\"},{\"country\":\"Canada\",\"name\":\"Kelowna\"},{\"country\":\"Azerbaijan\",\"name\":\"Baku\"},{\"country\":\"Jamaica\",\"name\":\"Kingston\"},{\"country\":\"Netherlands\",\"name\":\"Maastricht\"},{\"country\":\"Poland\",\"name\":\"Wroclaw\"},{\"country\":\"Italy\",\"name\":\"Verona\"},{\"country\":\"United Kingdom\",\"name\":\"Guildford\"},{\"country\":\"India\",\"name\":\"Ranchi\"},{\"country\":\"Brazil\",\"name\":\"Sao Paulo\"},{\"country\":\"Jordan\",\"name\":\"Amman\"},{\"country\":\"South Africa\",\"name\":\"Pretoria\"},{\"country\":\"Poland\",\"name\":\"Krakow (Cracow)\"},{\"country\":\"Switzerland\",\"name\":\"Zurich\"},{\"country\":\"Norway\",\"name\":\"Bergen\"},{\"country\":\"Luxembourg\",\"name\":\"Luxembourg\"},{\"country\":\"Canada\",\"name\":\"Kingston\"},{\"country\":\"Canada\",\"name\":\"Ottawa\"},{\"country\":\"Singapore\",\"name\":\"Singapore\"},{\"country\":\"Greece\",\"name\":\"Thessaloniki\"},{\"country\":\"United States\",\"name\":\"Syracuse\"},{\"country\":\"Portugal\",\"name\":\"Aveiro\"},{\"country\":\"Romania\",\"name\":\"Arad\"},{\"country\":\"Brazil\",\"name\":\"Brasilia\"},{\"country\":\"Canada\",\"name\":\"Fredericton\"},{\"country\":\"India\",\"name\":\"Patna\"},{\"country\":\"Ivory Coast\",\"name\":\"Abidjan\"},{\"country\":\"Thailand\",\"name\":\"Chiang Mai\"},{\"country\":\"Iceland\",\"name\":\"Reykjavik\"},{\"country\":\"Iran\",\"name\":\"Isfahan (Esfahan)\"},{\"country\":\"United States\",\"name\":\"Boise\"},{\"country\":\"Australia\",\"name\":\"Darwin\"},{\"country\":\"Cyprus\",\"name\":\"Larnaca\"},{\"country\":\"United Kingdom\",\"name\":\"Derby\"},{\"country\":\"India\",\"name\":\"Navi Mumbai\"},{\"country\":\"Saudi Arabia\",\"name\":\"Al Khobar\"},{\"country\":\"Fiji\",\"name\":\"Suva\"},{\"country\":\"Canada\",\"name\":\"Burnaby\"},{\"country\":\"New Zealand\",\"name\":\"Auckland\"},{\"country\":\"Colombia\",\"name\":\"Barranquilla\"},{\"country\":\"France\",\"name\":\"Grenoble\"},{\"country\":\"China\",\"name\":\"Guangzhou\"},{\"country\":\"Finland\",\"name\":\"Espoo\"},{\"country\":\"China\",\"name\":\"Nanjing\"},{\"country\":\"United States\",\"name\":\"Sacramento\"},{\"country\":\"Canada\",\"name\":\"Victoria\"},{\"country\":\"Australia\",\"name\":\"Hobart\"},{\"country\":\"Germany\",\"name\":\"Nuremberg\"},{\"country\":\"Germany\",\"name\":\"Dortmund\"},{\"country\":\"Lebanon\",\"name\":\"Beirut\"},{\"country\":\"Philippines\",\"name\":\"Quezon City\"},{\"country\":\"Russia\",\"name\":\"Tyumen\"},{\"country\":\"South Africa\",\"name\":\"Durban\"},{\"country\":\"Uzbekistan\",\"name\":\"Tashkent\"},{\"country\":\"United States\",\"name\":\"Tacoma\"},{\"country\":\"United States\",\"name\":\"Cincinnati\"},{\"country\":\"Ukraine\",\"name\":\"Cherkasy\"},{\"country\":\"Russia\",\"name\":\"Saint Petersburg\"},{\"country\":\"Ukraine\",\"name\":\"Kharkiv\"},{\"country\":\"Poland\",\"name\":\"Rzeszow\"},{\"country\":\"Iraq\",\"name\":\"Baghdad\"},{\"country\":\"Denmark\",\"name\":\"Odense\"},{\"country\":\"Malaysia\",\"name\":\"Kuala Lumpur\"},{\"country\":\"Germany\",\"name\":\"Leipzig\"},{\"country\":\"Bulgaria\",\"name\":\"Sofia\"},{\"country\":\"Iran\",\"name\":\"Mashhad\"},{\"country\":\"Mexico\",\"name\":\"Guadalajara\"},{\"country\":\"Saudi Arabia\",\"name\":\"Jeddah (Jiddah)\"},{\"country\":\"United Kingdom\",\"name\":\"Belfast\"},{\"country\":\"Ecuador\",\"name\":\"Quito\"},{\"country\":\"United States\",\"name\":\"Los Angeles\"},{\"country\":\"Canada\",\"name\":\"Kitchener\"},{\"country\":\"India\",\"name\":\"Chennai\"},{\"country\":\"United States\",\"name\":\"Tulsa\"},{\"country\":\"India\",\"name\":\"Kanpur\"},{\"country\":\"Ireland\",\"name\":\"Waterford\"},{\"country\":\"Bulgaria\",\"name\":\"Plovdiv\"},{\"country\":\"United States\",\"name\":\"Baton Rouge\"},{\"country\":\"United States\",\"name\":\"Louisville\"},{\"country\":\"Chile\",\"name\":\"Santiago\"},{\"country\":\"United Kingdom\",\"name\":\"Swansea\"},{\"country\":\"United States\",\"name\":\"Seattle\"},{\"country\":\"Peru\",\"name\":\"Lima\"},{\"country\":\"United States\",\"name\":\"Des Moines\"},{\"country\":\"Romania\",\"name\":\"Constanta\"},{\"country\":\"Bulgaria\",\"name\":\"Burgas\"},{\"country\":\"United Kingdom\",\"name\":\"Oxford\"},{\"country\":\"Costa Rica\",\"name\":\"San Jose\"},{\"country\":\"Egypt\",\"name\":\"Alexandria\"},{\"country\":\"Italy\",\"name\":\"Florence\"},{\"country\":\"Sweden\",\"name\":\"Uppsala\"},{\"country\":\"United Kingdom\",\"name\":\"Nottingham\"},{\"country\":\"Tanzania\",\"name\":\"Dar es Salaam\"},{\"country\":\"Israel\",\"name\":\"Haifa\"},{\"country\":\"Ukraine\",\"name\":\"Kiev (Kyiv)\"},{\"country\":\"Spain\",\"name\":\"Bilbao\"},{\"country\":\"Poland\",\"name\":\"Lodz\"},{\"country\":\"Portugal\",\"name\":\"Porto\"},{\"country\":\"United Kingdom\",\"name\":\"Sheffield\"},{\"country\":\"Russia\",\"name\":\"Izhevsk\"},{\"country\":\"India\",\"name\":\"Rajkot\"},{\"country\":\"India\",\"name\":\"Thane\"},{\"country\":\"Albania\",\"name\":\"Tirana\"},{\"country\":\"Latvia\",\"name\":\"Riga\"},{\"country\":\"United States\",\"name\":\"Albany\"},{\"country\":\"Spain\",\"name\":\"Malaga\"},{\"country\":\"United States\",\"name\":\"Raleigh\"},{\"country\":\"Saudi Arabia\",\"name\":\"Ad Dammam\"},{\"country\":\"Mexico\",\"name\":\"Playa del Carmen\"},{\"country\":\"Canada\",\"name\":\"Surrey\"},{\"country\":\"Guatemala\",\"name\":\"Guatemala City\"},{\"country\":\"Italy\",\"name\":\"Palermo\"},{\"country\":\"Russia\",\"name\":\"Saratov\"},{\"country\":\"Norway\",\"name\":\"Tromso\"},{\"country\":\"Netherlands\",\"name\":\"Delft\"},{\"country\":\"Switzerland\",\"name\":\"Zug\"},{\"country\":\"Croatia\",\"name\":\"Rijeka\"},{\"country\":\"Barbados\",\"name\":\"Barbados\"},{\"country\":\"United States\",\"name\":\"Asheville\"},{\"country\":\"Russia\",\"name\":\"Vladivostok\"},{\"country\":\"United Kingdom\",\"name\":\"Dundee\"},{\"country\":\"Italy\",\"name\":\"Naples\"},{\"country\":\"India\",\"name\":\"Coimbatore\"},{\"country\":\"Ethiopia\",\"name\":\"Addis Ababa\"},{\"country\":\"Portugal\",\"name\":\"Leiria\"},{\"country\":\"Brazil\",\"name\":\"Salvador\"},{\"country\":\"Germany\",\"name\":\"Mainz\"},{\"country\":\"United States\",\"name\":\"Long Beach\"},{\"country\":\"Romania\",\"name\":\"Cluj-Napoca\"},{\"country\":\"United States\",\"name\":\"Knoxville\"},{\"country\":\"United States\",\"name\":\"Colorado Springs\"},{\"country\":\"Iraq\",\"name\":\"As Sulaymaniyah\"},{\"country\":\"Suriname\",\"name\":\"Paramaribo\"},{\"country\":\"Italy\",\"name\":\"Rome\"},{\"country\":\"Slovenia\",\"name\":\"Ljubljana\"},{\"country\":\"Philippines\",\"name\":\"Baguio\"},{\"country\":\"Poland\",\"name\":\"Gdynia\"},{\"country\":\"Italy\",\"name\":\"Padova\"},{\"country\":\"India\",\"name\":\"Vadodara\"},{\"country\":\"Netherlands\",\"name\":\"Amsterdam\"},{\"country\":\"Hungary\",\"name\":\"Debrecen\"},{\"country\":\"United States\",\"name\":\"Santa Barbara\"},{\"country\":\"Ukraine\",\"name\":\"Ternopil\"},{\"country\":\"Russia\",\"name\":\"Kaliningrad\"},{\"country\":\"Nigeria\",\"name\":\"Lagos\"},{\"country\":\"Italy\",\"name\":\"Trento\"},{\"country\":\"United States\",\"name\":\"Chicago\"},{\"country\":\"France\",\"name\":\"Toulouse\"},{\"country\":\"Canada\",\"name\":\"Saint John\"},{\"country\":\"United States\",\"name\":\"Olympia\"},{\"country\":\"Mexico\",\"name\":\"Monterrey\"},{\"country\":\"Hungary\",\"name\":\"Budapest\"},{\"country\":\"Bangladesh\",\"name\":\"Dhaka\"},{\"country\":\"Hungary\",\"name\":\"Szeged\"},{\"country\":\"United States\",\"name\":\"Las Vegas\"},{\"country\":\"Vietnam\",\"name\":\"Da Nang\"},{\"country\":\"Netherlands\",\"name\":\"Nijmegen\"},{\"country\":\"Mexico\",\"name\":\"Merida\"},{\"country\":\"United Kingdom\",\"name\":\"Liverpool\"},{\"country\":\"Kyrgyzstan\",\"name\":\"Bishkek\"},{\"country\":\"Tunisia\",\"name\":\"Tunis\"},{\"country\":\"Italy\",\"name\":\"Bergamo\"},{\"country\":\"United States\",\"name\":\"Tucson\"},{\"country\":\"Bermuda\",\"name\":\"Hamilton\"},{\"country\":\"United Kingdom\",\"name\":\"Exeter\"},{\"country\":\"United Arab Emirates\",\"name\":\"Ajman\"},{\"country\":\"Mozambique\",\"name\":\"Maputo\"},{\"country\":\"Germany\",\"name\":\"Regensburg\"},{\"country\":\"Paraguay\",\"name\":\"Asuncion\"},{\"country\":\"United States\",\"name\":\"Cleveland\"},{\"country\":\"Malaysia\",\"name\":\"Kota Kinabalu\"},{\"country\":\"United States\",\"name\":\"Charlotte\"},{\"country\":\"Spain\",\"name\":\"Alicante\"},{\"country\":\"United Kingdom\",\"name\":\"Edinburgh\"},{\"country\":\"Switzerland\",\"name\":\"Basel\"},{\"country\":\"Estonia\",\"name\":\"Tartu\"},{\"country\":\"United States\",\"name\":\"Richmond\"},{\"country\":\"India\",\"name\":\"Kochi\"},{\"country\":\"China\",\"name\":\"Chengdu\"},{\"country\":\"Russia\",\"name\":\"Kazan\"},{\"country\":\"Italy\",\"name\":\"Pisa\"},{\"country\":\"United States\",\"name\":\"Saint Paul\"},{\"country\":\"France\",\"name\":\"Antibes\"},{\"country\":\"Kenya\",\"name\":\"Nairobi\"},{\"country\":\"United States\",\"name\":\"Baltimore\"},{\"country\":\"Vietnam\",\"name\":\"Ho Chi Minh City\"},{\"country\":\"Netherlands\",\"name\":\"The Hague (Den Haag)\"},{\"country\":\"Ukraine\",\"name\":\"Dnipro\"},{\"country\":\"Czech Republic\",\"name\":\"Prague\"},{\"country\":\"Mexico\",\"name\":\"Zapopan\"},{\"country\":\"United States\",\"name\":\"Fremont\"},{\"country\":\"Puerto Rico\",\"name\":\"San Juan\"},{\"country\":\"Egypt\",\"name\":\"Cairo\"},{\"country\":\"Austria\",\"name\":\"Graz\"},{\"country\":\"Bolivia\",\"name\":\"Santa Cruz\"},{\"country\":\"Slovakia\",\"name\":\"Bratislava\"},{\"country\":\"United States\",\"name\":\"San Diego\"},{\"country\":\"Croatia\",\"name\":\"Dubrovnik\"},{\"country\":\"Greece\",\"name\":\"Larissa\"},{\"country\":\"Spain\",\"name\":\"Seville (Sevilla)\"},{\"country\":\"Canada\",\"name\":\"Saint John's\"},{\"country\":\"Nepal\",\"name\":\"Kathmandu\"},{\"country\":\"Mexico\",\"name\":\"Aguascalientes\"},{\"country\":\"United States\",\"name\":\"Henderson\"},{\"country\":\"Germany\",\"name\":\"Darmstadt\"},{\"country\":\"Taiwan\",\"name\":\"New Taipei City\"},{\"country\":\"Australia\",\"name\":\"Gold Coast\"},{\"country\":\"Japan\",\"name\":\"Nagoya\"},{\"country\":\"Philippines\",\"name\":\"Makati\"},{\"country\":\"United States\",\"name\":\"Brooklyn\"},{\"country\":\"China\",\"name\":\"Shenzhen\"},{\"country\":\"Cyprus\",\"name\":\"Nicosia\"},{\"country\":\"Indonesia\",\"name\":\"Surabaya\"},{\"country\":\"Italy\",\"name\":\"Turin\"},{\"country\":\"India\",\"name\":\"Raipur\"},{\"country\":\"United States\",\"name\":\"Portland\"},{\"country\":\"Canada\",\"name\":\"Quebec City\"},{\"country\":\"Australia\",\"name\":\"Sydney\"},{\"country\":\"Mexico\",\"name\":\"Puebla\"},{\"country\":\"Russia\",\"name\":\"Omsk\"},{\"country\":\"Philippines\",\"name\":\"Cebu\"},{\"country\":\"Germany\",\"name\":\"Aachen\"},{\"country\":\"Poland\",\"name\":\"Lublin\"},{\"country\":\"Canada\",\"name\":\"Mississauga\"},{\"country\":\"United States\",\"name\":\"Sarasota\"},{\"country\":\"India\",\"name\":\"Ernakulam\"},{\"country\":\"Russia\",\"name\":\"Yekaterinburg\"},{\"country\":\"Lithuania\",\"name\":\"Vilnius\"},{\"country\":\"Colombia\",\"name\":\"Cali\"},{\"country\":\"Portugal\",\"name\":\"Cascais\"},{\"country\":\"Netherlands\",\"name\":\"Utrecht\"},{\"country\":\"Morocco\",\"name\":\"Casablanca\"},{\"country\":\"Serbia\",\"name\":\"Nis\"},{\"country\":\"United States\",\"name\":\"Greensboro\"},{\"country\":\"India\",\"name\":\"Goa\"},{\"country\":\"Spain\",\"name\":\"Madrid\"},{\"country\":\"United States\",\"name\":\"Salt Lake City\"},{\"country\":\"Croatia\",\"name\":\"Osijek\"},{\"country\":\"Cambodia\",\"name\":\"Phnom Penh\"},{\"country\":\"United States\",\"name\":\"Omaha\"},{\"country\":\"Brazil\",\"name\":\"Joinville\"},{\"country\":\"Ecuador\",\"name\":\"Cuenca\"},{\"country\":\"Germany\",\"name\":\"Dusseldorf\"},{\"country\":\"China\",\"name\":\"Suzhou\"},{\"country\":\"United States\",\"name\":\"Orlando\"},{\"country\":\"India\",\"name\":\"Thrissur\"},{\"country\":\"United States\",\"name\":\"Birmingham\"},{\"country\":\"France\",\"name\":\"Paris\"},{\"country\":\"Netherlands\",\"name\":\"Haarlem\"},{\"country\":\"United States\",\"name\":\"Austin\"},{\"country\":\"Colombia\",\"name\":\"Bucaramanga\"},{\"country\":\"United States\",\"name\":\"Boston\"},{\"country\":\"Indonesia\",\"name\":\"Bali\"},{\"country\":\"Poland\",\"name\":\"Gdansk\"},{\"country\":\"United Kingdom\",\"name\":\"Manchester\"},{\"country\":\"Canada\",\"name\":\"Saskatoon\"},{\"country\":\"United Kingdom\",\"name\":\"Reading\"},{\"country\":\"Colombia\",\"name\":\"Medellin\"},{\"country\":\"Israel\",\"name\":\"Beersheba\"},{\"country\":\"Australia\",\"name\":\"Melbourne\"},{\"country\":\"Canada\",\"name\":\"Guelph\"},{\"country\":\"Sweden\",\"name\":\"Gothenburg\"},{\"country\":\"Brazil\",\"name\":\"Curitiba\"},{\"country\":\"Hong Kong\",\"name\":\"Hong Kong\"},{\"country\":\"United States\",\"name\":\"Lexington\"},{\"country\":\"Armenia\",\"name\":\"Yerevan\"},{\"country\":\"Philippines\",\"name\":\"Davao\"},{\"country\":\"Dominican Republic\",\"name\":\"Santo Domingo\"},{\"country\":\"Australia\",\"name\":\"Canberra\"},{\"country\":\"Canada\",\"name\":\"Regina\"},{\"country\":\"United States\",\"name\":\"Queens\"},{\"country\":\"United Kingdom\",\"name\":\"Newcastle upon Tyne\"},{\"country\":\"United Kingdom\",\"name\":\"Portsmouth\"},{\"country\":\"Italy\",\"name\":\"Milan\"},{\"country\":\"United States\",\"name\":\"Wichita\"},{\"country\":\"United States\",\"name\":\"Jacksonville\"},{\"country\":\"South Korea\",\"name\":\"Seoul\"},{\"country\":\"Vietnam\",\"name\":\"Hanoi\"},{\"country\":\"United States\",\"name\":\"Phoenix\"},{\"country\":\"India\",\"name\":\"Lucknow (Lakhnau)\"},{\"country\":\"Georgia\",\"name\":\"Tbilisi\"},{\"country\":\"Syria\",\"name\":\"Damascus\"},{\"country\":\"Germany\",\"name\":\"Hanover\"},{\"country\":\"Kazakhstan\",\"name\":\"Almaty\"},{\"country\":\"Italy\",\"name\":\"Parma\"},{\"country\":\"Canada\",\"name\":\"Windsor\"},{\"country\":\"United States\",\"name\":\"Everett\"},{\"country\":\"South Africa\",\"name\":\"Johannesburg\"},{\"country\":\"France\",\"name\":\"Montpellier\"},{\"country\":\"Oman\",\"name\":\"Muscat\"},{\"country\":\"Turkey\",\"name\":\"Antalya\"},{\"country\":\"Germany\",\"name\":\"Stuttgart\"},{\"country\":\"Morocco\",\"name\":\"Rabat\"},{\"country\":\"Germany\",\"name\":\"Dresden\"},{\"country\":\"Russia\",\"name\":\"Volgograd\"},{\"country\":\"United Kingdom\",\"name\":\"Leeds\"},{\"country\":\"United States\",\"name\":\"Vancouver\"},{\"country\":\"United Kingdom\",\"name\":\"Norwich\"},{\"country\":\"Denmark\",\"name\":\"Copenhagen\"},{\"country\":\"Kazakhstan\",\"name\":\"Astana (Nur-Sultan)\"},{\"country\":\"United States\",\"name\":\"Dayton\"},{\"country\":\"Colombia\",\"name\":\"Bogota\"},{\"country\":\"United States\",\"name\":\"Bellevue\"},{\"country\":\"Mexico\",\"name\":\"Mexico City\"},{\"country\":\"Switzerland\",\"name\":\"Lugano\"},{\"country\":\"Belgium\",\"name\":\"Leuven\"},{\"country\":\"United States\",\"name\":\"Oklahoma City\"},{\"country\":\"Turkey\",\"name\":\"Adana\"},{\"country\":\"France\",\"name\":\"Lyon\"},{\"country\":\"Spain\",\"name\":\"Las Palmas de Gran Canaria\"},{\"country\":\"Canada\",\"name\":\"Halifax\"},{\"country\":\"Saudi Arabia\",\"name\":\"Riyadh\"},{\"country\":\"Russia\",\"name\":\"Krasnodar\"},{\"country\":\"Ukraine\",\"name\":\"Mykolaiv\"},{\"country\":\"Romania\",\"name\":\"Timisoara\"},{\"country\":\"Russia\",\"name\":\"Rostov-na-donu\"},{\"country\":\"United States\",\"name\":\"San Francisco\"},{\"country\":\"Zimbabwe\",\"name\":\"Harare\"},{\"country\":\"United Arab Emirates\",\"name\":\"Dubai\"},{\"country\":\"Croatia\",\"name\":\"Zadar\"},{\"country\":\"Russia\",\"name\":\"Tomsk\"},{\"country\":\"United States\",\"name\":\"Columbus\"},{\"country\":\"Romania\",\"name\":\"Bucharest\"},{\"country\":\"Netherlands\",\"name\":\"Breda\"},{\"country\":\"Germany\",\"name\":\"Bremen\"},{\"country\":\"Brazil\",\"name\":\"Fortaleza\"},{\"country\":\"New Zealand\",\"name\":\"Hamilton\"},{\"country\":\"United Kingdom\",\"name\":\"Kingston upon Hull\"},{\"country\":\"United States\",\"name\":\"Fresno\"},{\"country\":\"Japan\",\"name\":\"Osaka\"},{\"country\":\"Jersey\",\"name\":\"Saint Helier\"},{\"country\":\"Japan\",\"name\":\"Tokyo\"},{\"country\":\"Canada\",\"name\":\"Vancouver\"},{\"country\":\"Norway\",\"name\":\"Oslo\"},{\"country\":\"Ireland\",\"name\":\"Galway\"},{\"country\":\"United States\",\"name\":\"Houston\"},{\"country\":\"Bulgaria\",\"name\":\"Varna\"},{\"country\":\"United States\",\"name\":\"Mesa\"},{\"country\":\"Germany\",\"name\":\"Erlangen\"},{\"country\":\"Canada\",\"name\":\"Montreal\"},{\"country\":\"China\",\"name\":\"Wuhan\"},{\"country\":\"Canada\",\"name\":\"St.Catharines\"},{\"country\":\"Bahamas\",\"name\":\"Nassau\"},{\"country\":\"Pakistan\",\"name\":\"Peshawar\"},{\"country\":\"India\",\"name\":\"Bhopal\"},{\"country\":\"United States\",\"name\":\"Memphis\"},{\"country\":\"United States\",\"name\":\"San Antonio\"},{\"country\":\"Mexico\",\"name\":\"Puerto Vallarta\"},{\"country\":\"Russia\",\"name\":\"Irkutsk\"},{\"country\":\"Brazil\",\"name\":\"Campinas\"},{\"country\":\"Hungary\",\"name\":\"Pecs\"},{\"country\":\"Austria\",\"name\":\"Linz\"},{\"country\":\"Rwanda\",\"name\":\"Kigali\"},{\"country\":\"India\",\"name\":\"Bhubaneswar\"},{\"country\":\"Germany\",\"name\":\"Cologne\"},{\"country\":\"Turkey\",\"name\":\"Ankara\"},{\"country\":\"United States\",\"name\":\"Durham\"},{\"country\":\"Malta\",\"name\":\"Valletta\"},{\"country\":\"Canada\",\"name\":\"Brampton\"},{\"country\":\"Brazil\",\"name\":\"Recife\"},{\"country\":\"Iran\",\"name\":\"Tehran\"},{\"country\":\"Switzerland\",\"name\":\"Geneva\"},{\"country\":\"Netherlands\",\"name\":\"Groningen\"},{\"country\":\"Morocco\",\"name\":\"Tangier\"},{\"country\":\"China\",\"name\":\"Shanghai\"},{\"country\":\"United Kingdom\",\"name\":\"Southampton\"},{\"country\":\"Italy\",\"name\":\"Trieste\"},{\"country\":\"United Kingdom\",\"name\":\"London\"},{\"country\":\"Brazil\",\"name\":\"Belo Horizonte\"},{\"country\":\"United Kingdom\",\"name\":\"York\"},{\"country\":\"Malaysia\",\"name\":\"Cyberjaya\"},{\"country\":\"Pakistan\",\"name\":\"Rawalpindi\"},{\"country\":\"Canada\",\"name\":\"Hamilton\"},{\"country\":\"Canada\",\"name\":\"London\"},{\"country\":\"Israel\",\"name\":\"Petah Tikva\"},{\"country\":\"Tunisia\",\"name\":\"Al Marsa\"},{\"country\":\"Serbia\",\"name\":\"Belgrade\"},{\"country\":\"United States\",\"name\":\"Huntsville\"},{\"country\":\"Switzerland\",\"name\":\"Bern\"},{\"country\":\"Bahrain\",\"name\":\"Manama\"},{\"country\":\"United States\",\"name\":\"Miami\"},{\"country\":\"France\",\"name\":\"Marseille\"},{\"country\":\"United Kingdom\",\"name\":\"Plymouth\"},{\"country\":\"United States\",\"name\":\"San Jose\"},{\"country\":\"India\",\"name\":\"Nashik\"},{\"country\":\"Germany\",\"name\":\"Augsburg\"},{\"country\":\"Australia\",\"name\":\"Brisbane\"},{\"country\":\"Germany\",\"name\":\"Bonn\"},{\"country\":\"Turkey\",\"name\":\"Bursa\"},{\"country\":\"Mexico\",\"name\":\"Queretaro\"},{\"country\":\"Tunisia\",\"name\":\"Sousse\"},{\"country\":\"Spain\",\"name\":\"Barcelona\"},{\"country\":\"New Zealand\",\"name\":\"Christchurch\"},{\"country\":\"United States\",\"name\":\"Nashville\"},{\"country\":\"India\",\"name\":\"Guwahati\"},{\"country\":\"United States\",\"name\":\"Honolulu\"},{\"country\":\"United Arab Emirates\",\"name\":\"Abu Dhabi\"},{\"country\":\"United States\",\"name\":\"Salem\"},{\"country\":\"Denmark\",\"name\":\"Aalborg\"},{\"country\":\"Croatia\",\"name\":\"Zagreb\"},{\"country\":\"Brazil\",\"name\":\"Porto Alegre\"},{\"country\":\"Poland\",\"name\":\"Katowice\"},{\"country\":\"Mexico\",\"name\":\"Tijuana\"},{\"country\":\"Czech Republic\",\"name\":\"Plzen\"},{\"country\":\"Netherlands\",\"name\":\"Leiden\"},{\"country\":\"Spain\",\"name\":\"Santa Cruz de Tenerife\"},{\"country\":\"Pakistan\",\"name\":\"Multan\"},{\"country\":\"India\",\"name\":\"Kolkata\"},{\"country\":\"Portugal\",\"name\":\"Lisbon\"},{\"country\":\"New Zealand\",\"name\":\"Wellington\"},{\"country\":\"United States\",\"name\":\"Madison\"},{\"country\":\"Cyprus\",\"name\":\"Paphos\"},{\"country\":\"Italy\",\"name\":\"Bari\"},{\"country\":\"United States\",\"name\":\"Boca Raton\"},{\"country\":\"India\",\"name\":\"Indore\"},{\"country\":\"India\",\"name\":\"Thiruvananthapuram\"},{\"country\":\"United States\",\"name\":\"Minneapolis\"},{\"country\":\"Ukraine\",\"name\":\"Sumy\"},{\"country\":\"Russia\",\"name\":\"Chelyabinsk\"},{\"country\":\"Czech Republic\",\"name\":\"Brno\"},{\"country\":\"Venezuela\",\"name\":\"Caracas\"},{\"country\":\"Finland\",\"name\":\"Tampere\"},{\"country\":\"United States\",\"name\":\"New Orleans\"},{\"country\":\"Ghana\",\"name\":\"Accra\"},{\"country\":\"India\",\"name\":\"Bangalore\"},{\"country\":\"France\",\"name\":\"Rennes\"},{\"country\":\"Pakistan\",\"name\":\"Karachi\"},{\"country\":\"United Kingdom\",\"name\":\"Coventry\"},{\"country\":\"Spain\",\"name\":\"Zaragoza (Saragossa)\"},{\"country\":\"Netherlands\",\"name\":\"Tilburg\"},{\"country\":\"Israel\",\"name\":\"Rehovot\"},{\"country\":\"France\",\"name\":\"Nantes\"},{\"country\":\"Germany\",\"name\":\"Hamburg\"},{\"country\":\"Thailand\",\"name\":\"Phuket\"},{\"country\":\"India\",\"name\":\"Pune\"},{\"country\":\"Kuwait\",\"name\":\"Kuwait City\"},{\"country\":\"United States\",\"name\":\"Rochester\"},{\"country\":\"Canada\",\"name\":\"Laval\"},{\"country\":\"Thailand\",\"name\":\"Pattaya\"},{\"country\":\"El Salvador\",\"name\":\"San Salvador\"},{\"country\":\"India\",\"name\":\"Kozhikode (Calicut)\"},{\"country\":\"Poland\",\"name\":\"Poznan\"},{\"country\":\"Australia\",\"name\":\"Perth\"},{\"country\":\"Greece\",\"name\":\"Heraklion\"},{\"country\":\"Ukraine\",\"name\":\"Odessa (Odesa)\"},{\"country\":\"Netherlands\",\"name\":\"Enschede\"},{\"country\":\"Sweden\",\"name\":\"Lund\"},{\"country\":\"Romania\",\"name\":\"Ploiesti\"},{\"country\":\"Ukraine\",\"name\":\"Vinnytsia\"},{\"country\":\"India\",\"name\":\"Kalyan\"},{\"country\":\"United States\",\"name\":\"Washington\"},{\"country\":\"Italy\",\"name\":\"Treviso\"},{\"country\":\"Netherlands\",\"name\":\"Eindhoven\"},{\"country\":\"Portugal\",\"name\":\"Funchal\"},{\"country\":\"Cyprus\",\"name\":\"Limassol\"},{\"country\":\"Bangladesh\",\"name\":\"Chittagong\"},{\"country\":\"India\",\"name\":\"Visakhapatnam\"},{\"country\":\"United States\",\"name\":\"Tampa\"},{\"country\":\"Austria\",\"name\":\"Innsbruck\"},{\"country\":\"United States\",\"name\":\"Irvine\"},{\"country\":\"Italy\",\"name\":\"Bologna\"},{\"country\":\"Spain\",\"name\":\"Vigo\"},{\"country\":\"South Africa\",\"name\":\"Cape Town\"},{\"country\":\"Italy\",\"name\":\"Brescia\"},{\"country\":\"India\",\"name\":\"Jammu\"},{\"country\":\"Uganda\",\"name\":\"Kampala\"},{\"country\":\"United States\",\"name\":\"Berkeley\"},{\"country\":\"Poland\",\"name\":\"Szczecin\"},{\"country\":\"Romania\",\"name\":\"Brasov\"},{\"country\":\"Germany\",\"name\":\"Berlin\"},{\"country\":\"Australia\",\"name\":\"Newcastle\"},{\"country\":\"Slovenia\",\"name\":\"Maribor\"},{\"country\":\"Belarus\",\"name\":\"Minsk\"},{\"country\":\"United Kingdom\",\"name\":\"Glasgow\"},{\"country\":\"India\",\"name\":\"Agra\"},{\"country\":\"Canada\",\"name\":\"Edmonton\"},{\"country\":\"Canada\",\"name\":\"Calgary\"},{\"country\":\"India\",\"name\":\"Jaipur\"},{\"country\":\"Tunisia\",\"name\":\"Aryanah (Ariana)\"},{\"country\":\"Spain\",\"name\":\"Palma de Mallorca\"},{\"country\":\"Finland\",\"name\":\"Oulu\"},{\"country\":\"Spain\",\"name\":\"Granada\"},{\"country\":\"Russia\",\"name\":\"Ufa\"},{\"country\":\"Greece\",\"name\":\"Athens\"},{\"country\":\"India\",\"name\":\"Chandigarh\"},{\"country\":\"India\",\"name\":\"Ahmedabad\"},{\"country\":\"United States\",\"name\":\"Oakland\"},{\"country\":\"Croatia\",\"name\":\"Split\"},{\"country\":\"Russia\",\"name\":\"Voronezh\"},{\"country\":\"Zambia\",\"name\":\"Lusaka\"},{\"country\":\"Argentina\",\"name\":\"Buenos Aires\"},{\"country\":\"Brazil\",\"name\":\"Rio de Janeiro\"},{\"country\":\"Ukraine\",\"name\":\"Ivano-Frankivsk\"},{\"country\":\"Qatar\",\"name\":\"Doha\"},{\"country\":\"United States\",\"name\":\"Eugene\"},{\"country\":\"New Zealand\",\"name\":\"Tauranga\"},{\"country\":\"Germany\",\"name\":\"Mannheim\"},{\"country\":\"United States\",\"name\":\"Atlanta\"},{\"country\":\"United Arab Emirates\",\"name\":\"Sharjah\"},{\"country\":\"Germany\",\"name\":\"Saarbrucken\"},{\"country\":\"Ireland\",\"name\":\"Cork\"},{\"country\":\"Canada\",\"name\":\"Nanaimo\"},{\"country\":\"India\",\"name\":\"Vijayawada\"},{\"country\":\"United Kingdom\",\"name\":\"Leicester\"},{\"country\":\"Sweden\",\"name\":\"Malmo\"},{\"country\":\"Sweden\",\"name\":\"Stockholm\"},{\"country\":\"United States\",\"name\":\"Reno\"},{\"country\":\"United States\",\"name\":\"Pittsburgh\"},{\"country\":\"Romania\",\"name\":\"Sibiu\"},{\"country\":\"Indonesia\",\"name\":\"Bandung\"},{\"country\":\"Germany\",\"name\":\"Freiburg im Breisgau\"},{\"country\":\"Maldives\",\"name\":\"Male\"},{\"country\":\"Israel\",\"name\":\"Tel Aviv-Yafo\"},{\"country\":\"Poland\",\"name\":\"Bydgoszcz\"},{\"country\":\"Denmark\",\"name\":\"Arhus\"},{\"country\":\"Portugal\",\"name\":\"Coimbra\"},{\"country\":\"United States\",\"name\":\"Plano\"},{\"country\":\"Sri Lanka\",\"name\":\"Colombo\"},{\"country\":\"United States\",\"name\":\"Indianapolis\"},{\"country\":\"France\",\"name\":\"Strasbourg\"},{\"country\":\"Switzerland\",\"name\":\"Lausanne\"},{\"country\":\"United States\",\"name\":\"Little Rock\"},{\"country\":\"Uruguay\",\"name\":\"Montevideo\"},{\"country\":\"Spain\",\"name\":\"Valencia\"},{\"country\":\"India\",\"name\":\"Delhi\"},{\"country\":\"United States\",\"name\":\"Milwaukee\"},{\"country\":\"Mongolia\",\"name\":\"Ulaanbaatar\"},{\"country\":\"Germany\",\"name\":\"Essen\"},{\"country\":\"Ireland\",\"name\":\"Limerick\"},{\"country\":\"China\",\"name\":\"Qingdao\"},{\"country\":\"United States\",\"name\":\"Albuquerque\"},{\"country\":\"Poland\",\"name\":\"Warsaw\"},{\"country\":\"United Kingdom\",\"name\":\"Lincoln\"},{\"country\":\"Brazil\",\"name\":\"Florianopolis\"},{\"country\":\"Germany\",\"name\":\"Heidelberg\"},{\"country\":\"Estonia\",\"name\":\"Tallinn\"},{\"country\":\"Ukraine\",\"name\":\"Lviv\"},{\"country\":\"United States\",\"name\":\"Spokane\"},{\"country\":\"India\",\"name\":\"Faridabad\"},{\"country\":\"Spain\",\"name\":\"Murcia\"},{\"country\":\"Malaysia\",\"name\":\"Penang\"},{\"country\":\"Canada\",\"name\":\"Prince George\"},{\"country\":\"United States\",\"name\":\"Philadelphia\"},{\"country\":\"Honduras\",\"name\":\"Tegucigalpa\"},{\"country\":\"Bosnia And Herzegovina\",\"name\":\"Banja Luka\"},{\"country\":\"India\",\"name\":\"Hyderabad\"},{\"country\":\"Morocco\",\"name\":\"Marrakech\"},{\"country\":\"Macao\",\"name\":\"Macao\"},{\"country\":\"France\",\"name\":\"Nice\"},{\"country\":\"India\",\"name\":\"Ghaziabad\"},{\"country\":\"India\",\"name\":\"Dehradun\"},{\"country\":\"Australia\",\"name\":\"Adelaide\"},{\"country\":\"Finland\",\"name\":\"Turku\"},{\"country\":\"India\",\"name\":\"Gurgaon\"},{\"country\":\"Italy\",\"name\":\"Catania\"},{\"country\":\"Panama\",\"name\":\"Panama City\"},{\"country\":\"Norway\",\"name\":\"Stavanger\"},{\"country\":\"Malta\",\"name\":\"Sliema\"},{\"country\":\"India\",\"name\":\"Mumbai\"},{\"country\":\"Serbia\",\"name\":\"Novi Sad\"},{\"country\":\"Pakistan\",\"name\":\"Lahore\"},{\"country\":\"Romania\",\"name\":\"Oradea\"},{\"country\":\"Malaysia\",\"name\":\"Petaling Jaya\"},{\"country\":\"Mexico\",\"name\":\"Cancun\"},{\"country\":\"Algeria\",\"name\":\"Algiers\"},{\"country\":\"Indonesia\",\"name\":\"Yogyakarta\"},{\"country\":\"Iraq\",\"name\":\"Erbil (Irbil)\"},{\"country\":\"Italy\",\"name\":\"Genoa\"},{\"country\":\"United States\",\"name\":\"Anchorage\"},{\"country\":\"United States\",\"name\":\"New York\"},{\"country\":\"United States\",\"name\":\"El Paso\"},{\"country\":\"Ireland\",\"name\":\"Dublin\"},{\"country\":\"Canada\",\"name\":\"Coquitlam\"},{\"country\":\"United States\",\"name\":\"Fort Worth\"},{\"country\":\"United States\",\"name\":\"Buffalo\"}]}\n",
      "\n"
     ]
    }
   ],
   "source": [
    "import requests\n",
    "\n",
    "url = \"https://cities-cost-of-living1.p.rapidapi.com/get_cities_list\"\n",
    "\n",
    "querystring = {\"paragraphs\":\"5\",\"words\":\"20\",\"format\":\"json\"}\n",
    "\n",
    "headers = {\n",
    "    'x-rapidapi-host': \"cities-cost-of-living1.p.rapidapi.com\",\n",
    "    'x-rapidapi-key': \"bbc4e72c95msh764d7107571c9ccp132292jsne000b3620c23\"\n",
    "    }\n",
    "\n",
    "response = requests.request(\"GET\", url, headers=headers,params = querystring)\n",
    "\n",
    "print(response.text)"
   ]
  },
  {
   "cell_type": "markdown",
   "metadata": {},
   "source": [
    "### Getting the Covid 19 data\n"
   ]
  },
  {
   "cell_type": "code",
   "execution_count": 30,
   "metadata": {},
   "outputs": [
    {
     "name": "stdout",
     "output_type": "stream",
     "text": [
      "{'data': [{'iso': 'CHN', 'name': 'China'}, {'iso': 'TWN', 'name': 'Taipei and environs'}, {'iso': 'USA', 'name': 'US'}, {'iso': 'JPN', 'name': 'Japan'}, {'iso': 'THA', 'name': 'Thailand'}, {'iso': 'KOR', 'name': 'Korea, South'}, {'iso': 'SGP', 'name': 'Singapore'}, {'iso': 'PHL', 'name': 'Philippines'}, {'iso': 'MYS', 'name': 'Malaysia'}, {'iso': 'VNM', 'name': 'Vietnam'}, {'iso': 'AUS', 'name': 'Australia'}, {'iso': 'MEX', 'name': 'Mexico'}, {'iso': 'BRA', 'name': 'Brazil'}, {'iso': 'COL', 'name': 'Colombia'}, {'iso': 'FRA', 'name': 'France'}, {'iso': 'NPL', 'name': 'Nepal'}, {'iso': 'CAN', 'name': 'Canada'}, {'iso': 'KHM', 'name': 'Cambodia'}, {'iso': 'LKA', 'name': 'Sri Lanka'}, {'iso': 'CIV', 'name': \"Cote d'Ivoire\"}, {'iso': 'DEU', 'name': 'Germany'}, {'iso': 'FIN', 'name': 'Finland'}, {'iso': 'ARE', 'name': 'United Arab Emirates'}, {'iso': 'IND', 'name': 'India'}, {'iso': 'ITA', 'name': 'Italy'}, {'iso': 'GBR', 'name': 'United Kingdom'}, {'iso': 'RUS', 'name': 'Russia'}, {'iso': 'SWE', 'name': 'Sweden'}, {'iso': 'ESP', 'name': 'Spain'}, {'iso': 'BEL', 'name': 'Belgium'}, {'iso': 'Others', 'name': 'Others'}, {'iso': 'EGY', 'name': 'Egypt'}, {'iso': 'IRN', 'name': 'Iran'}, {'iso': 'ISR', 'name': 'Israel'}, {'iso': 'LBN', 'name': 'Lebanon'}, {'iso': 'IRQ', 'name': 'Iraq'}, {'iso': 'OMN', 'name': 'Oman'}, {'iso': 'AFG', 'name': 'Afghanistan'}, {'iso': 'BHR', 'name': 'Bahrain'}, {'iso': 'KWT', 'name': 'Kuwait'}, {'iso': 'AUT', 'name': 'Austria'}, {'iso': 'DZA', 'name': 'Algeria'}, {'iso': 'HRV', 'name': 'Croatia'}, {'iso': 'CHE', 'name': 'Switzerland'}, {'iso': 'PAK', 'name': 'Pakistan'}, {'iso': 'GEO', 'name': 'Georgia'}, {'iso': 'GRC', 'name': 'Greece'}, {'iso': 'MKD', 'name': 'North Macedonia'}, {'iso': 'NOR', 'name': 'Norway'}, {'iso': 'ROU', 'name': 'Romania'}, {'iso': 'DNK', 'name': 'Denmark'}, {'iso': 'EST', 'name': 'Estonia'}, {'iso': 'NLD', 'name': 'Netherlands'}, {'iso': 'SMR', 'name': 'San Marino'}, {'iso': 'AZE', 'name': 'Azerbaijan'}, {'iso': 'BLR', 'name': 'Belarus'}, {'iso': 'ISL', 'name': 'Iceland'}, {'iso': 'LTU', 'name': 'Lithuania'}, {'iso': 'NZL', 'name': 'New Zealand'}, {'iso': 'NGA', 'name': 'Nigeria'}, {'iso': 'IRL', 'name': 'Ireland'}, {'iso': 'LUX', 'name': 'Luxembourg'}, {'iso': 'MCO', 'name': 'Monaco'}, {'iso': 'QAT', 'name': 'Qatar'}, {'iso': 'ECU', 'name': 'Ecuador'}, {'iso': 'CZE', 'name': 'Czechia'}, {'iso': 'ARM', 'name': 'Armenia'}, {'iso': 'DOM', 'name': 'Dominican Republic'}, {'iso': 'IDN', 'name': 'Indonesia'}, {'iso': 'PRT', 'name': 'Portugal'}, {'iso': 'AND', 'name': 'Andorra'}, {'iso': 'LVA', 'name': 'Latvia'}, {'iso': 'MAR', 'name': 'Morocco'}, {'iso': 'SAU', 'name': 'Saudi Arabia'}, {'iso': 'SEN', 'name': 'Senegal'}, {'iso': 'ARG', 'name': 'Argentina'}, {'iso': 'CHL', 'name': 'Chile'}, {'iso': 'JOR', 'name': 'Jordan'}, {'iso': 'UKR', 'name': 'Ukraine'}, {'iso': 'BLM', 'name': 'Saint Barthelemy'}, {'iso': 'HUN', 'name': 'Hungary'}, {'iso': 'FRO', 'name': 'Faroe Islands'}, {'iso': 'GIB', 'name': 'Gibraltar'}, {'iso': 'LIE', 'name': 'Liechtenstein'}, {'iso': 'POL', 'name': 'Poland'}, {'iso': 'TUN', 'name': 'Tunisia'}, {'iso': 'PSE', 'name': 'West Bank and Gaza'}, {'iso': 'BIH', 'name': 'Bosnia and Herzegovina'}, {'iso': 'SVN', 'name': 'Slovenia'}, {'iso': 'ZAF', 'name': 'South Africa'}, {'iso': 'BTN', 'name': 'Bhutan'}, {'iso': 'CMR', 'name': 'Cameroon'}, {'iso': 'CRI', 'name': 'Costa Rica'}, {'iso': 'PER', 'name': 'Peru'}, {'iso': 'SRB', 'name': 'Serbia'}, {'iso': 'SVK', 'name': 'Slovakia'}, {'iso': 'TGO', 'name': 'Togo'}, {'iso': 'VAT', 'name': 'Holy See'}, {'iso': 'GUF', 'name': 'French Guiana'}, {'iso': 'MLT', 'name': 'Malta'}, {'iso': 'MTQ', 'name': 'Martinique'}, {'iso': 'BGR', 'name': 'Bulgaria'}, {'iso': 'MDV', 'name': 'Maldives'}, {'iso': 'BGD', 'name': 'Bangladesh'}, {'iso': 'MDA', 'name': 'Moldova'}, {'iso': 'PRY', 'name': 'Paraguay'}, {'iso': 'ALB', 'name': 'Albania'}, {'iso': 'CYP', 'name': 'Cyprus'}, {'iso': 'BRN', 'name': 'Brunei'}, {'iso': 'MAC', 'name': 'Macao SAR'}, {'iso': 'MAF', 'name': 'Saint Martin'}, {'iso': 'BFA', 'name': 'Burkina Faso'}, {'iso': 'GGY-JEY', 'name': 'Channel Islands'}, {'iso': 'MNG', 'name': 'Mongolia'}, {'iso': 'PAN', 'name': 'Panama'}, {'iso': 'cruise', 'name': 'Cruise Ship'}, {'iso': 'TWN', 'name': 'Taiwan*'}, {'iso': 'BOL', 'name': 'Bolivia'}, {'iso': 'HND', 'name': 'Honduras'}, {'iso': 'COD', 'name': 'Congo (Kinshasa)'}, {'iso': 'JAM', 'name': 'Jamaica'}, {'iso': 'REU', 'name': 'Reunion'}, {'iso': 'TUR', 'name': 'Turkey'}, {'iso': 'CUB', 'name': 'Cuba'}, {'iso': 'GUY', 'name': 'Guyana'}, {'iso': 'KAZ', 'name': 'Kazakhstan'}, {'iso': 'CYM', 'name': 'Cayman Islands'}, {'iso': 'GLP', 'name': 'Guadeloupe'}, {'iso': 'ETH', 'name': 'Ethiopia'}, {'iso': 'SDN', 'name': 'Sudan'}, {'iso': 'GIN', 'name': 'Guinea'}, {'iso': 'ATG', 'name': 'Antigua and Barbuda'}, {'iso': 'ABW', 'name': 'Aruba'}, {'iso': 'KEN', 'name': 'Kenya'}, {'iso': 'URY', 'name': 'Uruguay'}, {'iso': 'GHA', 'name': 'Ghana'}, {'iso': 'JEY', 'name': 'Jersey'}, {'iso': 'NAM', 'name': 'Namibia'}, {'iso': 'SYC', 'name': 'Seychelles'}, {'iso': 'TTO', 'name': 'Trinidad and Tobago'}, {'iso': 'VEN', 'name': 'Venezuela'}, {'iso': 'CUW', 'name': 'Curacao'}, {'iso': 'SWZ', 'name': 'Eswatini'}, {'iso': 'GAB', 'name': 'Gabon'}, {'iso': 'GTM', 'name': 'Guatemala'}, {'iso': 'GGY', 'name': 'Guernsey'}, {'iso': 'MRT', 'name': 'Mauritania'}, {'iso': 'RWA', 'name': 'Rwanda'}, {'iso': 'LCA', 'name': 'Saint Lucia'}, {'iso': 'VCT', 'name': 'Saint Vincent and the Grenadines'}, {'iso': 'SUR', 'name': 'Suriname'}, {'iso': 'RKS', 'name': 'Kosovo'}, {'iso': 'CAF', 'name': 'Central African Republic'}, {'iso': 'COG', 'name': 'Congo (Brazzaville)'}, {'iso': 'GNQ', 'name': 'Equatorial Guinea'}, {'iso': 'UZB', 'name': 'Uzbekistan'}, {'iso': 'GUM', 'name': 'Guam'}, {'iso': 'PRI', 'name': 'Puerto Rico'}, {'iso': 'BEN', 'name': 'Benin'}, {'iso': 'GRL', 'name': 'Greenland'}, {'iso': 'LBR', 'name': 'Liberia'}, {'iso': 'MYT', 'name': 'Mayotte'}, {'iso': 'SOM', 'name': 'Somalia'}, {'iso': 'TZA', 'name': 'Tanzania'}, {'iso': 'BHS', 'name': 'Bahamas'}, {'iso': 'BRB', 'name': 'Barbados'}, {'iso': 'MNE', 'name': 'Montenegro'}, {'iso': 'GMB', 'name': 'Gambia'}, {'iso': 'KGZ', 'name': 'Kyrgyzstan'}, {'iso': 'MUS', 'name': 'Mauritius'}, {'iso': 'ZMB', 'name': 'Zambia'}, {'iso': 'DJI', 'name': 'Djibouti'}, {'iso': 'TCD', 'name': 'Chad'}, {'iso': 'SLV', 'name': 'El Salvador'}, {'iso': 'FJI', 'name': 'Fiji'}, {'iso': 'NIC', 'name': 'Nicaragua'}, {'iso': 'MDG', 'name': 'Madagascar'}, {'iso': 'HTI', 'name': 'Haiti'}, {'iso': 'AGO', 'name': 'Angola'}, {'iso': 'CPV', 'name': 'Cabo Verde'}, {'iso': 'NER', 'name': 'Niger'}, {'iso': 'PNG', 'name': 'Papua New Guinea'}, {'iso': 'ZWE', 'name': 'Zimbabwe'}, {'iso': 'TLS', 'name': 'Timor-Leste'}, {'iso': 'ERI', 'name': 'Eritrea'}, {'iso': 'UGA', 'name': 'Uganda'}, {'iso': 'DMA', 'name': 'Dominica'}, {'iso': 'GRD', 'name': 'Grenada'}, {'iso': 'MOZ', 'name': 'Mozambique'}, {'iso': 'SYR', 'name': 'Syria'}, {'iso': 'BLZ', 'name': 'Belize'}, {'iso': 'LAO', 'name': 'Laos'}, {'iso': 'LBY', 'name': 'Libya'}, {'iso': 'NA-SHIP-DP', 'name': 'Diamond Princess'}, {'iso': 'GNB', 'name': 'Guinea-Bissau'}, {'iso': 'MLI', 'name': 'Mali'}, {'iso': 'KNA', 'name': 'Saint Kitts and Nevis'}, {'iso': 'BWA', 'name': 'Botswana'}, {'iso': 'BDI', 'name': 'Burundi'}, {'iso': 'SLE', 'name': 'Sierra Leone'}, {'iso': 'MMR', 'name': 'Burma'}, {'iso': 'MWI', 'name': 'Malawi'}, {'iso': 'SSD', 'name': 'South Sudan'}, {'iso': 'ESH', 'name': 'Western Sahara'}, {'iso': 'STP', 'name': 'Sao Tome and Principe'}, {'iso': 'NA-SHIP-MSZ', 'name': 'MS Zaandam'}, {'iso': 'YEM', 'name': 'Yemen'}, {'iso': 'COM', 'name': 'Comoros'}, {'iso': 'TJK', 'name': 'Tajikistan'}, {'iso': 'LSO', 'name': 'Lesotho'}, {'iso': 'SLB', 'name': 'Solomon Islands'}, {'iso': 'MHL', 'name': 'Marshall Islands'}, {'iso': 'VUT', 'name': 'Vanuatu'}, {'iso': 'WSM', 'name': 'Samoa'}, {'iso': 'KIR', 'name': 'Kiribati'}, {'iso': 'PLW', 'name': 'Palau'}, {'iso': 'TON', 'name': 'Tonga'}]}\n"
     ]
    }
   ],
   "source": [
    "import requests\n",
    "\n",
    "url = \"https://covid-19-statistics.p.rapidapi.com/regions\"\n",
    "\n",
    "querystring = {\"paragraphs\":\"5\",\"words\":\"10\",\"format\":\"json\"}\n",
    "\n",
    "headers = {\n",
    "    'x-rapidapi-host': \"covid-19-statistics.p.rapidapi.com\",\n",
    "    'x-rapidapi-key': \"bbc4e72c95msh764d7107571c9ccp132292jsne000b3620c23\"\n",
    "    }\n",
    "\n",
    "response = requests.request(\"GET\", url, headers=headers,params=querystring)\n",
    "\n",
    "# print(response.text)\n",
    "\n",
    "print(json.loads(response.text))"
   ]
  },
  {
   "cell_type": "code",
   "execution_count": 1,
   "metadata": {},
   "outputs": [
    {
     "name": "stdout",
     "output_type": "stream",
     "text": [
      "{\"message\":\"You are not allowed to access this request with your subscription\",\"url\":\"https:\\/\\/rapidapi.com\\/Gramzivi\\/api\\/covid-19-data\\/pricing\"}\n"
     ]
    }
   ],
   "source": [
    "import requests\n",
    "\n",
    "url = \"https://covid-19-data.p.rapidapi.com/country/all\"\n",
    "\n",
    "headers = {\n",
    "    'x-rapidapi-key': \"bbc4e72c95msh764d7107571c9ccp132292jsne000b3620c23\",\n",
    "    'x-rapidapi-host': \"covid-19-data.p.rapidapi.com\"\n",
    "    }\n",
    "\n",
    "response = requests.request(\"GET\", url, headers=headers)\n",
    "\n",
    "print(response.text)"
   ]
  },
  {
   "cell_type": "code",
   "execution_count": 2,
   "metadata": {},
   "outputs": [
    {
     "name": "stdout",
     "output_type": "stream",
     "text": [
      "{\"get\":\"countries\",\"parameters\":[],\"errors\":[],\"results\":229,\"response\":[\"Afghanistan\",\"Albania\",\"Algeria\",\"Andorra\",\"Angola\",\"Anguilla\",\"Antigua-and-Barbuda\",\"Argentina\",\"Armenia\",\"Aruba\",\"Australia\",\"Austria\",\"Azerbaijan\",\"Bahamas\",\"Bahrain\",\"Bangladesh\",\"Barbados\",\"Belarus\",\"Belgium\",\"Belize\",\"Benin\",\"Bermuda\",\"Bhutan\",\"Bolivia\",\"Bosnia-and-Herzegovina\",\"Botswana\",\"Brazil\",\"British-Virgin-Islands\",\"Brunei\",\"Bulgaria\",\"Burkina-Faso\",\"Burundi\",\"Cabo-Verde\",\"Cambodia\",\"Cameroon\",\"Canada\",\"CAR\",\"Caribbean-Netherlands\",\"Cayman-Islands\",\"Chad\",\"Channel-Islands\",\"Chile\",\"China\",\"Colombia\",\"Comoros\",\"Congo\",\"Costa-Rica\",\"Croatia\",\"Cuba\",\"Cura&ccedil;ao\",\"Cyprus\",\"Czechia\",\"Denmark\",\"Diamond-Princess\",\"Diamond-Princess-\",\"Djibouti\",\"Dominica\",\"Dominican-Republic\",\"DRC\",\"Ecuador\",\"Egypt\",\"El-Salvador\",\"Equatorial-Guinea\",\"Eritrea\",\"Estonia\",\"Eswatini\",\"Ethiopia\",\"Faeroe-Islands\",\"Falkland-Islands\",\"Fiji\",\"Finland\",\"France\",\"French-Guiana\",\"French-Polynesia\",\"Gabon\",\"Gambia\",\"Georgia\",\"Germany\",\"Ghana\",\"Gibraltar\",\"Greece\",\"Greenland\",\"Grenada\",\"Guadeloupe\",\"Guam\",\"Guatemala\",\"Guinea\",\"Guinea-Bissau\",\"Guyana\",\"Haiti\",\"Honduras\",\"Hong-Kong\",\"Hungary\",\"Iceland\",\"India\",\"Indonesia\",\"Iran\",\"Iraq\",\"Ireland\",\"Isle-of-Man\",\"Israel\",\"Italy\",\"Ivory-Coast\",\"Jamaica\",\"Japan\",\"Jordan\",\"Kazakhstan\",\"Kenya\",\"Kuwait\",\"Kyrgyzstan\",\"Laos\",\"Latvia\",\"Lebanon\",\"Lesotho\",\"Liberia\",\"Libya\",\"Liechtenstein\",\"Lithuania\",\"Luxembourg\",\"Macao\",\"Madagascar\",\"Malawi\",\"Malaysia\",\"Maldives\",\"Mali\",\"Malta\",\"Marshall-Islands\",\"Martinique\",\"Mauritania\",\"Mauritius\",\"Mayotte\",\"Mexico\",\"Micronesia\",\"Moldova\",\"Monaco\",\"Mongolia\",\"Montenegro\",\"Montserrat\",\"Morocco\",\"Mozambique\",\"MS-Zaandam\",\"MS-Zaandam-\",\"Myanmar\",\"Namibia\",\"Nepal\",\"Netherlands\",\"New-Caledonia\",\"New-Zealand\",\"Nicaragua\",\"Niger\",\"Nigeria\",\"North-Macedonia\",\"Norway\",\"Oman\",\"Pakistan\",\"Palau\",\"Palestine\",\"Panama\",\"Papua-New-Guinea\",\"Paraguay\",\"Peru\",\"Philippines\",\"Poland\",\"Portugal\",\"Puerto-Rico\",\"Qatar\",\"R&eacute;union\",\"Romania\",\"Russia\",\"Rwanda\",\"S-Korea\",\"Saint-Helena\",\"Saint-Kitts-and-Nevis\",\"Saint-Lucia\",\"Saint-Martin\",\"Saint-Pierre-Miquelon\",\"Samoa\",\"San-Marino\",\"Sao-Tome-and-Principe\",\"Saudi-Arabia\",\"Senegal\",\"Serbia\",\"Seychelles\",\"Sierra-Leone\",\"Singapore\",\"Sint-Maarten\",\"Slovakia\",\"Slovenia\",\"Solomon-Islands\",\"Somalia\",\"South-Africa\",\"South-Sudan\",\"Spain\",\"Sri-Lanka\",\"St-Barth\",\"St-Vincent-Grenadines\",\"Sudan\",\"Suriname\",\"Sweden\",\"Switzerland\",\"Syria\",\"Taiwan\",\"Tajikistan\",\"Tanzania\",\"Thailand\",\"Timor-Leste\",\"Togo\",\"Tonga\",\"Trinidad-and-Tobago\",\"Tunisia\",\"Turkey\",\"Turks-and-Caicos\",\"UAE\",\"Uganda\",\"UK\",\"Ukraine\",\"Uruguay\",\"US-Virgin-Islands\",\"USA\",\"Uzbekistan\",\"Vanuatu\",\"Vatican-City\",\"Venezuela\",\"Vietnam\",\"Wallis-and-Futuna\",\"Western-Sahara\",\"Yemen\",\"Zambia\",\"Zimbabwe\"]}\n"
     ]
    }
   ],
   "source": [
    "import requests\n",
    "\n",
    "url = \"https://covid-193.p.rapidapi.com/countries\"\n",
    "\n",
    "headers = {\n",
    "    'x-rapidapi-host': \"covid-193.p.rapidapi.com\",\n",
    "    'x-rapidapi-key': \"bbc4e72c95msh764d7107571c9ccp132292jsne000b3620c23\"\n",
    "    }\n",
    "\n",
    "response = requests.request(\"GET\", url, headers=headers)\n",
    "\n",
    "print(response.text)"
   ]
  },
  {
   "cell_type": "code",
   "execution_count": 35,
   "metadata": {},
   "outputs": [
    {
     "name": "stdout",
     "output_type": "stream",
     "text": [
      "{\"message\":\"You are not allowed to access this request with your subscription\",\"url\":\"https:\\/\\/rapidapi.com\\/Gramzivi\\/api\\/covid-19-data\\/pricing\"}\n"
     ]
    }
   ],
   "source": []
  },
  {
   "cell_type": "code",
   "execution_count": 5,
   "metadata": {},
   "outputs": [
    {
     "name": "stdout",
     "output_type": "stream",
     "text": [
      "{\"get\":\"countries\",\"parameters\":[],\"errors\":[],\"results\":229,\"response\":[\"Afghanistan\",\"Albania\",\"Algeria\",\"Andorra\",\"Angola\",\"Anguilla\",\"Antigua-and-Barbuda\",\"Argentina\",\"Armenia\",\"Aruba\",\"Australia\",\"Austria\",\"Azerbaijan\",\"Bahamas\",\"Bahrain\",\"Bangladesh\",\"Barbados\",\"Belarus\",\"Belgium\",\"Belize\",\"Benin\",\"Bermuda\",\"Bhutan\",\"Bolivia\",\"Bosnia-and-Herzegovina\",\"Botswana\",\"Brazil\",\"British-Virgin-Islands\",\"Brunei\",\"Bulgaria\",\"Burkina-Faso\",\"Burundi\",\"Cabo-Verde\",\"Cambodia\",\"Cameroon\",\"Canada\",\"CAR\",\"Caribbean-Netherlands\",\"Cayman-Islands\",\"Chad\",\"Channel-Islands\",\"Chile\",\"China\",\"Colombia\",\"Comoros\",\"Congo\",\"Costa-Rica\",\"Croatia\",\"Cuba\",\"Cura&ccedil;ao\",\"Cyprus\",\"Czechia\",\"Denmark\",\"Diamond-Princess\",\"Diamond-Princess-\",\"Djibouti\",\"Dominica\",\"Dominican-Republic\",\"DRC\",\"Ecuador\",\"Egypt\",\"El-Salvador\",\"Equatorial-Guinea\",\"Eritrea\",\"Estonia\",\"Eswatini\",\"Ethiopia\",\"Faeroe-Islands\",\"Falkland-Islands\",\"Fiji\",\"Finland\",\"France\",\"French-Guiana\",\"French-Polynesia\",\"Gabon\",\"Gambia\",\"Georgia\",\"Germany\",\"Ghana\",\"Gibraltar\",\"Greece\",\"Greenland\",\"Grenada\",\"Guadeloupe\",\"Guam\",\"Guatemala\",\"Guinea\",\"Guinea-Bissau\",\"Guyana\",\"Haiti\",\"Honduras\",\"Hong-Kong\",\"Hungary\",\"Iceland\",\"India\",\"Indonesia\",\"Iran\",\"Iraq\",\"Ireland\",\"Isle-of-Man\",\"Israel\",\"Italy\",\"Ivory-Coast\",\"Jamaica\",\"Japan\",\"Jordan\",\"Kazakhstan\",\"Kenya\",\"Kuwait\",\"Kyrgyzstan\",\"Laos\",\"Latvia\",\"Lebanon\",\"Lesotho\",\"Liberia\",\"Libya\",\"Liechtenstein\",\"Lithuania\",\"Luxembourg\",\"Macao\",\"Madagascar\",\"Malawi\",\"Malaysia\",\"Maldives\",\"Mali\",\"Malta\",\"Marshall-Islands\",\"Martinique\",\"Mauritania\",\"Mauritius\",\"Mayotte\",\"Mexico\",\"Micronesia\",\"Moldova\",\"Monaco\",\"Mongolia\",\"Montenegro\",\"Montserrat\",\"Morocco\",\"Mozambique\",\"MS-Zaandam\",\"MS-Zaandam-\",\"Myanmar\",\"Namibia\",\"Nepal\",\"Netherlands\",\"New-Caledonia\",\"New-Zealand\",\"Nicaragua\",\"Niger\",\"Nigeria\",\"North-Macedonia\",\"Norway\",\"Oman\",\"Pakistan\",\"Palau\",\"Palestine\",\"Panama\",\"Papua-New-Guinea\",\"Paraguay\",\"Peru\",\"Philippines\",\"Poland\",\"Portugal\",\"Puerto-Rico\",\"Qatar\",\"R&eacute;union\",\"Romania\",\"Russia\",\"Rwanda\",\"S-Korea\",\"Saint-Helena\",\"Saint-Kitts-and-Nevis\",\"Saint-Lucia\",\"Saint-Martin\",\"Saint-Pierre-Miquelon\",\"Samoa\",\"San-Marino\",\"Sao-Tome-and-Principe\",\"Saudi-Arabia\",\"Senegal\",\"Serbia\",\"Seychelles\",\"Sierra-Leone\",\"Singapore\",\"Sint-Maarten\",\"Slovakia\",\"Slovenia\",\"Solomon-Islands\",\"Somalia\",\"South-Africa\",\"South-Sudan\",\"Spain\",\"Sri-Lanka\",\"St-Barth\",\"St-Vincent-Grenadines\",\"Sudan\",\"Suriname\",\"Sweden\",\"Switzerland\",\"Syria\",\"Taiwan\",\"Tajikistan\",\"Tanzania\",\"Thailand\",\"Timor-Leste\",\"Togo\",\"Tonga\",\"Trinidad-and-Tobago\",\"Tunisia\",\"Turkey\",\"Turks-and-Caicos\",\"UAE\",\"Uganda\",\"UK\",\"Ukraine\",\"Uruguay\",\"US-Virgin-Islands\",\"USA\",\"Uzbekistan\",\"Vanuatu\",\"Vatican-City\",\"Venezuela\",\"Vietnam\",\"Wallis-and-Futuna\",\"Western-Sahara\",\"Yemen\",\"Zambia\",\"Zimbabwe\"]}\n",
      "{'get': 'countries', 'parameters': [], 'errors': [], 'results': 229, 'response': ['Afghanistan', 'Albania', 'Algeria', 'Andorra', 'Angola', 'Anguilla', 'Antigua-and-Barbuda', 'Argentina', 'Armenia', 'Aruba', 'Australia', 'Austria', 'Azerbaijan', 'Bahamas', 'Bahrain', 'Bangladesh', 'Barbados', 'Belarus', 'Belgium', 'Belize', 'Benin', 'Bermuda', 'Bhutan', 'Bolivia', 'Bosnia-and-Herzegovina', 'Botswana', 'Brazil', 'British-Virgin-Islands', 'Brunei', 'Bulgaria', 'Burkina-Faso', 'Burundi', 'Cabo-Verde', 'Cambodia', 'Cameroon', 'Canada', 'CAR', 'Caribbean-Netherlands', 'Cayman-Islands', 'Chad', 'Channel-Islands', 'Chile', 'China', 'Colombia', 'Comoros', 'Congo', 'Costa-Rica', 'Croatia', 'Cuba', 'Cura&ccedil;ao', 'Cyprus', 'Czechia', 'Denmark', 'Diamond-Princess', 'Diamond-Princess-', 'Djibouti', 'Dominica', 'Dominican-Republic', 'DRC', 'Ecuador', 'Egypt', 'El-Salvador', 'Equatorial-Guinea', 'Eritrea', 'Estonia', 'Eswatini', 'Ethiopia', 'Faeroe-Islands', 'Falkland-Islands', 'Fiji', 'Finland', 'France', 'French-Guiana', 'French-Polynesia', 'Gabon', 'Gambia', 'Georgia', 'Germany', 'Ghana', 'Gibraltar', 'Greece', 'Greenland', 'Grenada', 'Guadeloupe', 'Guam', 'Guatemala', 'Guinea', 'Guinea-Bissau', 'Guyana', 'Haiti', 'Honduras', 'Hong-Kong', 'Hungary', 'Iceland', 'India', 'Indonesia', 'Iran', 'Iraq', 'Ireland', 'Isle-of-Man', 'Israel', 'Italy', 'Ivory-Coast', 'Jamaica', 'Japan', 'Jordan', 'Kazakhstan', 'Kenya', 'Kuwait', 'Kyrgyzstan', 'Laos', 'Latvia', 'Lebanon', 'Lesotho', 'Liberia', 'Libya', 'Liechtenstein', 'Lithuania', 'Luxembourg', 'Macao', 'Madagascar', 'Malawi', 'Malaysia', 'Maldives', 'Mali', 'Malta', 'Marshall-Islands', 'Martinique', 'Mauritania', 'Mauritius', 'Mayotte', 'Mexico', 'Micronesia', 'Moldova', 'Monaco', 'Mongolia', 'Montenegro', 'Montserrat', 'Morocco', 'Mozambique', 'MS-Zaandam', 'MS-Zaandam-', 'Myanmar', 'Namibia', 'Nepal', 'Netherlands', 'New-Caledonia', 'New-Zealand', 'Nicaragua', 'Niger', 'Nigeria', 'North-Macedonia', 'Norway', 'Oman', 'Pakistan', 'Palau', 'Palestine', 'Panama', 'Papua-New-Guinea', 'Paraguay', 'Peru', 'Philippines', 'Poland', 'Portugal', 'Puerto-Rico', 'Qatar', 'R&eacute;union', 'Romania', 'Russia', 'Rwanda', 'S-Korea', 'Saint-Helena', 'Saint-Kitts-and-Nevis', 'Saint-Lucia', 'Saint-Martin', 'Saint-Pierre-Miquelon', 'Samoa', 'San-Marino', 'Sao-Tome-and-Principe', 'Saudi-Arabia', 'Senegal', 'Serbia', 'Seychelles', 'Sierra-Leone', 'Singapore', 'Sint-Maarten', 'Slovakia', 'Slovenia', 'Solomon-Islands', 'Somalia', 'South-Africa', 'South-Sudan', 'Spain', 'Sri-Lanka', 'St-Barth', 'St-Vincent-Grenadines', 'Sudan', 'Suriname', 'Sweden', 'Switzerland', 'Syria', 'Taiwan', 'Tajikistan', 'Tanzania', 'Thailand', 'Timor-Leste', 'Togo', 'Tonga', 'Trinidad-and-Tobago', 'Tunisia', 'Turkey', 'Turks-and-Caicos', 'UAE', 'Uganda', 'UK', 'Ukraine', 'Uruguay', 'US-Virgin-Islands', 'USA', 'Uzbekistan', 'Vanuatu', 'Vatican-City', 'Venezuela', 'Vietnam', 'Wallis-and-Futuna', 'Western-Sahara', 'Yemen', 'Zambia', 'Zimbabwe']}\n"
     ]
    }
   ],
   "source": [
    "import requests\n",
    "\n",
    "url = \"https://covid-193.p.rapidapi.com/countries\"\n",
    "\n",
    "headers = {\n",
    "    'x-rapidapi-host': \"covid-193.p.rapidapi.com\",\n",
    "    'x-rapidapi-key': \"bbc4e72c95msh764d7107571c9ccp132292jsne000b3620c23\"\n",
    "    }\n",
    "\n",
    "response = requests.request(\"GET\", url, headers=headers)\n",
    "\n",
    "print(response.text)\n",
    "print(json.loads(response.text))"
   ]
  },
  {
   "cell_type": "markdown",
   "metadata": {},
   "source": [
    "### Currency converter API\n"
   ]
  },
  {
   "cell_type": "code",
   "execution_count": 10,
   "metadata": {},
   "outputs": [
    {
     "name": "stdout",
     "output_type": "stream",
     "text": [
      "{\"from\":\"INR\",\"to\":\"USD\",\"amount\":1.3232677297332054} <class 'str'>\n"
     ]
    }
   ],
   "source": [
    "import requests\n",
    "\n",
    "url = \"https://currency-converter13.p.rapidapi.com/convert\"\n",
    "\n",
    "querystring = {\"from\":'INR',\"to\":'USD',\"amount\":'100'}\n",
    "\n",
    "headers = {\n",
    "    'x-rapidapi-key': \"bbc4e72c95msh764d7107571c9ccp132292jsne000b3620c23\",\n",
    "    'x-rapidapi-host': \"currency-converter13.p.rapidapi.com\"\n",
    "    }\n",
    "\n",
    "response = requests.request(\"GET\", url, headers=headers, params=querystring)\n",
    "\n",
    "print(response.text,type(response.text))"
   ]
  },
  {
   "cell_type": "code",
   "execution_count": 8,
   "metadata": {},
   "outputs": [
    {
     "name": "stdout",
     "output_type": "stream",
     "text": [
      "{\"USD_INR\":74.705016}\n"
     ]
    }
   ],
   "source": [
    "import requests\n",
    "\n",
    "url = \"https://free.currconv.com/api/v7/convert?q=USD_INR&compact=ultra&apiKey=df87441296038e80260e\"\n",
    "response = requests.get(url)\n",
    "\n",
    "print(response.text)"
   ]
  },
  {
   "cell_type": "code",
   "execution_count": 55,
   "metadata": {},
   "outputs": [
    {
     "data": {
      "text/plain": [
       "'https://free.currconv.com/api/v7/convert?q=USD_PHP&compact=ultra&apiKey=df87441296038e80260e'"
      ]
     },
     "execution_count": 55,
     "metadata": {},
     "output_type": "execute_result"
    }
   ],
   "source": [
    "\"https://free.currconv.com/api/v7/convert?q=USD_PHP&compact=ultra&apiKey=df87441296038e80260e\""
   ]
  },
  {
   "cell_type": "code",
   "execution_count": null,
   "metadata": {},
   "outputs": [],
   "source": []
  },
  {
   "cell_type": "code",
   "execution_count": null,
   "metadata": {},
   "outputs": [],
   "source": []
  },
  {
   "cell_type": "code",
   "execution_count": null,
   "metadata": {},
   "outputs": [],
   "source": []
  },
  {
   "cell_type": "code",
   "execution_count": null,
   "metadata": {},
   "outputs": [],
   "source": []
  },
  {
   "cell_type": "code",
   "execution_count": null,
   "metadata": {},
   "outputs": [],
   "source": []
  },
  {
   "cell_type": "code",
   "execution_count": 11,
   "metadata": {},
   "outputs": [
    {
     "name": "stdout",
     "output_type": "stream",
     "text": [
      "{\"from\":\"INR\",\"to\":\"USD\",\"amount\":1.3232677297332054}\n",
      "{'from': 'INR', 'to': 'USD', 'amount': 1.3232677297332054} <class 'dict'>\n"
     ]
    }
   ],
   "source": [
    "d=response.text\n",
    "print(d)\n",
    "import json\n",
    "\n",
    "res = json.loads(d)\n",
    "print(res,type(res))\n"
   ]
  },
  {
   "cell_type": "code",
   "execution_count": 12,
   "metadata": {},
   "outputs": [
    {
     "data": {
      "text/plain": [
       "(str,\n",
       " 53,\n",
       " 'from\":\"INR\",\"to\":\"USD\",\"amount\":1.3232677297332054',\n",
       " '{\"from\":\"INR\",\"to\":\"USD\",\"amount\":1.3232677297332054}')"
      ]
     },
     "execution_count": 12,
     "metadata": {},
     "output_type": "execute_result"
    }
   ],
   "source": [
    "type(d),len(d),d[2:len(d)-1:1] , d"
   ]
  },
  {
   "cell_type": "code",
   "execution_count": 13,
   "metadata": {},
   "outputs": [
    {
     "name": "stdout",
     "output_type": "stream",
     "text": [
      "{'from': 'INR', 'to': 'USD', 'amount': 1.3232677297332054}\n"
     ]
    }
   ],
   "source": [
    "print(res)"
   ]
  },
  {
   "cell_type": "code",
   "execution_count": 17,
   "metadata": {},
   "outputs": [
    {
     "name": "stdout",
     "output_type": "stream",
     "text": [
      "from INR\n",
      "to USD\n",
      "amount 1.3232677297332054\n"
     ]
    }
   ],
   "source": [
    "for i in res:\n",
    "    print(i ,res[i])"
   ]
  },
  {
   "cell_type": "code",
   "execution_count": 18,
   "metadata": {},
   "outputs": [
    {
     "data": {
      "text/plain": [
       "'INR to USD is 1.3232677297332054'"
      ]
     },
     "execution_count": 18,
     "metadata": {},
     "output_type": "execute_result"
    }
   ],
   "source": [
    "f\"{res['from']} to {res['to']} is {res['amount']}\""
   ]
  },
  {
   "cell_type": "code",
   "execution_count": 25,
   "metadata": {},
   "outputs": [
    {
     "name": "stdout",
     "output_type": "stream",
     "text": [
      "40\n"
     ]
    }
   ],
   "source": [
    "import hashlib\n",
    "\n",
    "password =\"Anil\"\n",
    "\n",
    "encrypt = hashlib.sha1(password.encode(\"utf-8\")).hexdigest().upper()\n",
    "\n",
    "\n",
    "print(len(encrypt))\n",
    "\n"
   ]
  },
  {
   "cell_type": "code",
   "execution_count": 28,
   "metadata": {},
   "outputs": [
    {
     "data": {
      "text/plain": [
       "'7241D25A0E1D08B283325EBD00856D8F3971DBB5'"
      ]
     },
     "execution_count": 28,
     "metadata": {},
     "output_type": "execute_result"
    }
   ],
   "source": [
    "encrypt"
   ]
  },
  {
   "cell_type": "code",
   "execution_count": 26,
   "metadata": {},
   "outputs": [
    {
     "data": {
      "text/plain": [
       "'7241D'"
      ]
     },
     "execution_count": 26,
     "metadata": {},
     "output_type": "execute_result"
    }
   ],
   "source": [
    "encrypt[:5] #head"
   ]
  },
  {
   "cell_type": "code",
   "execution_count": 27,
   "metadata": {},
   "outputs": [
    {
     "data": {
      "text/plain": [
       "'25A0E1D08B283325EBD00856D8F3971DBB5'"
      ]
     },
     "execution_count": 27,
     "metadata": {},
     "output_type": "execute_result"
    }
   ],
   "source": [
    "encrypt[5:] #tail"
   ]
  },
  {
   "cell_type": "code",
   "execution_count": null,
   "metadata": {},
   "outputs": [],
   "source": []
  }
 ],
 "metadata": {
  "kernelspec": {
   "display_name": "Python 3",
   "language": "python",
   "name": "python3"
  },
  "language_info": {
   "codemirror_mode": {
    "name": "ipython",
    "version": 3
   },
   "file_extension": ".py",
   "mimetype": "text/x-python",
   "name": "python",
   "nbconvert_exporter": "python",
   "pygments_lexer": "ipython3",
   "version": "3.8.8"
  }
 },
 "nbformat": 4,
 "nbformat_minor": 4
}
