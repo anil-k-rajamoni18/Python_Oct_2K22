{
 "cells": [
  {
   "cell_type": "markdown",
   "metadata": {},
   "source": [
    "### Web Development!\n",
    "\n",
    "- Web development is the building and maintenance of websites; it’s the work that happens behind the scenes to make a website look great, work fast and perform well with a seamless user experience.\n",
    "\n",
    "- Web developers, or ‘devs’, do this by using a variety of coding languages. "
   ]
  },
  {
   "cell_type": "markdown",
   "metadata": {},
   "source": [
    "#### A front-end dev takes care of layout, design and interactivity using HTML, CSS and JavaScript. They take an idea from the drawing board and turn it into reality.\n",
    "- What you see and What you use like\n",
    "- visual effects\n",
    "- drop down mens\n",
    "- forms\n"
   ]
  },
  {
   "cell_type": "markdown",
   "metadata": {},
   "source": [
    "#### The backend developer engineers what is going on behind the scenes. This is where the data is stored, and without this data, there would be no frontend. \n",
    "- The backend of the web consists of the server that hosts the website, an application for running it and a database to contain the data."
   ]
  },
  {
   "cell_type": "markdown",
   "metadata": {},
   "source": [
    "### If both Frontend and Backend development appeal to you, you could consider becoming a Full-Stack Developer."
   ]
  },
  {
   "cell_type": "markdown",
   "metadata": {},
   "source": [
    "### Web development with Python\n",
    "\n",
    "Step 1: HTML + CSS. ...\n",
    "\n",
    "Step 2: Javascript. ...\n",
    "\n",
    "Step 3: DOM & jQuery. ...\n",
    "\n",
    "Frontend Framework (optional) ...\n",
    "\n",
    "Step 4: Python. ...\n",
    "\n",
    "Step 5: Django + Database. or Flask + Database"
   ]
  },
  {
   "cell_type": "code",
   "execution_count": null,
   "metadata": {},
   "outputs": [],
   "source": []
  },
  {
   "cell_type": "markdown",
   "metadata": {},
   "source": [
    "### Web Frameworks\n",
    "\n",
    "- Python web frameworks are only utilized in the backend for server-side technology, aiding in URL routing, HTTP requests and responses, accessing databases, and web security\n",
    "\n",
    "- Django and Flask are, by a wide margin, the most popular Python web development frameworks\n",
    "\n",
    "\n",
    "\n",
    "- Other Frameworks\n",
    "    - Pyramid\n",
    "    - Web2Py\n",
    "    - Turbogears\n"
   ]
  },
  {
   "cell_type": "markdown",
   "metadata": {},
   "source": [
    "### Flask\n",
    "\n",
    "- Flask is considered a microframework, which is a minimalistic web framework. \n",
    "- It’s less “batteries-included,” meaning that it lacks a lot of features and functionality that full-stack frameworks like Django offer, such as a web template engine, account authorization, and authentication\n",
    "\n",
    "- Flask is minimalistic and lightweight\n",
    "- Flask is also a prevalent and powerful web framework as it’s used by large companies like Netflix, Linkedin, and Uber.\n",
    "\n",
    "- Flask depends on the Jinja template engine and the Werkzeug WSGI toolkit\n",
    "\n",
    "- Current version is 2.0.2"
   ]
  },
  {
   "cell_type": "markdown",
   "metadata": {},
   "source": [
    "### Installation\n",
    "\n",
    "- recommend using the latest version of Python. Flask supports Python 3.6 and newer.\n",
    "\n",
    " These distributions will be installed automatically when installing Flask.\n",
    "\n",
    "Werkzeug implements WSGI, the standard Python interface between applications and servers.\n",
    "\n",
    "Jinja is a template language that renders the pages your application serves.\n",
    "\n",
    "MarkupSafe comes with Jinja. It escapes untrusted input when rendering templates to avoid injection attacks.\n",
    "\n",
    "ItsDangerous securely signs data to ensure its integrity. This is used to protect Flask’s session cookie.\n",
    "\n",
    "Click is a framework for writing command line applications. It provides the flask command and allows adding custom management commands."
   ]
  },
  {
   "cell_type": "markdown",
   "metadata": {},
   "source": [
    "#### Creating a environment\n",
    "\n",
    "- step 1: mkdir myproject\n",
    "- step2: cd myproject\n",
    "- step3: python -m venv nameofenv\n",
    "- step4: activate the environment\n",
    "        .\\nameofenv\\Scripts\\activate\n",
    "        \n",
    "- step5: install the Flask\n",
    "        pip install Flask"
   ]
  },
  {
   "cell_type": "markdown",
   "metadata": {},
   "source": [
    "### minimal app\n"
   ]
  },
  {
   "cell_type": "code",
   "execution_count": 1,
   "metadata": {},
   "outputs": [],
   "source": [
    "from flask import Flask\n",
    "app = Flask(__name__) \n",
    "\n",
    "@app.route(\"/\")\n",
    "def hello_world():\n",
    "    return \"<h2> Hello, World! </h2>\""
   ]
  },
  {
   "cell_type": "markdown",
   "metadata": {},
   "source": [
    "Line 1 imports Flask\n",
    "\n",
    "Line 2 instantiates Flask with app variable, using the __name__ attribute\n",
    "\n",
    "Line 4 sets up a route / for your index, or default, page. When a user goes to locahost:5000/, you can set up particular code to be triggered\n",
    "\n",
    "Line 5 creates a function called hello\n",
    "\n",
    "Line 6 returns the string Hello World! to the user\n",
    "\n",
    "Line 8 tests to make sure the right script is being run\n",
    "\n",
    "Line 9 runs the application from the app variable we initialized so that the user can visit the web application by going to localhost"
   ]
  },
  {
   "cell_type": "markdown",
   "metadata": {},
   "source": [
    "### setting the enviroment variables\n",
    "set FLASK_APP=\"name of file\"\n",
    "\n",
    "\n",
    "- To enable all development features, set the FLASK_ENV environment variable to development before calling flask run.\n",
    "\n",
    "- set FLASK_ENV=development\n",
    "\n",
    "### To the run the application\n",
    "\n",
    "flask run"
   ]
  },
  {
   "cell_type": "markdown",
   "metadata": {},
   "source": [
    "### What is LocalHost?\n",
    "\n",
    "- Localhost is always your own compute- r. Your computer is talking to itself when you call the localhost. Your computer not always directly identifies the localhost.\n",
    "\n",
    "\n",
    "- Localhost can be seen as a server that is used on your own computer. \n",
    "\n",
    "- Localhost has the IP address 127.0.0.1. This refers back to your own server. \n",
    "\n",
    "##### What is localhost used for? \n",
    "- Developers use the localhost to test web applications and programs.\n",
    "\n",
    "-  Network administrators use the loopback to test network connections. \n",
    "\n",
    "- Another use for the localhost is the hosts file, where you can use the loopback to block malicious websites."
   ]
  },
  {
   "cell_type": "markdown",
   "metadata": {},
   "source": [
    "#### flask project structure\n",
    "\n",
    "- static \n",
    "- templates\n",
    "- app.py\n",
    "\n",
    "static  = all css and bootstarap and images\n",
    "\n",
    "templates = all html files\n",
    "\n",
    "app.py = main source code"
   ]
  },
  {
   "cell_type": "code",
   "execution_count": null,
   "metadata": {},
   "outputs": [],
   "source": []
  }
 ],
 "metadata": {
  "kernelspec": {
   "display_name": "Python 3",
   "language": "python",
   "name": "python3"
  },
  "language_info": {
   "codemirror_mode": {
    "name": "ipython",
    "version": 3
   },
   "file_extension": ".py",
   "mimetype": "text/x-python",
   "name": "python",
   "nbconvert_exporter": "python",
   "pygments_lexer": "ipython3",
   "version": "3.8.8"
  }
 },
 "nbformat": 4,
 "nbformat_minor": 4
}
