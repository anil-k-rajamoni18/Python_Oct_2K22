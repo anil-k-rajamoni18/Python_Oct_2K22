{
 "cells": [
  {
   "cell_type": "markdown",
   "metadata": {},
   "source": [
    "### Intro to Machine Learning\n"
   ]
  },
  {
   "cell_type": "markdown",
   "metadata": {},
   "source": [
    "**We have seen Machine Learning as a buzzword for the past few years, the reason for this might be the high amount of data production by applications,**\n",
    "__the increase of computation power in the past few years and the development of better algorithms.__"
   ]
  },
  {
   "cell_type": "markdown",
   "metadata": {},
   "source": [
    "A Quick History of Machine Learning\n",
    "\n",
    "<img src =\" https://miro.medium.com/max/784/1*r3vNSUygS07701hYWmaEoA.png\">\n",
    "\n",
    "- It was in the 1940s when the first manually operated computer system, ENIAC (Electronic Numerical Integrator and Computer), was invented.\n",
    "- At that time the word “computer” was being used as a name for a human with intensive numerical computation capabilities, \n",
    "- so, ENIAC was called a numerical computing machine! Well, you may say it has nothing to do with learning?! WRONG, from the beginning the idea was to build a machine able to emulate human thinking and learning.\n",
    "\n",
    "#### Applications\n",
    "- Prediction — Machine learning can also be used in the prediction systems. Considering the loan example, to compute the probability of a fault, the system will need to classify the available data in groups.\n",
    "- Image recognition — Machine learning can be used for face detection in an image as well. There is a separate category for each person in a database of several people.\n",
    "- Speech Recognition — It is the translation of spoken words into the text. It is used in voice searches and more. Voice user interfaces include voice dialing, call routing, and appliance control. It can also be used a simple data entry and the preparation of structured documents.\n",
    "- Medical diagnoses — ML is trained to recognize cancerous tissues.\n",
    "Financial industry and trading — companies use ML in fraud investigations and credit checks."
   ]
  },
  {
   "cell_type": "markdown",
   "metadata": {},
   "source": [
    "#### What is Machine Learning?\n",
    "\n",
    "<img src = \"https://miro.medium.com/max/2400/1*c_fiB-YgbnMl6nntYGBMHQ.jpeg\">\n",
    "\n",
    "\n",
    "- Machine Learning algorithms enable the computers to learn from data, and even improve themselves, without being explicitly programmed.\n",
    "\n",
    "\n",
    "\n",
    "\n",
    "- (ML) is a category of an algorithm that allows software applications to become more accurate in predicting outcomes without being explicitly programmed. \n",
    "\n",
    "\n",
    "\n",
    "\n",
    "\n",
    "- The basic premise of machine learning is to build algorithms that can receive input data and use statistical analysis to predict an output while updating outputs as new data becomes available."
   ]
  },
  {
   "cell_type": "markdown",
   "metadata": {},
   "source": [
    "### Types\n",
    "\n",
    "- Machine learning can be classified into 3 types of algorithms.\n",
    "- Supervised Learning \n",
    "- Unsupervised Learning \n",
    "- Reinforcement Learning\n",
    "- Semi Supervised\n",
    "\n",
    "<img src = \" https://wordstream-files-prod.s3.amazonaws.com/s3fs-public/styles/simple_image/public/images/machine-learning1.png?SnePeroHk5B9yZaLY7peFkULrfW8Gtaf&itok=yjEJbEKD\" >"
   ]
  },
  {
   "cell_type": "markdown",
   "metadata": {},
   "source": [
    "### Supervised Learning\n",
    "\n",
    "- Supervised learning describes a class of problem that involves using a model to learn a mapping between input examples and the target variable.\n",
    "\n",
    "- Models are fit on training data comprised of inputs and outputs and \n",
    "- used to make predictions on test sets where only the inputs are provided and the outputs from the model are compared to the withheld target variables and used to estimate the skill of the model.\n",
    "\n",
    "- types :\n",
    "\n",
    "#### Classification: Supervised learning problem that involves predicting a class label.\n",
    " \n",
    " - In classfication we have algorithms like \n",
    "         - Knn Classifier\n",
    "         - SVM Classifier\n",
    "         - Random Forest Classifier\n",
    "         - Decision Tree\n",
    "         - Logistic Regression\n",
    "   - Application\n",
    "       - Predicting the Heart , Blood cancer , Diabetes\n",
    "       - Classify animals\n",
    "       \n",
    "       \n",
    "       \n",
    "       \n",
    " <img src = \"https://www.simplilearn.com/ice9/free_resources_article_thumb/classification.JPG\">\n",
    " \n",
    "<img src = \"https://miro.medium.com/max/784/1*af-tNiqd-3_ResjoDOFm5A.png\">\n",
    " \n",
    " \n",
    "####  Regression: Supervised learning problem that involves predicting a numerical label.\n",
    "\n",
    "    - In Regresssion we have a algorithms like \n",
    "            - Linear Regression\n",
    "            - Decision Tree\n",
    "            - Random Forest Regressor\n",
    "            - Rigid Regressor\n",
    " - Applications:\n",
    "         - Predicting the stock prices\n",
    "         - Uber prices\n",
    "         - House prices\n",
    "         - Weather\n",
    "         "
   ]
  },
  {
   "cell_type": "markdown",
   "metadata": {},
   "source": [
    "### Unsupervised Learning\n",
    "\n",
    "- Unsupervised learning describes a class of problems that involves using a model to describe or extract relationships in data.\n",
    "\n",
    "\n",
    "- Compared to supervised learning, unsupervised learning operates upon only the input data without outputs or target variables.\n",
    "\n",
    "\n",
    "-  As such, unsupervised learning does not have a teacher correcting the model, as in the case of supervised learning.\n",
    "\n",
    "- In unsupervised learning, there is no instructor or teacher, and the algorithm must learn to make sense of the data without this guide.\n",
    "\n",
    "\n",
    "<img src =\" https://static.javatpoint.com/tutorial/machine-learning/images/unsupervised-machine-learning-1.png\">\n",
    "\n",
    "\n",
    "### types\n",
    "- Clustering: \n",
    "        * A clustering problem is where you want to discover the inherent groupings in the data, such as grouping customers by purchasing behavior.\n",
    "        \n",
    "    \n",
    "\n",
    "\n",
    "- Association: \n",
    "        *  An association rule learning problem is where you want to discover rules that describe large portions of your data, such as people that buy X also tend to buy Y.\n",
    "        \n",
    "        \n",
    "### Algorithms\n",
    "        - K-means clustering\n",
    "        - KNN (k-nearest neighbors)\n",
    "        - Hierarchal clustering\n",
    "        - Anomaly detection\n",
    "        - Neural Networks\n",
    "        - Principle Component Analysis\n",
    "        - Independent Component Analysis"
   ]
  },
  {
   "cell_type": "markdown",
   "metadata": {},
   "source": [
    "### Reinforcement Learning\n",
    "\n",
    "- Reinforcement learning describes a class of problems where an agent operates in an environment and must learn to operate using feedback.\n",
    "\n",
    "\n",
    "- Reinforcement learning is learning what to do — how to map situations to actions—so as to maximize a numerical reward signal. The learner is not told which actions to take, but instead must discover which actions yield the most reward by trying them.\n",
    "\n",
    "\n",
    "- The agent receives rewards by performing correctly and penalties for performing incorrectly. The agent learns without intervention from a human by maximizing its reward and minimizing its penalty. \n",
    "\n",
    "It is a type of dynamic programming that trains algorithms using a system of reward and punishment.\n",
    "\n",
    "- <img src = \"https://miro.medium.com/max/674/1*sTXlD9Vo6shG8RLuigobvA.png\">\n",
    "\n",
    "\n",
    "\n",
    "WATCH NEURAL LINK PROJECT \n",
    "\n",
    "https://www.youtube.com/watch?v=2rXrGH52aoM"
   ]
  },
  {
   "cell_type": "code",
   "execution_count": null,
   "metadata": {},
   "outputs": [],
   "source": []
  },
  {
   "cell_type": "code",
   "execution_count": null,
   "metadata": {},
   "outputs": [],
   "source": []
  }
 ],
 "metadata": {
  "kernelspec": {
   "display_name": "Python 3",
   "language": "python",
   "name": "python3"
  },
  "language_info": {
   "codemirror_mode": {
    "name": "ipython",
    "version": 3
   },
   "file_extension": ".py",
   "mimetype": "text/x-python",
   "name": "python",
   "nbconvert_exporter": "python",
   "pygments_lexer": "ipython3",
   "version": "3.8.8"
  }
 },
 "nbformat": 4,
 "nbformat_minor": 4
}
