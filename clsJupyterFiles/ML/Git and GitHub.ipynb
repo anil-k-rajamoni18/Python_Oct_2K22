{
 "cells": [
  {
   "cell_type": "markdown",
   "metadata": {},
   "source": [
    "### What Is Git?\n",
    "- It is Version control System Tool , To Keep track of Files in the local System\n",
    "-  First developed back in 2005,\n",
    "- Git is an extremely popular version control system that is at the heart of a wide variety of high-profile projects\n",
    "\n",
    "- Git is installed and maintained on your local system (rather than in the cloud) and gives you a self-contained record of your ongoing programming version\n",
    "\n",
    "- ### Pros \n",
    "        - Git is responsive\n",
    "        - easy to use, and inexpensive\n",
    "        - Git is also specially designed to work well with text files — which, if you think about it, is what code actually is\n",
    "        - Branching allows you to create independent local branches in your code\n",
    "        - Git is a high-quality version control system\n",
    "        \n",
    "        "
   ]
  },
  {
   "cell_type": "markdown",
   "metadata": {},
   "source": [
    "### Version Control\n",
    "<img src =\"https://blog.devmountain.com/hs-fs/hubfs/Imported_Blog_Media/Gitvs_Github-1b-750x322-1.jpg?width=600&name=Gitvs_Github-1b-750x322-1.jpg\">"
   ]
  },
  {
   "cell_type": "markdown",
   "metadata": {},
   "source": [
    "### What is Git Hub?\n",
    "\n",
    "-  it’s been said that GitHub is to Git what Facebook is to your actual face. What’s that mean? Well, it means that while Facebook is kind of like an online face database (of sorts). GitHub is designed as a Git repository hosting service. \n",
    "-  It’s an online database that allows you to keep track of and share your Git version control projects outside of your local computer/server.\n",
    "\n",
    "- \n",
    " <img src = \" https://blog.devmountain.com/hs-fs/hubfs/Imported_Blog_Media/Gitvs_Github-1c-750x321-1.jpg?width=600&name=Gitvs_Github-1c-750x321-1.jpg\">"
   ]
  },
  {
   "cell_type": "markdown",
   "metadata": {},
   "source": [
    "<img src =\"https://blog.devmountain.com/hs-fs/hubfs/Imported_Blog_Media/Gitvs_Github-1a-1.jpg?width=600&name=Gitvs_Github-1a-1.jpg\">"
   ]
  },
  {
   "cell_type": "markdown",
   "metadata": {},
   "source": [
    "### Git commands \n",
    "\n",
    "- Git is an important part of daily programming (especially if you're working with a team) and is widely used in the software industry).\n",
    "### 1. Git clone\n",
    "- It clone is a command for downloading existing source code from a remote repository (like Github\n",
    "- In other words, Git clone basically makes an identical copy of the latest version of a project in a repository and saves it to your computer.\n",
    "\n",
    "    __git clone <https://name-of-the-repository-link>__\n",
    "    \n",
    "    \n",
    "### 2. Git status\n",
    "- The Git status command gives us all the necessary information about the current branch. \n",
    "    \n",
    "    __git status__ \n",
    "    \n",
    "    \n",
    "### 3. Git add\n",
    "- When we create, modify or delete a file, these changes will happen in our local and won't be included in the next commit (unless we change the \n",
    "\n",
    "configurations).\n",
    "\n",
    "- We need to use the git add command to include the changes of a file(s) into our next commit. \n",
    "\n",
    "\n",
    "\n",
    "\n",
    "- To add a single file:\n",
    " **git add file-name**\n",
    "\n",
    "\n",
    "\n",
    "- To add everything at once:\n",
    "    **git add -A**\n",
    "    \n",
    "    \n",
    "### Git commit\n",
    "        - This is maybe the most-used command of Git\n",
    "        - Once we reach a certain point in development, we want to save our changes (maybe after a specific task or issue).\n",
    "        \n",
    "        - Git commit is like setting a checkpoint in \n",
    "        the development process which you can go back to later if needed.\n",
    "        - We also need to write a short message to explain what we have developed or changed in the source code.\n",
    "        \n",
    "  **git commit -m \"commit message\"**\n",
    "  \n",
    "  ### Git push\n",
    "  - After committing your changes, the next thing you want to do is send your changes to the remote server.\n",
    "  -   Git push uploads your commits to the remote repository.\n",
    "  \n",
    " **git push -u remote branch-name**\n",
    "  \n",
    "  \n",
    "###  Git pull\n",
    "- The git pull command is used to get updates from the remote repo.\n",
    "-  This command is a combination of **git fetch** and **git merge** which means that, when we use git pull, \n",
    "- it gets the updates from remote repository (git fetch) and immediately applies the latest changes in your local (git merge)."
   ]
  },
  {
   "cell_type": "code",
   "execution_count": null,
   "metadata": {},
   "outputs": [],
   "source": []
  }
 ],
 "metadata": {
  "kernelspec": {
   "display_name": "Python 3",
   "language": "python",
   "name": "python3"
  },
  "language_info": {
   "codemirror_mode": {
    "name": "ipython",
    "version": 3
   },
   "file_extension": ".py",
   "mimetype": "text/x-python",
   "name": "python",
   "nbconvert_exporter": "python",
   "pygments_lexer": "ipython3",
   "version": "3.8.8"
  }
 },
 "nbformat": 4,
 "nbformat_minor": 4
}
