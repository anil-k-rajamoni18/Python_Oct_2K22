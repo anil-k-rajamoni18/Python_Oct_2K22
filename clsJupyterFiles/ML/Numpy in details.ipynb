{
 "cells": [
  {
   "cell_type": "markdown",
   "metadata": {},
   "source": [
    "# Numpy Array"
   ]
  },
  {
   "cell_type": "markdown",
   "metadata": {},
   "source": [
    "##### What is NumPy?\n",
    "\n",
    "- NumPy is a Python library used for working with arrays, images, matrix etc\n",
    "\n",
    "- It also has functions for working in domain of linear algebra, fourier transform, and matrices.\n",
    "\n",
    "- NumPy was created in 2005 by Travis Oliphant. It is an open source project and you can use it freely.\n",
    "\n",
    "- NumPy stands for Numerical Python.\n",
    "\n",
    "\n",
    "### Why Use NumPy?\n",
    "\n",
    "- In Python we have lists that serve the purpose of arrays, but they are slow to process.\n",
    "- NumPy aims to provide an array object that is up to 50x faster than traditional Python lists.\n",
    "\n",
    "- NumPy arrays are stored at one continuous place in memory unlike lists, so processes can access and manipulate them very efficiently.\n",
    "\n",
    "- This behavior is called locality of reference in computer science."
   ]
  },
  {
   "cell_type": "markdown",
   "metadata": {},
   "source": [
    "#### Install \n",
    "\n",
    "- we need to install the numpy before we use it, as it is not a builtin module.\n",
    "\n",
    "pip install numpy"
   ]
  },
  {
   "cell_type": "code",
   "execution_count": null,
   "metadata": {},
   "outputs": [],
   "source": [
    "from IPython.core.interactiveshell import InteractiveShell\n",
    "InteractiveShell.ast_node_interactivity = \"all\""
   ]
  },
  {
   "cell_type": "code",
   "execution_count": null,
   "metadata": {},
   "outputs": [],
   "source": [
    "a=10\n",
    "b=20\n",
    "a\n",
    "b"
   ]
  },
  {
   "cell_type": "code",
   "execution_count": null,
   "metadata": {},
   "outputs": [],
   "source": [
    "#importing\n",
    "\n",
    "import numpy\n",
    "\n",
    "#alias\n",
    "import numpy as np"
   ]
  },
  {
   "cell_type": "code",
   "execution_count": null,
   "metadata": {},
   "outputs": [],
   "source": [
    "dir(np)"
   ]
  },
  {
   "cell_type": "code",
   "execution_count": null,
   "metadata": {
    "scrolled": true
   },
   "outputs": [],
   "source": [
    "import numpy as np\n",
    "\n",
    "arr = np.array([\"vbhvh\", 2, 3])\n",
    "print(arr)\n",
    "type(arr)"
   ]
  },
  {
   "cell_type": "code",
   "execution_count": null,
   "metadata": {},
   "outputs": [],
   "source": [
    "arr[0]\n",
    "arr[2]\n",
    "# arr[3]=10 \n",
    "type(arr[2])"
   ]
  },
  {
   "cell_type": "code",
   "execution_count": null,
   "metadata": {},
   "outputs": [],
   "source": [
    "#Upcasting:"
   ]
  },
  {
   "cell_type": "code",
   "execution_count": null,
   "metadata": {},
   "outputs": [],
   "source": [
    "arr = np.array([1, 2, 3.0,40.2,39.4 ,True])\n",
    "print(arr[0],type(arr[0]))\n",
    "print(arr)"
   ]
  },
  {
   "cell_type": "code",
   "execution_count": null,
   "metadata": {},
   "outputs": [],
   "source": [
    "arr[0]\n",
    "type(arr[1])"
   ]
  },
  {
   "cell_type": "code",
   "execution_count": null,
   "metadata": {},
   "outputs": [],
   "source": [
    "#two dimensions"
   ]
  },
  {
   "cell_type": "code",
   "execution_count": null,
   "metadata": {},
   "outputs": [],
   "source": [
    " a2d= np.array([[1, 2], [3, 4]])"
   ]
  },
  {
   "cell_type": "code",
   "execution_count": null,
   "metadata": {},
   "outputs": [],
   "source": [
    "a2d[1,1]\n",
    "a2d[1][1]\n",
    "a2d[-1][-1]\n",
    "a2d[-1,-1]"
   ]
  },
  {
   "cell_type": "code",
   "execution_count": null,
   "metadata": {},
   "outputs": [],
   "source": [
    "a2d.shape"
   ]
  },
  {
   "cell_type": "code",
   "execution_count": null,
   "metadata": {},
   "outputs": [],
   "source": []
  },
  {
   "cell_type": "code",
   "execution_count": null,
   "metadata": {},
   "outputs": [],
   "source": [
    "#Minimum dimensions 2:"
   ]
  },
  {
   "cell_type": "code",
   "execution_count": null,
   "metadata": {},
   "outputs": [],
   "source": [
    "a = np.array([1, 2, 3], ndmin=5)"
   ]
  },
  {
   "cell_type": "code",
   "execution_count": null,
   "metadata": {},
   "outputs": [],
   "source": [
    "a.shape"
   ]
  },
  {
   "cell_type": "code",
   "execution_count": null,
   "metadata": {},
   "outputs": [],
   "source": [
    "#3\n",
    "a[0][0][0][0][2]"
   ]
  },
  {
   "cell_type": "code",
   "execution_count": null,
   "metadata": {},
   "outputs": [],
   "source": [
    "\n",
    "arr=np.array([1, 2, 3,5,10,2,291,2782,10991], ndmin=4)\n",
    "arr"
   ]
  },
  {
   "cell_type": "code",
   "execution_count": null,
   "metadata": {},
   "outputs": [],
   "source": [
    "#checking the dimension\n",
    "arr.shape\n",
    "\n",
    "len(arr)\n",
    "\n",
    "print(arr)\n",
    "\n",
    "# print(arr[0][0][0,7])\n",
    "print(arr[0])\n",
    "print(arr[0][0])\n",
    "print(arr[0][0][0])\n",
    "print(arr[0][0][0][4])\n",
    "print(arr[0,0,0,4])"
   ]
  },
  {
   "cell_type": "code",
   "execution_count": null,
   "metadata": {},
   "outputs": [],
   "source": [
    "#dtype"
   ]
  },
  {
   "cell_type": "code",
   "execution_count": null,
   "metadata": {},
   "outputs": [],
   "source": [
    " np.array([1+2j, 2, 3], dtype=complex) #x+ij"
   ]
  },
  {
   "cell_type": "code",
   "execution_count": null,
   "metadata": {},
   "outputs": [],
   "source": [
    " np.array([1, 2, 3], dtype=str)"
   ]
  },
  {
   "cell_type": "code",
   "execution_count": null,
   "metadata": {},
   "outputs": [],
   "source": [
    " np.array([1, 2, 0,{32}], dtype=bool)"
   ]
  },
  {
   "cell_type": "code",
   "execution_count": null,
   "metadata": {},
   "outputs": [],
   "source": [
    "#Data-type consisting of more than one element:"
   ]
  },
  {
   "cell_type": "code",
   "execution_count": null,
   "metadata": {},
   "outputs": [],
   "source": [
    "x = np.array([(1,2),(3,4)],dtype=[('f','f'),('b','<i4')])\n",
    "x"
   ]
  },
  {
   "cell_type": "code",
   "execution_count": null,
   "metadata": {},
   "outputs": [],
   "source": [
    "a=np.array([1, 2, 3], dtype='f')\n",
    "type(a[0])"
   ]
  },
  {
   "cell_type": "code",
   "execution_count": null,
   "metadata": {},
   "outputs": [],
   "source": [
    "print(x[0][1])\n",
    "type(x[0][0])\n",
    "type(x[0][1])\n",
    "type(x[1][0])\n",
    "type(x[1][1])"
   ]
  },
  {
   "cell_type": "markdown",
   "metadata": {},
   "source": [
    "\n",
    "##### Creating an array from sub-classes:"
   ]
  },
  {
   "cell_type": "code",
   "execution_count": null,
   "metadata": {},
   "outputs": [],
   "source": [
    "a = np.mat(np.array([[1, 2],[4,7]]))\n",
    "a.shape"
   ]
  },
  {
   "cell_type": "code",
   "execution_count": null,
   "metadata": {},
   "outputs": [],
   "source": [
    "arr=np.mat(np.array([[1, 2,3],[98,7,67]]))\n",
    "arr.shape\n",
    "print(arr[0,2]) #3rd element on the 1 dimensin\n",
    "\n",
    "print(arr[1,0])"
   ]
  },
  {
   "cell_type": "code",
   "execution_count": null,
   "metadata": {},
   "outputs": [],
   "source": [
    "np.mat('1 2; 3 5;3 4')"
   ]
  },
  {
   "cell_type": "markdown",
   "metadata": {},
   "source": [
    "# numpy.asarray\n",
    "- Convert the input to an array.\n",
    "- Convert a list into an array:"
   ]
  },
  {
   "cell_type": "code",
   "execution_count": null,
   "metadata": {},
   "outputs": [],
   "source": [
    " a = [1, 2]\n",
    "type(a)"
   ]
  },
  {
   "cell_type": "code",
   "execution_count": null,
   "metadata": {},
   "outputs": [],
   "source": [
    "type(np.asarray(a))"
   ]
  },
  {
   "cell_type": "code",
   "execution_count": null,
   "metadata": {},
   "outputs": [],
   "source": [
    "a = np.array([1, 2]) #Existing arrays are not copied\n",
    "type(a)"
   ]
  },
  {
   "cell_type": "code",
   "execution_count": null,
   "metadata": {},
   "outputs": [],
   "source": [
    "np.asarray((1,2))"
   ]
  },
  {
   "cell_type": "code",
   "execution_count": null,
   "metadata": {},
   "outputs": [],
   "source": [
    "#If dtype is set, array is copied only if dtype does not match:"
   ]
  },
  {
   "cell_type": "code",
   "execution_count": null,
   "metadata": {},
   "outputs": [],
   "source": [
    "# np.int8\n",
    "# np.int16 ,32,64\n",
    "# np.float32,64"
   ]
  },
  {
   "cell_type": "code",
   "execution_count": null,
   "metadata": {},
   "outputs": [],
   "source": [
    "a = np.array([1, 2], dtype=np.float32)\n",
    "a\n",
    "type(a[0])"
   ]
  },
  {
   "cell_type": "code",
   "execution_count": null,
   "metadata": {},
   "outputs": [],
   "source": [
    "a\n",
    "type(a)"
   ]
  },
  {
   "cell_type": "code",
   "execution_count": null,
   "metadata": {},
   "outputs": [],
   "source": [
    "b = np.asarray([1,2])\n",
    "b\n",
    "type(b) \n",
    "id(b)\n",
    "id(a)\n",
    "a is b"
   ]
  },
  {
   "cell_type": "code",
   "execution_count": null,
   "metadata": {},
   "outputs": [],
   "source": [
    "np.asarray([1,2])"
   ]
  },
  {
   "cell_type": "code",
   "execution_count": null,
   "metadata": {},
   "outputs": [],
   "source": [
    "id(np.asanyarray([1,2], dtype=np.float32))"
   ]
  },
  {
   "cell_type": "code",
   "execution_count": null,
   "metadata": {},
   "outputs": [],
   "source": [
    "id(a)"
   ]
  },
  {
   "cell_type": "code",
   "execution_count": null,
   "metadata": {},
   "outputs": [],
   "source": [
    "a=10\n",
    "b=10\n",
    "id(a),id(b)\n",
    "a is b"
   ]
  },
  {
   "cell_type": "code",
   "execution_count": null,
   "metadata": {},
   "outputs": [],
   "source": [
    "# ndarray subclasses are not passed through"
   ]
  },
  {
   "cell_type": "code",
   "execution_count": null,
   "metadata": {},
   "outputs": [],
   "source": [
    "class A:\n",
    "    a=10\n",
    "obj=A()\n",
    "\n",
    "isinstance(obj,A)"
   ]
  },
  {
   "cell_type": "code",
   "execution_count": null,
   "metadata": {},
   "outputs": [],
   "source": [
    "class myAge:\n",
    "  age = 36\n",
    "\n",
    "class myObj(myAge):\n",
    "  name = \"John\"\n",
    "  age = myAge\n",
    "\n",
    "x = issubclass(myObj, myAge)\n",
    "print(x)"
   ]
  },
  {
   "cell_type": "code",
   "execution_count": null,
   "metadata": {},
   "outputs": [],
   "source": [
    "issubclass(np.matrix, np.ndarray)"
   ]
  },
  {
   "cell_type": "code",
   "execution_count": null,
   "metadata": {},
   "outputs": [],
   "source": [
    "### np.asanyarray(obj)"
   ]
  },
  {
   "cell_type": "code",
   "execution_count": null,
   "metadata": {},
   "outputs": [],
   "source": [
    "a = np.matrix([[1, 2]])\n",
    "\n",
    "print(a)\n",
    "\n",
    "a=[1,23,3]\n",
    "# a={1,2,3,4}\n",
    "# a=(1,2,3,4)\n",
    "\n",
    "np.asanyarray(a)\n"
   ]
  },
  {
   "cell_type": "code",
   "execution_count": null,
   "metadata": {},
   "outputs": [],
   "source": [
    "np.asarray(a)  is a"
   ]
  },
  {
   "cell_type": "code",
   "execution_count": null,
   "metadata": {},
   "outputs": [],
   "source": [
    "a = np.asanyarray([1,2,3])\n",
    "b = a\n",
    "a is b "
   ]
  },
  {
   "cell_type": "markdown",
   "metadata": {},
   "source": [
    "#### numpy.copy"
   ]
  },
  {
   "cell_type": "code",
   "execution_count": null,
   "metadata": {},
   "outputs": [],
   "source": [
    "np.array(a, copy=True)"
   ]
  },
  {
   "cell_type": "code",
   "execution_count": null,
   "metadata": {},
   "outputs": [],
   "source": [
    "#Create an array x, with a reference y and a copy z:"
   ]
  },
  {
   "cell_type": "code",
   "execution_count": null,
   "metadata": {},
   "outputs": [],
   "source": [
    "x = np.array([1, 2, 3])\n",
    "x"
   ]
  },
  {
   "cell_type": "code",
   "execution_count": null,
   "metadata": {},
   "outputs": [],
   "source": [
    "y = x #alias\n",
    "y"
   ]
  },
  {
   "cell_type": "code",
   "execution_count": null,
   "metadata": {},
   "outputs": [],
   "source": [
    "z = np.copy(x)\n",
    "z"
   ]
  },
  {
   "cell_type": "code",
   "execution_count": 51,
   "metadata": {},
   "outputs": [
    {
     "data": {
      "text/plain": [
       "array([1, 2, 3])"
      ]
     },
     "execution_count": 51,
     "metadata": {},
     "output_type": "execute_result"
    },
    {
     "data": {
      "text/plain": [
       "array([1, 2, 3])"
      ]
     },
     "execution_count": 51,
     "metadata": {},
     "output_type": "execute_result"
    },
    {
     "data": {
      "text/plain": [
       "array([1, 2, 3])"
      ]
     },
     "execution_count": 51,
     "metadata": {},
     "output_type": "execute_result"
    }
   ],
   "source": [
    "x\n",
    "y\n",
    "z"
   ]
  },
  {
   "cell_type": "code",
   "execution_count": 54,
   "metadata": {},
   "outputs": [
    {
     "data": {
      "text/plain": [
       "(2450697496496, 2450697496496)"
      ]
     },
     "execution_count": 54,
     "metadata": {},
     "output_type": "execute_result"
    },
    {
     "data": {
      "text/plain": [
       "(2450697496496, 2450697607664)"
      ]
     },
     "execution_count": 54,
     "metadata": {},
     "output_type": "execute_result"
    },
    {
     "data": {
      "text/plain": [
       "(2450697607664, 2450697496496)"
      ]
     },
     "execution_count": 54,
     "metadata": {},
     "output_type": "execute_result"
    }
   ],
   "source": [
    "id(x) , id(y)\n",
    "id(y) , id(z)\n",
    "id(z) , id(x)"
   ]
  },
  {
   "cell_type": "code",
   "execution_count": null,
   "metadata": {},
   "outputs": [],
   "source": [
    "y[0] = 100\n",
    "y"
   ]
  },
  {
   "cell_type": "code",
   "execution_count": null,
   "metadata": {},
   "outputs": [],
   "source": [
    "x"
   ]
  },
  {
   "cell_type": "code",
   "execution_count": null,
   "metadata": {},
   "outputs": [],
   "source": [
    "z[0] = 200"
   ]
  },
  {
   "cell_type": "code",
   "execution_count": null,
   "metadata": {},
   "outputs": [],
   "source": [
    "id(x)"
   ]
  },
  {
   "cell_type": "code",
   "execution_count": null,
   "metadata": {},
   "outputs": [],
   "source": [
    "id(y)"
   ]
  },
  {
   "cell_type": "code",
   "execution_count": null,
   "metadata": {},
   "outputs": [],
   "source": []
  },
  {
   "cell_type": "code",
   "execution_count": null,
   "metadata": {},
   "outputs": [],
   "source": [
    "id(x) "
   ]
  },
  {
   "cell_type": "code",
   "execution_count": null,
   "metadata": {},
   "outputs": [],
   "source": [
    "id(z)"
   ]
  },
  {
   "cell_type": "markdown",
   "metadata": {},
   "source": [
    "# numpy.fromfunction"
   ]
  },
  {
   "cell_type": "code",
   "execution_count": null,
   "metadata": {},
   "outputs": [],
   "source": [
    "#Construct an array by executing a function over each coordinate."
   ]
  },
  {
   "cell_type": "code",
   "execution_count": 3,
   "metadata": {},
   "outputs": [
    {
     "data": {
      "text/plain": [
       "array([[ True, False, False],\n",
       "       [False,  True, False],\n",
       "       [False, False,  True]])"
      ]
     },
     "execution_count": 3,
     "metadata": {},
     "output_type": "execute_result"
    }
   ],
   "source": [
    "import numpy as np\n",
    "\n",
    "np.fromfunction(lambda i, j: i == j, (3, 3), dtype=int)"
   ]
  },
  {
   "cell_type": "code",
   "execution_count": 4,
   "metadata": {},
   "outputs": [
    {
     "data": {
      "text/plain": [
       "array([[0, 1, 2],\n",
       "       [1, 2, 3],\n",
       "       [2, 3, 4]])"
      ]
     },
     "execution_count": 4,
     "metadata": {},
     "output_type": "execute_result"
    }
   ],
   "source": [
    "np.fromfunction(lambda i, j: i + j, (3, 3), dtype=int)"
   ]
  },
  {
   "cell_type": "code",
   "execution_count": null,
   "metadata": {},
   "outputs": [],
   "source": [
    "#Create a new 1-dimensional array from an iterable object."
   ]
  },
  {
   "cell_type": "code",
   "execution_count": 5,
   "metadata": {},
   "outputs": [
    {
     "data": {
      "text/plain": [
       "[0, 1, 4, 9, 16]"
      ]
     },
     "execution_count": 5,
     "metadata": {},
     "output_type": "execute_result"
    }
   ],
   "source": [
    "[x*x for x in range(5)]"
   ]
  },
  {
   "cell_type": "code",
   "execution_count": 6,
   "metadata": {},
   "outputs": [
    {
     "data": {
      "text/plain": [
       "<generator object <genexpr> at 0x000001A3FF15C6D0>"
      ]
     },
     "execution_count": 6,
     "metadata": {},
     "output_type": "execute_result"
    }
   ],
   "source": [
    "iterable = (x*x for x in range(5))\n",
    "iterable"
   ]
  },
  {
   "cell_type": "code",
   "execution_count": 7,
   "metadata": {},
   "outputs": [
    {
     "data": {
      "text/plain": [
       "array([ 0.,  1.,  4.,  9., 16.])"
      ]
     },
     "execution_count": 7,
     "metadata": {},
     "output_type": "execute_result"
    }
   ],
   "source": [
    "np.fromiter(iterable, float)"
   ]
  },
  {
   "cell_type": "code",
   "execution_count": null,
   "metadata": {},
   "outputs": [],
   "source": [
    "#A new 1-D array initialized from text data in a string"
   ]
  },
  {
   "cell_type": "code",
   "execution_count": 8,
   "metadata": {},
   "outputs": [
    {
     "data": {
      "text/plain": [
       "(2,)"
      ]
     },
     "execution_count": 8,
     "metadata": {},
     "output_type": "execute_result"
    }
   ],
   "source": [
    "a = np.fromstring('234;234',sep=';')\n",
    "a\n",
    "a.shape"
   ]
  },
  {
   "cell_type": "code",
   "execution_count": 9,
   "metadata": {},
   "outputs": [
    {
     "data": {
      "text/plain": [
       "array([1, 2])"
      ]
     },
     "execution_count": 9,
     "metadata": {},
     "output_type": "execute_result"
    }
   ],
   "source": [
    "np.fromstring('1, 2', dtype=int, sep=',')\n"
   ]
  },
  {
   "cell_type": "code",
   "execution_count": null,
   "metadata": {},
   "outputs": [],
   "source": [
    "a=10\n",
    "b=20\n",
    "print(f\"sum of two numbers {a}+{b}={a+b}\")"
   ]
  },
  {
   "cell_type": "markdown",
   "metadata": {},
   "source": [
    "# data types"
   ]
  },
  {
   "cell_type": "code",
   "execution_count": null,
   "metadata": {},
   "outputs": [],
   "source": [
    "my_list = [1,2,3]\n",
    "print(\"Type of my list\",type(my_list))\n",
    "\n",
    "import numpy as np\n",
    "\n",
    "arr = np.array(my_list)\n",
    "\n",
    "print(\"Type/Class of this object:\",type(arr))\n",
    "print(\"Here is the vector\\n--------------------\\n\",arr)"
   ]
  },
  {
   "cell_type": "code",
   "execution_count": 10,
   "metadata": {},
   "outputs": [
    {
     "name": "stdout",
     "output_type": "stream",
     "text": [
      "Type/Class of this object: <class 'numpy.ndarray'>\n",
      "Here is the matrix\n",
      "----------\n",
      " [[1.1 2.  3. ]\n",
      " [4.  5.  6. ]\n",
      " [7.  8.  9. ]] \n",
      "----------\n",
      "Dimension of this matrix: 2\n",
      "Size of this matrix: 9\n",
      "Shape of this matrix: (3, 3)\n",
      "Data type of this matrix: float64\n"
     ]
    }
   ],
   "source": [
    "my_mat = [[1.1,2,3],[4,5,6],[7,8,9]]\n",
    "mat = np.asarray(my_mat)\n",
    "print(\"Type/Class of this object:\",type(mat))\n",
    "print(\"Here is the matrix\\n----------\\n\",mat,\"\\n----------\")\n",
    "print(\"Dimension of this matrix: \",mat.ndim,sep='') #ndim gives the dimensison, 2 for a matrix, 1 for a vector\n",
    "print(\"Size of this matrix: \", mat.size,sep='') #size gives the total number of elements\n",
    "print(\"Shape of this matrix: \", mat.shape,sep='') #shape gives the number of elements along each axes (dimension)\n",
    "print(\"Data type of this matrix: \", mat.dtype,sep='') #dtype gives the data type contained in the array\n"
   ]
  },
  {
   "cell_type": "code",
   "execution_count": 11,
   "metadata": {},
   "outputs": [
    {
     "name": "stdout",
     "output_type": "stream",
     "text": [
      "Data type of the modified matrix: float64\n",
      "\n",
      "\n",
      "Even tuples can be converted to ndarrays...\n"
     ]
    }
   ],
   "source": [
    "my_mat = [[1.1,2,3],[4,5.2,6],[7,8.3,9]]\n",
    "mat = np.array(my_mat)\n",
    "print(\"Data type of the modified matrix: \", mat.dtype,sep='') #dtype gives the data type contained in the array\n",
    "print(\"\\n\\nEven tuples can be converted to ndarrays...\")\n"
   ]
  },
  {
   "cell_type": "code",
   "execution_count": 12,
   "metadata": {},
   "outputs": [
    {
     "name": "stdout",
     "output_type": "stream",
     "text": [
      "We write b = np.array([(1.5,2,3), (4,5,6)])\n",
      "Matrix made from tuples, not lists\n",
      "---------------------------------------\n",
      "[[1.5 2.  3. ]\n",
      " [4.  5.  6. ]]\n"
     ]
    }
   ],
   "source": [
    "b = np.array([(1.5,2,3), (4,5,6)])\n",
    "print(\"We write b = np.array([(1.5,2,3), (4,5,6)])\")\n",
    "print(\"Matrix made from tuples, not lists\\n---------------------------------------\")\n",
    "print(b)"
   ]
  },
  {
   "cell_type": "markdown",
   "metadata": {},
   "source": [
    "# arange and linspace"
   ]
  },
  {
   "cell_type": "code",
   "execution_count": 13,
   "metadata": {},
   "outputs": [
    {
     "ename": "TypeError",
     "evalue": "'float' object cannot be interpreted as an integer",
     "output_type": "error",
     "traceback": [
      "\u001b[1;31m---------------------------------------------------------------------------\u001b[0m",
      "\u001b[1;31mTypeError\u001b[0m                                 Traceback (most recent call last)",
      "\u001b[1;32m<ipython-input-13-2e6c5045f30f>\u001b[0m in \u001b[0;36m<module>\u001b[1;34m\u001b[0m\n\u001b[1;32m----> 1\u001b[1;33m \u001b[0mlist\u001b[0m\u001b[1;33m(\u001b[0m\u001b[0mrange\u001b[0m\u001b[1;33m(\u001b[0m\u001b[1;36m2\u001b[0m\u001b[1;33m,\u001b[0m\u001b[1;36m10\u001b[0m\u001b[1;33m,\u001b[0m\u001b[1;36m2.5\u001b[0m\u001b[1;33m)\u001b[0m\u001b[1;33m)\u001b[0m\u001b[1;33m\u001b[0m\u001b[1;33m\u001b[0m\u001b[0m\n\u001b[0m",
      "\u001b[1;31mTypeError\u001b[0m: 'float' object cannot be interpreted as an integer"
     ]
    }
   ],
   "source": [
    "list(range(2,10,2.5))"
   ]
  },
  {
   "cell_type": "code",
   "execution_count": null,
   "metadata": {},
   "outputs": [],
   "source": [
    "list(range(1.5,10.5))"
   ]
  },
  {
   "cell_type": "code",
   "execution_count": 15,
   "metadata": {},
   "outputs": [
    {
     "data": {
      "text/plain": [
       "array([ 5. ,  7.3,  9.6, 11.9, 14.2])"
      ]
     },
     "execution_count": 15,
     "metadata": {},
     "output_type": "execute_result"
    }
   ],
   "source": [
    "np.arange(0,16,2)\n",
    "np.arange(5,16,2.3) # A series of numbers from low to high , it also takes the float values"
   ]
  },
  {
   "cell_type": "code",
   "execution_count": 16,
   "metadata": {},
   "outputs": [
    {
     "data": {
      "text/plain": [
       "array([ 5.5,  7.7,  9.9, 12.1, 14.3])"
      ]
     },
     "execution_count": 16,
     "metadata": {},
     "output_type": "execute_result"
    }
   ],
   "source": [
    "np.arange(5.5,16.5,2.2)"
   ]
  },
  {
   "cell_type": "code",
   "execution_count": 17,
   "metadata": {},
   "outputs": [
    {
     "data": {
      "text/plain": [
       "[5, 7, 9, 11, 13, 15]"
      ]
     },
     "execution_count": 17,
     "metadata": {},
     "output_type": "execute_result"
    }
   ],
   "source": [
    "list(range(5,16,2))"
   ]
  },
  {
   "cell_type": "code",
   "execution_count": 18,
   "metadata": {},
   "outputs": [
    {
     "data": {
      "text/plain": [
       "[]"
      ]
     },
     "execution_count": 18,
     "metadata": {},
     "output_type": "execute_result"
    }
   ],
   "source": [
    "list(range(50,-1,5))"
   ]
  },
  {
   "cell_type": "code",
   "execution_count": 19,
   "metadata": {},
   "outputs": [
    {
     "data": {
      "text/plain": [
       "array([50. , 44.8, 39.6, 34.4, 29.2, 24. , 18.8, 13.6,  8.4,  3.2])"
      ]
     },
     "execution_count": 19,
     "metadata": {},
     "output_type": "execute_result"
    }
   ],
   "source": [
    "np.arange(50,-1,-5.2)# Numbers spaced apart by 2"
   ]
  },
  {
   "cell_type": "code",
   "execution_count": 20,
   "metadata": {},
   "outputs": [
    {
     "data": {
      "text/plain": [
       "array([ 0. ,  2.5,  5. ,  7.5, 10. ])"
      ]
     },
     "execution_count": 20,
     "metadata": {},
     "output_type": "execute_result"
    }
   ],
   "source": [
    "np.arange(0,11,2.5) # Numbers spaced apart by 2.5"
   ]
  },
  {
   "cell_type": "code",
   "execution_count": 21,
   "metadata": {},
   "outputs": [
    {
     "data": {
      "text/plain": [
       "array([5., 0.])"
      ]
     },
     "execution_count": 21,
     "metadata": {},
     "output_type": "execute_result"
    }
   ],
   "source": [
    "np.arange(5.0,-1,-5)"
   ]
  },
  {
   "cell_type": "code",
   "execution_count": 22,
   "metadata": {},
   "outputs": [
    {
     "data": {
      "text/plain": [
       "array([1.   , 1.125, 1.25 , 1.375, 1.5  ])"
      ]
     },
     "execution_count": 22,
     "metadata": {},
     "output_type": "execute_result"
    }
   ],
   "source": [
    "#printing the numbers in the given range \n",
    "(np.linspace(1,1.5,5))"
   ]
  },
  {
   "cell_type": "markdown",
   "metadata": {},
   "source": [
    "# Matrix creation"
   ]
  },
  {
   "cell_type": "code",
   "execution_count": 23,
   "metadata": {},
   "outputs": [
    {
     "name": "stdout",
     "output_type": "stream",
     "text": [
      "Vector of zeroes\n",
      "---------------------\n",
      "[0. 0. 0. 0. 0. 0. 0. 0. 0. 0.]\n"
     ]
    }
   ],
   "source": [
    "print(\"Vector of zeroes\\n---------------------\")\n",
    "print(np.zeros(10))"
   ]
  },
  {
   "cell_type": "code",
   "execution_count": 24,
   "metadata": {},
   "outputs": [
    {
     "name": "stdout",
     "output_type": "stream",
     "text": [
      "Matrix of zeroes\n",
      "--------------------\n",
      "[[0. 0. 0. 0. 0. 0. 0.]\n",
      " [0. 0. 0. 0. 0. 0. 0.]\n",
      " [0. 0. 0. 0. 0. 0. 0.]\n",
      " [0. 0. 0. 0. 0. 0. 0.]\n",
      " [0. 0. 0. 0. 0. 0. 0.]\n",
      " [0. 0. 0. 0. 0. 0. 0.]]\n"
     ]
    }
   ],
   "source": [
    "print(\"Matrix of zeroes\\n--------------------\")\n",
    "print(np.zeros((6,7))) # Notice Tuples"
   ]
  },
  {
   "cell_type": "code",
   "execution_count": 25,
   "metadata": {},
   "outputs": [
    {
     "name": "stdout",
     "output_type": "stream",
     "text": [
      "Vector of ones\n",
      "---------------------\n",
      "[1. 1. 1. 1. 1.]\n"
     ]
    }
   ],
   "source": [
    "print(\"Vector of ones\\n---------------------\")\n",
    "print(np.ones(5))"
   ]
  },
  {
   "cell_type": "code",
   "execution_count": 26,
   "metadata": {},
   "outputs": [
    {
     "name": "stdout",
     "output_type": "stream",
     "text": [
      "Matrix of ones\n",
      "---------------------\n"
     ]
    },
    {
     "data": {
      "text/plain": [
       "1.0"
      ]
     },
     "execution_count": 26,
     "metadata": {},
     "output_type": "execute_result"
    }
   ],
   "source": [
    "print(\"Matrix of ones\\n---------------------\")\n",
    "a=np.ones([5,2,8])\n",
    "a# Note matrix dimension specified by Tuples\n",
    "a.shape\n",
    "a.size\n",
    "a[0][0][0]"
   ]
  },
  {
   "cell_type": "code",
   "execution_count": 27,
   "metadata": {},
   "outputs": [
    {
     "name": "stdout",
     "output_type": "stream",
     "text": [
      "Matrix of 5's\n",
      "---------------------\n",
      "[[7. 7. 7. 7. 7.]\n",
      " [7. 7. 7. 7. 7.]\n",
      " [7. 7. 7. 7. 7.]]\n"
     ]
    }
   ],
   "source": [
    "print(\"Matrix of 5's\\n---------------------\")\n",
    "print(6+np.ones((3,5)))"
   ]
  },
  {
   "cell_type": "code",
   "execution_count": 29,
   "metadata": {},
   "outputs": [
    {
     "name": "stdout",
     "output_type": "stream",
     "text": [
      "Empty matrix\n",
      "-------------\n",
      " [[1.5 2.  3. ]\n",
      " [4.  5.  6. ]]\n"
     ]
    }
   ],
   "source": [
    "print(\"Empty matrix\\n-------------\\n\", np.empty((2,3)))"
   ]
  },
  {
   "cell_type": "code",
   "execution_count": 30,
   "metadata": {
    "scrolled": true
   },
   "outputs": [
    {
     "name": "stdout",
     "output_type": "stream",
     "text": [
      "Identity matrix of dimension (4, 4)\n",
      "[[1. 0. 0. 0.]\n",
      " [0. 1. 0. 0.]\n",
      " [0. 0. 1. 0.]\n",
      " [0. 0. 0. 1.]]\n"
     ]
    }
   ],
   "source": [
    "mat1 = np.eye(4) \n",
    "print(\"Identity matrix of dimension\", mat1.shape)\n",
    "print(mat1)"
   ]
  },
  {
   "cell_type": "code",
   "execution_count": 31,
   "metadata": {},
   "outputs": [
    {
     "data": {
      "text/plain": [
       "array([0, 1, 2])"
      ]
     },
     "execution_count": 31,
     "metadata": {},
     "output_type": "execute_result"
    }
   ],
   "source": [
    "np.arange(3)"
   ]
  },
  {
   "cell_type": "code",
   "execution_count": 32,
   "metadata": {},
   "outputs": [
    {
     "data": {
      "text/plain": [
       "array([0., 1., 2.])"
      ]
     },
     "execution_count": 32,
     "metadata": {},
     "output_type": "execute_result"
    }
   ],
   "source": [
    "np.arange(3.0)"
   ]
  },
  {
   "cell_type": "code",
   "execution_count": 33,
   "metadata": {},
   "outputs": [
    {
     "data": {
      "text/plain": [
       "array([3, 4, 5, 6])"
      ]
     },
     "execution_count": 33,
     "metadata": {},
     "output_type": "execute_result"
    }
   ],
   "source": [
    " np.arange(3,7)"
   ]
  },
  {
   "cell_type": "code",
   "execution_count": 34,
   "metadata": {},
   "outputs": [
    {
     "data": {
      "text/plain": [
       "array([3, 5])"
      ]
     },
     "execution_count": 34,
     "metadata": {},
     "output_type": "execute_result"
    }
   ],
   "source": [
    "np.arange(3,7,2)"
   ]
  },
  {
   "cell_type": "code",
   "execution_count": 35,
   "metadata": {},
   "outputs": [
    {
     "data": {
      "text/plain": [
       "array([2.        , 2.01010101, 2.02020202, 2.03030303, 2.04040404,\n",
       "       2.05050505, 2.06060606, 2.07070707, 2.08080808, 2.09090909,\n",
       "       2.1010101 , 2.11111111, 2.12121212, 2.13131313, 2.14141414,\n",
       "       2.15151515, 2.16161616, 2.17171717, 2.18181818, 2.19191919,\n",
       "       2.2020202 , 2.21212121, 2.22222222, 2.23232323, 2.24242424,\n",
       "       2.25252525, 2.26262626, 2.27272727, 2.28282828, 2.29292929,\n",
       "       2.3030303 , 2.31313131, 2.32323232, 2.33333333, 2.34343434,\n",
       "       2.35353535, 2.36363636, 2.37373737, 2.38383838, 2.39393939,\n",
       "       2.4040404 , 2.41414141, 2.42424242, 2.43434343, 2.44444444,\n",
       "       2.45454545, 2.46464646, 2.47474747, 2.48484848, 2.49494949,\n",
       "       2.50505051, 2.51515152, 2.52525253, 2.53535354, 2.54545455,\n",
       "       2.55555556, 2.56565657, 2.57575758, 2.58585859, 2.5959596 ,\n",
       "       2.60606061, 2.61616162, 2.62626263, 2.63636364, 2.64646465,\n",
       "       2.65656566, 2.66666667, 2.67676768, 2.68686869, 2.6969697 ,\n",
       "       2.70707071, 2.71717172, 2.72727273, 2.73737374, 2.74747475,\n",
       "       2.75757576, 2.76767677, 2.77777778, 2.78787879, 2.7979798 ,\n",
       "       2.80808081, 2.81818182, 2.82828283, 2.83838384, 2.84848485,\n",
       "       2.85858586, 2.86868687, 2.87878788, 2.88888889, 2.8989899 ,\n",
       "       2.90909091, 2.91919192, 2.92929293, 2.93939394, 2.94949495,\n",
       "       2.95959596, 2.96969697, 2.97979798, 2.98989899, 3.        ])"
      ]
     },
     "execution_count": 35,
     "metadata": {},
     "output_type": "execute_result"
    }
   ],
   "source": [
    "np.linspace(2.0, 3.0, num=100)"
   ]
  },
  {
   "cell_type": "code",
   "execution_count": 36,
   "metadata": {},
   "outputs": [
    {
     "data": {
      "text/plain": [
       "array([2.  , 2.25, 2.5 , 2.75, 3.  ])"
      ]
     },
     "execution_count": 36,
     "metadata": {},
     "output_type": "execute_result"
    }
   ],
   "source": [
    "np.linspace(2.0, 3.0, num=5, endpoint=True)"
   ]
  },
  {
   "cell_type": "code",
   "execution_count": 37,
   "metadata": {},
   "outputs": [
    {
     "data": {
      "text/plain": [
       "(array([2.   , 2.125, 2.25 , 2.375, 2.5  , 2.625, 2.75 , 2.875, 3.   ]), 0.125)"
      ]
     },
     "execution_count": 37,
     "metadata": {},
     "output_type": "execute_result"
    }
   ],
   "source": [
    "np.linspace(2.0, 3.0, num=9, retstep=True)"
   ]
  },
  {
   "cell_type": "code",
   "execution_count": 39,
   "metadata": {},
   "outputs": [
    {
     "data": {
      "text/plain": [
       "array([ 100.        ,  129.1549665 ,  166.81005372,  215.443469  ,\n",
       "        278.25594022,  359.38136638,  464.15888336,  599.48425032,\n",
       "        774.26368268, 1000.        ])"
      ]
     },
     "execution_count": 39,
     "metadata": {},
     "output_type": "execute_result"
    }
   ],
   "source": [
    "import numpy as np\n",
    "np.logspace(2.0, 3.0, num=10,base = 10)"
   ]
  },
  {
   "cell_type": "code",
   "execution_count": null,
   "metadata": {},
   "outputs": [],
   "source": [
    "np.logspace(2.0, 3.0, num=4, endpoint=False)"
   ]
  },
  {
   "cell_type": "code",
   "execution_count": null,
   "metadata": {},
   "outputs": [],
   "source": [
    "np.logspace(2.0, 3.0, num=20, base=2.0)"
   ]
  },
  {
   "cell_type": "code",
   "execution_count": null,
   "metadata": {},
   "outputs": [],
   "source": [
    "#Extract a diagonal or construct a diagonal array."
   ]
  },
  {
   "cell_type": "code",
   "execution_count": null,
   "metadata": {},
   "outputs": [],
   "source": [
    "x = np.arange(16)"
   ]
  },
  {
   "cell_type": "code",
   "execution_count": null,
   "metadata": {},
   "outputs": [],
   "source": [
    "x.shape\n",
    "x"
   ]
  },
  {
   "cell_type": "code",
   "execution_count": null,
   "metadata": {},
   "outputs": [],
   "source": [
    "x.reshape(4,4)"
   ]
  },
  {
   "cell_type": "code",
   "execution_count": 40,
   "metadata": {},
   "outputs": [
    {
     "data": {
      "text/plain": [
       "array([ 1,  6, 33, 45])"
      ]
     },
     "execution_count": 40,
     "metadata": {},
     "output_type": "execute_result"
    }
   ],
   "source": [
    "x = np.array([[1,2,3,4],[5,6,7,78],[11,22,33,44],[23,32,12,45]])\n",
    "x\n",
    "np.diag(x) #print only dialgnol elements"
   ]
  },
  {
   "cell_type": "code",
   "execution_count": 41,
   "metadata": {},
   "outputs": [
    {
     "data": {
      "text/plain": [
       "array([ 2,  7, 44])"
      ]
     },
     "execution_count": 41,
     "metadata": {},
     "output_type": "execute_result"
    }
   ],
   "source": [
    "np.diag(x, k=1)"
   ]
  },
  {
   "cell_type": "code",
   "execution_count": 42,
   "metadata": {},
   "outputs": [
    {
     "data": {
      "text/plain": [
       "array([ 5, 22, 12])"
      ]
     },
     "execution_count": 42,
     "metadata": {},
     "output_type": "execute_result"
    }
   ],
   "source": [
    "np.diag(x, k=-1)"
   ]
  },
  {
   "cell_type": "code",
   "execution_count": 43,
   "metadata": {},
   "outputs": [
    {
     "data": {
      "text/plain": [
       "array([[ 1,  0,  0,  0],\n",
       "       [ 0,  6,  0,  0],\n",
       "       [ 0,  0, 33,  0],\n",
       "       [ 0,  0,  0, 45]])"
      ]
     },
     "execution_count": 43,
     "metadata": {},
     "output_type": "execute_result"
    }
   ],
   "source": [
    "np.diag(np.diag(x))"
   ]
  },
  {
   "cell_type": "markdown",
   "metadata": {},
   "source": [
    "# Random number generation"
   ]
  },
  {
   "cell_type": "code",
   "execution_count": 45,
   "metadata": {},
   "outputs": [
    {
     "data": {
      "text/plain": [
       "['BPF',\n",
       " 'LOG4',\n",
       " 'NV_MAGICCONST',\n",
       " 'RECIP_BPF',\n",
       " 'Random',\n",
       " 'SG_MAGICCONST',\n",
       " 'SystemRandom',\n",
       " 'TWOPI',\n",
       " '_Sequence',\n",
       " '_Set',\n",
       " '__all__',\n",
       " '__builtins__',\n",
       " '__cached__',\n",
       " '__doc__',\n",
       " '__file__',\n",
       " '__loader__',\n",
       " '__name__',\n",
       " '__package__',\n",
       " '__spec__',\n",
       " '_accumulate',\n",
       " '_acos',\n",
       " '_bisect',\n",
       " '_ceil',\n",
       " '_cos',\n",
       " '_e',\n",
       " '_exp',\n",
       " '_inst',\n",
       " '_log',\n",
       " '_os',\n",
       " '_pi',\n",
       " '_random',\n",
       " '_repeat',\n",
       " '_sha512',\n",
       " '_sin',\n",
       " '_sqrt',\n",
       " '_test',\n",
       " '_test_generator',\n",
       " '_urandom',\n",
       " '_warn',\n",
       " 'betavariate',\n",
       " 'choice',\n",
       " 'choices',\n",
       " 'expovariate',\n",
       " 'gammavariate',\n",
       " 'gauss',\n",
       " 'getrandbits',\n",
       " 'getstate',\n",
       " 'lognormvariate',\n",
       " 'normalvariate',\n",
       " 'paretovariate',\n",
       " 'randint',\n",
       " 'random',\n",
       " 'randrange',\n",
       " 'sample',\n",
       " 'seed',\n",
       " 'setstate',\n",
       " 'shuffle',\n",
       " 'triangular',\n",
       " 'uniform',\n",
       " 'vonmisesvariate',\n",
       " 'weibullvariate']"
      ]
     },
     "execution_count": 45,
     "metadata": {},
     "output_type": "execute_result"
    }
   ],
   "source": [
    "import random as rd\n",
    "\n",
    "dir(rd)"
   ]
  },
  {
   "cell_type": "code",
   "execution_count": 47,
   "metadata": {},
   "outputs": [
    {
     "data": {
      "text/plain": [
       "20"
      ]
     },
     "execution_count": 47,
     "metadata": {},
     "output_type": "execute_result"
    }
   ],
   "source": [
    "rd.randint(1,20) #int"
   ]
  },
  {
   "cell_type": "code",
   "execution_count": 49,
   "metadata": {},
   "outputs": [
    {
     "data": {
      "text/plain": [
       "0.3553760379901356"
      ]
     },
     "execution_count": 49,
     "metadata": {},
     "output_type": "execute_result"
    }
   ],
   "source": [
    "rd.random() #float"
   ]
  },
  {
   "cell_type": "code",
   "execution_count": 51,
   "metadata": {},
   "outputs": [
    {
     "data": {
      "text/plain": [
       "4"
      ]
     },
     "execution_count": 51,
     "metadata": {},
     "output_type": "execute_result"
    }
   ],
   "source": [
    "rd.randrange(0,10,2)"
   ]
  },
  {
   "cell_type": "code",
   "execution_count": null,
   "metadata": {},
   "outputs": [],
   "source": []
  },
  {
   "cell_type": "code",
   "execution_count": 52,
   "metadata": {},
   "outputs": [
    {
     "data": {
      "text/plain": [
       "array([[0.38037934, 0.79550224, 0.85240337, 0.48224016],\n",
       "       [0.70374107, 0.34231864, 0.52922291, 0.50520245],\n",
       "       [0.53419106, 0.27083861, 0.3069665 , 0.67492858],\n",
       "       [0.10629936, 0.57731989, 0.07723157, 0.92723409]])"
      ]
     },
     "execution_count": 52,
     "metadata": {},
     "output_type": "execute_result"
    }
   ],
   "source": [
    "from numpy.random import *\n",
    "\n",
    "rand(4,4)"
   ]
  },
  {
   "cell_type": "code",
   "execution_count": 53,
   "metadata": {},
   "outputs": [
    {
     "name": "stdout",
     "output_type": "stream",
     "text": [
      "Random number generation (from Uniform distribution)\n",
      "[[0.66209813 0.53718131 0.3273973 ]\n",
      " [0.53158488 0.83247238 0.15786848]]\n"
     ]
    }
   ],
   "source": [
    "print(\"Random number generation (from Uniform distribution)\")\n",
    "print(np.random.rand(2,3)) # 2 by 3 matrix with random numbers ranging from 0 to 1, Note no Tuple is necessary "
   ]
  },
  {
   "cell_type": "code",
   "execution_count": 54,
   "metadata": {},
   "outputs": [
    {
     "data": {
      "text/plain": [
       "array([5.26306015e-02, 7.40561573e-01, 3.86278786e-02, 2.73233152e-01,\n",
       "       5.41632100e-01, 7.26742744e-02, 9.36668132e-01, 6.67617064e-01,\n",
       "       6.56195444e-01, 4.31948674e-01, 5.48995119e-01, 5.92126487e-01,\n",
       "       7.17049920e-01, 8.20839667e-01, 5.58520623e-02, 9.34737613e-01,\n",
       "       8.39098467e-01, 1.32362174e-02, 4.21349689e-01, 7.47883157e-01,\n",
       "       6.91420237e-01, 1.04966592e-01, 2.59780640e-01, 9.71797324e-01,\n",
       "       2.48848778e-01, 4.67507306e-02, 4.86229056e-01, 3.21653761e-01,\n",
       "       8.19240082e-01, 6.86672687e-01, 6.37726133e-01, 4.06592155e-01,\n",
       "       8.96598798e-01, 7.37986317e-01, 6.04089623e-01, 2.45023651e-02,\n",
       "       2.73356893e-01, 7.44818028e-01, 9.36358853e-01, 2.60611290e-01,\n",
       "       5.72599796e-01, 9.08357210e-02, 8.53647427e-01, 3.35415031e-02,\n",
       "       9.17383684e-01, 5.65286672e-01, 9.76796214e-01, 2.23799751e-01,\n",
       "       7.50379721e-02, 8.96465840e-01, 5.90678237e-01, 6.18429859e-01,\n",
       "       9.35191395e-01, 3.32308080e-01, 3.58393808e-02, 2.24868551e-01,\n",
       "       4.27723393e-01, 2.99643260e-02, 8.06892760e-01, 2.36406818e-01,\n",
       "       5.99698283e-01, 4.50367321e-01, 3.72551343e-01, 9.24468695e-01,\n",
       "       5.47462671e-01, 2.00957224e-01, 3.81068433e-01, 7.69815113e-01,\n",
       "       5.84773408e-03, 8.62517343e-01, 1.56180533e-01, 2.70983524e-01,\n",
       "       4.82710522e-01, 8.07183155e-01, 3.69884632e-01, 7.38618077e-01,\n",
       "       2.37887494e-01, 2.16979464e-01, 6.00767730e-01, 9.47391923e-01,\n",
       "       1.73005459e-01, 8.81180726e-01, 3.70950581e-01, 2.30292713e-01,\n",
       "       9.14102417e-02, 7.01462497e-01, 9.66722715e-01, 5.05993967e-01,\n",
       "       2.55254836e-01, 2.11596643e-01, 7.98567564e-01, 9.37753705e-01,\n",
       "       1.62786692e-01, 9.22359014e-01, 4.18131897e-02, 9.38961249e-01,\n",
       "       2.99839548e-01, 1.15229955e-01, 1.87244645e-01, 1.60031962e-01,\n",
       "       1.69066564e-01, 1.84183388e-01, 7.25304877e-01, 9.55341816e-01,\n",
       "       6.23233366e-01, 3.94879764e-01, 7.74267744e-01, 2.73144633e-01,\n",
       "       3.42277310e-01, 8.52321983e-01, 6.35906842e-01, 3.50224947e-01,\n",
       "       3.05127522e-01, 5.47244346e-02, 1.00036672e-01, 9.79297217e-01,\n",
       "       1.21314189e-01, 4.06673625e-01, 5.79315678e-01, 4.66313326e-01,\n",
       "       3.75758465e-01, 2.54174264e-01, 2.52809035e-01, 3.33801711e-01,\n",
       "       4.17094008e-01, 3.09250003e-01, 4.44685393e-01, 3.34721195e-01,\n",
       "       5.11024072e-01, 7.71462413e-01, 1.45116016e-01, 5.20635736e-01,\n",
       "       7.82387212e-01, 1.73340596e-01, 5.43948298e-01, 5.48228912e-01,\n",
       "       9.30112666e-01, 4.09758914e-01, 8.37486806e-01, 2.41721820e-01,\n",
       "       3.98443502e-01, 6.50255377e-01, 6.87168694e-01, 3.73629840e-01,\n",
       "       4.15801898e-01, 7.62365992e-01, 2.41701398e-02, 2.20030028e-01,\n",
       "       9.82700340e-01, 4.84287658e-01, 3.04203682e-01, 9.95579293e-01,\n",
       "       2.65633633e-01, 6.55529389e-01, 8.03752483e-01, 7.36312107e-01,\n",
       "       6.72085360e-01, 7.10059367e-02, 7.06650492e-01, 8.42482578e-01,\n",
       "       5.33340887e-01, 3.72671360e-01, 6.12213590e-02, 6.82265976e-01,\n",
       "       1.42609284e-01, 2.04083101e-02, 6.36799268e-01, 3.39851079e-01,\n",
       "       5.86421929e-01, 6.43906924e-01, 1.36173665e-01, 9.74209254e-01,\n",
       "       1.78557953e-01, 7.72128177e-02, 2.36430809e-01, 6.55163311e-01,\n",
       "       1.57267629e-01, 3.93696967e-01, 7.46316489e-01, 3.37488358e-01,\n",
       "       5.17474061e-01, 4.80739553e-01, 1.88235347e-01, 3.82370674e-01,\n",
       "       6.17249078e-01, 3.59710667e-01, 7.38288658e-01, 5.43467760e-01,\n",
       "       4.07726913e-01, 4.84324249e-01, 4.30394083e-01, 1.33617543e-01,\n",
       "       3.13683349e-02, 6.20220239e-01, 6.80189467e-01, 4.82384773e-01,\n",
       "       4.01528565e-01, 6.07260322e-01, 5.21990263e-01, 7.49849726e-01,\n",
       "       9.31885634e-01, 5.82246211e-01, 7.28984965e-01, 9.36643586e-01,\n",
       "       1.93341702e-01, 3.40707044e-01, 7.91954369e-01, 6.39046221e-01,\n",
       "       9.33136762e-01, 1.35188243e-01, 2.65235736e-01, 1.01702112e-01,\n",
       "       3.79030844e-01, 3.77553700e-01, 1.91849122e-01, 7.82707099e-01,\n",
       "       4.32610410e-01, 6.27389875e-01, 2.26915499e-02, 8.24275096e-01,\n",
       "       5.90994470e-01, 2.74625025e-01, 3.35129805e-01, 8.32173940e-01,\n",
       "       6.78987314e-01, 5.00624009e-01, 9.25865274e-01, 7.11039713e-01,\n",
       "       7.72560061e-02, 4.45765628e-01, 9.06074050e-01, 4.88092768e-01,\n",
       "       1.31233578e-01, 6.90960821e-01, 3.91376658e-01, 4.98075481e-01,\n",
       "       4.07162833e-02, 2.60904780e-01, 4.52974692e-01, 2.08662563e-01,\n",
       "       6.35504453e-01, 1.62356111e-01, 5.68819916e-02, 6.39221348e-01,\n",
       "       9.09925272e-01, 9.48176906e-01, 2.66047473e-01, 3.87752991e-01,\n",
       "       5.19481248e-01, 7.46100708e-01, 6.64420998e-01, 3.83583515e-01,\n",
       "       3.60566499e-01, 1.50122857e-01, 1.28239612e-01, 3.11631940e-01,\n",
       "       3.04383836e-01, 1.95679078e-01, 1.94106272e-01, 3.00003725e-01,\n",
       "       3.59528453e-01, 6.82134900e-02, 9.40896626e-01, 2.71081014e-01,\n",
       "       2.62362455e-01, 4.02603338e-02, 8.67024220e-01, 9.64917005e-01,\n",
       "       3.29679820e-01, 8.65886941e-01, 5.95292206e-01, 9.32736318e-01,\n",
       "       4.48682467e-01, 5.04689937e-01, 1.19453691e-01, 2.54053940e-01,\n",
       "       6.26231707e-01, 9.32160467e-01, 5.51551074e-01, 9.14174770e-03,\n",
       "       3.54838751e-02, 5.72307293e-01, 7.99425614e-01, 8.51991722e-01,\n",
       "       9.04976592e-01, 1.55725054e-01, 9.99173280e-01, 3.08867198e-02,\n",
       "       3.34460868e-01, 2.62569225e-01, 8.70892182e-01, 9.62254922e-01,\n",
       "       4.56568364e-01, 4.86504909e-01, 1.70124583e-01, 7.34704830e-01,\n",
       "       2.47405616e-02, 5.66951883e-01, 9.84891456e-01, 9.72555499e-01,\n",
       "       7.24590345e-01, 9.95950734e-01, 9.39412762e-01, 8.41947162e-01,\n",
       "       3.79782859e-01, 3.66046771e-01, 5.94814437e-01, 4.21833996e-01,\n",
       "       4.76326148e-03, 8.47198564e-01, 3.14823550e-01, 2.41724725e-02,\n",
       "       7.21848970e-01, 4.43155343e-01, 4.49093604e-01, 8.18118957e-01,\n",
       "       8.38111347e-01, 6.05120708e-01, 8.36001283e-01, 3.22534811e-01,\n",
       "       9.47547854e-01, 2.65380094e-01, 1.59579431e-01, 4.78179390e-01,\n",
       "       7.93529093e-01, 2.71066784e-01, 5.95629430e-01, 2.12653268e-01,\n",
       "       8.34897498e-01, 7.33248087e-01, 9.63641592e-01, 8.76930291e-01,\n",
       "       5.10026831e-02, 7.60896012e-04, 3.60665596e-01, 7.15476425e-01,\n",
       "       1.34714414e-01, 7.71043840e-01, 7.22537826e-04, 3.86422299e-02,\n",
       "       9.69098905e-02, 8.37583225e-01, 3.70056022e-01, 5.81360557e-01,\n",
       "       8.11305586e-01, 8.74260897e-01, 3.97120267e-01, 4.86094313e-01,\n",
       "       2.73535478e-01, 9.41749529e-01, 2.33650408e-01, 3.32877727e-01,\n",
       "       5.03326515e-01, 7.87544880e-01, 9.22839280e-01, 2.57915351e-02,\n",
       "       5.90813074e-01, 6.42606124e-01, 4.49436202e-01, 3.71005780e-01,\n",
       "       6.85446251e-01, 2.89242696e-01, 7.86112423e-01, 8.16991552e-01,\n",
       "       4.71602267e-01, 4.79775519e-01, 7.20798564e-01, 2.73839787e-01,\n",
       "       7.56714989e-01, 1.51913214e-01, 5.72118232e-01, 1.39355487e-01,\n",
       "       7.58531197e-01, 4.75336417e-01, 1.93705301e-01, 6.21715924e-01,\n",
       "       5.85466390e-01, 3.95613865e-01, 4.52738524e-01, 7.03315157e-01,\n",
       "       9.25897186e-01, 1.26749589e-01, 9.17045816e-01, 8.94444529e-01,\n",
       "       5.16248463e-01, 5.72921412e-01, 3.45779087e-01, 6.11126872e-01,\n",
       "       1.14212397e-01, 3.67872258e-01, 3.23966712e-01, 8.75363402e-01,\n",
       "       2.33185466e-02, 4.27253786e-01, 5.33289233e-01, 9.02297310e-01,\n",
       "       5.20835193e-01, 6.09334362e-01, 6.92269763e-01, 3.37646831e-01,\n",
       "       7.35230710e-01, 7.75661200e-01, 8.34378832e-01, 8.22833398e-01,\n",
       "       7.55918880e-01, 1.25071226e-02, 1.00315692e-01, 9.70955240e-01,\n",
       "       3.78100349e-01, 1.46222190e-01, 6.83871436e-01, 2.87907887e-01,\n",
       "       8.15022212e-01, 1.83480684e-01, 9.41620228e-02, 7.51381711e-01,\n",
       "       2.49944534e-01, 9.98903344e-02, 2.01017286e-01, 1.07296723e-01,\n",
       "       4.17477920e-02, 6.40008114e-02, 8.21863013e-01, 6.79695242e-02,\n",
       "       2.15659742e-01, 7.05432932e-01, 5.43776816e-01, 9.12388297e-02,\n",
       "       6.34176218e-01, 1.72971352e-01, 3.80310325e-01, 6.75467047e-01,\n",
       "       1.41531800e-01, 3.50643299e-01, 2.13260028e-01, 4.34351331e-01,\n",
       "       8.58862523e-02, 5.09484955e-01, 1.79246671e-01, 6.39609293e-01,\n",
       "       1.91768926e-01, 3.64977352e-01, 3.26076355e-01, 1.39347010e-01,\n",
       "       8.21303615e-01, 6.82505585e-01, 7.42138483e-01, 5.51023918e-01,\n",
       "       6.87708951e-01, 4.86143118e-01, 8.61547764e-01, 1.45914758e-01,\n",
       "       7.30906236e-01, 5.01862742e-01, 9.91346802e-01, 1.49691414e-01,\n",
       "       2.76551350e-02, 5.37890971e-01, 7.96622100e-01, 4.59573304e-01,\n",
       "       9.39144754e-01, 6.26237423e-02, 6.10293904e-01, 1.80101684e-01,\n",
       "       5.12286911e-01, 1.43488214e-01, 4.26404775e-01, 6.42719513e-01,\n",
       "       7.08497388e-01, 4.15925950e-01, 1.42276696e-01, 4.29994850e-01,\n",
       "       2.66720900e-01, 6.52092352e-01, 9.33538930e-01, 7.65039259e-02,\n",
       "       5.94940797e-01, 7.74331819e-01, 8.50046191e-02, 6.10353644e-01,\n",
       "       5.98380235e-01, 1.21177090e-01, 6.00746233e-01, 1.68861461e-01,\n",
       "       3.84758455e-01, 1.61785857e-01, 2.70407764e-01, 5.55588598e-01,\n",
       "       9.23397088e-01, 8.78810198e-01, 3.05556964e-01, 6.79727305e-01,\n",
       "       2.34559114e-01, 7.18156657e-01, 6.58599402e-01, 9.76246679e-01,\n",
       "       1.57576354e-01, 8.85213363e-01, 5.28659918e-01, 5.96046339e-01,\n",
       "       5.74302431e-01, 2.68016183e-01, 8.53577122e-01, 8.08247215e-01,\n",
       "       9.76135521e-01, 7.03405885e-01, 7.78669501e-01, 1.56316243e-01,\n",
       "       8.78966819e-01, 5.28854595e-01, 7.58190129e-01, 3.87072130e-01,\n",
       "       2.48286246e-01, 9.51801142e-01, 7.37335931e-01, 8.62633920e-01,\n",
       "       7.89522583e-01, 6.51530711e-01, 1.25440455e-02, 7.20835212e-01,\n",
       "       4.00713112e-01, 6.06830249e-01, 7.81904292e-02, 4.57418631e-01,\n",
       "       1.66339924e-02, 7.39174169e-01, 1.03849553e-01, 1.50807676e-01,\n",
       "       8.44874446e-01, 4.17564199e-01, 5.31044684e-01, 6.08780613e-01,\n",
       "       4.27859998e-01, 9.76564383e-02, 7.17231600e-01, 6.48914993e-01,\n",
       "       1.85982753e-01, 7.95271332e-01, 2.10967295e-01, 3.82382873e-01,\n",
       "       1.93442553e-01, 9.76770094e-01, 1.45514578e-01, 5.73414279e-01,\n",
       "       4.20242775e-01, 4.53605348e-01, 5.35689051e-01, 7.93890673e-01,\n",
       "       7.98205755e-01, 2.73825104e-01, 1.48532772e-02, 9.97803414e-01,\n",
       "       3.72017044e-01, 8.36476052e-01, 4.09646588e-01, 7.75633778e-01,\n",
       "       3.27613811e-01, 8.40064400e-01, 3.91407134e-01, 9.92096429e-01,\n",
       "       2.73182516e-01, 5.29548099e-01, 4.85894017e-01, 3.81046985e-01,\n",
       "       5.59968278e-02, 2.74852491e-01, 2.27104714e-01, 9.17563753e-01,\n",
       "       9.26442063e-01, 1.22481947e-01, 4.18665685e-01, 8.76781012e-01,\n",
       "       2.28182496e-01, 9.86973075e-01, 8.58362940e-01, 2.82125593e-01,\n",
       "       5.17193049e-02, 2.62026035e-01, 4.25494361e-01, 3.16246365e-01,\n",
       "       8.58655144e-01, 8.88294930e-01, 1.67363068e-01, 9.18035141e-01,\n",
       "       9.73594340e-01, 4.18316935e-01, 8.54758123e-01, 1.70647072e-01,\n",
       "       8.35500931e-01, 7.18891236e-01, 6.38525485e-01, 7.41358637e-01,\n",
       "       4.45520739e-01, 6.58192378e-01, 4.13040744e-02, 2.73380003e-01,\n",
       "       9.72917176e-02, 5.75499333e-01, 3.90645399e-01, 9.31322367e-01,\n",
       "       1.67154988e-01, 4.18270881e-01, 4.04136326e-01, 9.88703282e-01,\n",
       "       5.34306629e-01, 6.12675960e-02, 6.24812826e-02, 4.51925551e-01,\n",
       "       2.16783188e-01, 5.33790361e-01, 2.81885968e-02, 4.10429614e-01,\n",
       "       6.38148774e-01, 6.18870135e-01, 3.54722768e-02, 2.26786293e-02,\n",
       "       5.53524176e-01, 8.51186119e-01, 9.45238528e-01, 9.22600666e-01,\n",
       "       5.98782068e-01, 5.37651526e-01, 9.87578665e-01, 3.16384636e-01,\n",
       "       7.24340343e-01, 6.28893244e-01, 8.78246900e-01, 9.15028108e-01,\n",
       "       5.42122666e-01, 6.63456056e-01, 7.42410020e-01, 6.13028345e-01,\n",
       "       9.49409879e-01, 4.85415124e-02, 1.25649652e-01, 5.15594055e-01,\n",
       "       8.25688819e-01, 5.26092089e-01, 3.71730446e-01, 7.65736328e-01,\n",
       "       9.04479680e-01, 8.20591288e-01, 9.03543989e-02, 6.01788626e-02,\n",
       "       2.59810779e-01, 9.65103946e-01, 3.90889979e-02, 7.75473309e-01,\n",
       "       1.46087327e-01, 1.28346514e-01, 5.05050570e-01, 7.40797082e-01,\n",
       "       5.47675731e-01, 1.76914364e-01, 5.63515158e-01, 4.86784821e-01,\n",
       "       7.60391249e-01, 4.30358129e-01, 2.18871930e-01, 5.49379386e-01,\n",
       "       4.12483929e-01, 1.85370477e-01, 2.60307078e-01, 7.42728968e-01,\n",
       "       8.52334009e-01, 4.05646510e-01, 6.00725636e-01, 9.28038286e-02,\n",
       "       1.56861546e-01, 3.20066818e-01, 6.09968991e-01, 5.73816139e-01,\n",
       "       5.38109038e-01, 3.25215653e-01, 4.48498143e-01, 6.82553798e-02,\n",
       "       7.51522827e-01, 2.03888441e-02, 8.43353155e-01, 6.51359243e-01,\n",
       "       1.32748896e-01, 4.45277452e-01, 1.97757161e-01, 7.35889059e-01,\n",
       "       5.91196383e-01, 6.28599397e-03, 9.22413002e-01, 2.19972604e-01,\n",
       "       7.22364114e-01, 1.67506423e-01, 5.11321209e-01, 8.53449521e-01,\n",
       "       5.76624323e-01, 6.81624166e-01, 2.50555362e-01, 5.47443160e-01,\n",
       "       2.72970368e-01, 7.02865250e-01, 4.06054614e-01, 3.54096951e-01,\n",
       "       7.19920200e-01, 9.76524246e-02, 8.97025379e-01, 8.84812298e-02,\n",
       "       5.13772476e-01, 7.07550851e-01, 9.46467156e-01, 3.41104768e-01,\n",
       "       8.10993573e-01, 9.16481183e-01, 1.66309283e-01, 9.94631793e-01,\n",
       "       6.40647955e-02, 8.71821869e-02, 5.16947838e-01, 6.34415240e-01,\n",
       "       1.50042692e-01, 9.84300376e-01, 3.35498823e-01, 2.91538317e-01,\n",
       "       2.38431803e-01, 4.82484801e-01, 5.66467027e-01, 1.78345064e-01,\n",
       "       2.28387613e-01, 1.23897892e-01, 8.87995085e-01, 9.57591969e-01,\n",
       "       4.56121239e-01, 2.22968196e-02, 5.59611645e-01, 1.55204020e-01,\n",
       "       3.00435317e-02, 4.12971029e-02, 6.58438825e-01, 6.14194240e-01,\n",
       "       1.06902148e-01, 1.03115561e-01, 6.85466945e-01, 7.45138077e-01,\n",
       "       1.90772322e-01, 3.69265579e-01, 1.26882782e-01, 9.63845714e-01,\n",
       "       7.14983230e-02, 8.47375993e-01, 4.69788300e-01, 2.76963384e-01,\n",
       "       6.44700874e-02, 8.07243384e-01, 9.82030245e-01, 6.55324739e-01,\n",
       "       7.71032537e-01, 1.95177677e-01, 6.20745184e-01, 2.76804150e-01,\n",
       "       2.94719330e-01, 8.70751288e-01, 1.28029751e-01, 8.61330916e-02,\n",
       "       3.02493672e-01, 4.62751514e-01, 5.84823234e-02, 5.08692077e-01,\n",
       "       3.60416522e-01, 7.52854636e-01, 7.85468425e-01, 7.21781896e-01,\n",
       "       7.90092551e-01, 3.47121847e-01, 5.38680388e-01, 8.41662492e-01,\n",
       "       4.31890953e-01, 1.28209728e-01, 8.92523299e-01, 8.14644572e-01,\n",
       "       7.38135831e-01, 5.28551196e-01, 1.87123023e-01, 8.75912478e-01,\n",
       "       7.60750461e-01, 2.96097542e-01, 8.19565692e-01, 9.31271479e-01,\n",
       "       9.64503586e-01, 8.00986355e-01, 2.81743819e-01, 1.80322745e-02,\n",
       "       5.26262639e-01, 8.21617880e-02, 3.90678934e-01, 4.60173568e-01,\n",
       "       3.84341361e-01, 3.42305162e-01, 6.12168702e-01, 7.43422231e-01,\n",
       "       6.80830362e-02, 7.41027312e-01, 4.22228674e-01, 9.80421120e-01,\n",
       "       5.28814156e-01, 3.90721267e-02, 3.21041569e-01, 1.57474452e-01,\n",
       "       9.50763695e-01, 1.72811569e-01, 1.44544546e-01, 1.66990857e-01,\n",
       "       1.93574080e-01, 5.64300014e-01, 3.21622690e-01, 4.82916775e-01,\n",
       "       9.82125772e-01, 5.55856841e-01, 8.65609238e-01, 2.84029143e-01,\n",
       "       1.33291118e-01, 4.75001883e-01, 9.65348304e-01, 9.31173517e-01,\n",
       "       3.11999206e-01, 2.71140670e-01, 7.54399906e-01, 6.45697106e-01,\n",
       "       1.10451581e-01, 8.94780612e-01, 1.51702515e-02, 4.08582017e-01,\n",
       "       6.74789747e-01, 7.59178037e-01, 2.33054229e-01, 8.50887587e-01,\n",
       "       2.17942685e-01, 2.71499674e-01, 6.49285697e-01, 4.38583883e-01,\n",
       "       3.51463526e-01, 7.00403558e-01, 4.48296967e-02, 1.12131668e-01,\n",
       "       8.57703676e-01, 8.16410367e-01, 2.59311401e-01, 3.52427117e-01,\n",
       "       8.86165529e-01, 3.90126038e-01, 5.70122850e-01, 5.61283995e-01,\n",
       "       3.01313369e-01, 7.52884117e-01, 1.53681591e-02, 1.19186051e-01,\n",
       "       4.69012026e-01, 9.95914746e-01, 7.13824427e-01, 6.07748354e-01,\n",
       "       6.19634786e-01, 1.48673290e-01, 3.48897939e-01, 7.86503323e-01,\n",
       "       1.21735159e-01, 6.80315411e-01, 6.68744167e-01, 1.68082594e-01,\n",
       "       4.70726178e-01, 5.79550231e-01, 3.99326126e-01, 5.05837419e-01,\n",
       "       5.33484634e-01, 2.73933481e-01, 4.95914965e-01, 5.53541200e-01,\n",
       "       9.26751985e-01, 1.39169807e-01, 6.91742597e-01, 4.36915129e-01,\n",
       "       7.49400923e-01, 8.29739538e-02, 5.61610042e-01, 1.35307901e-01,\n",
       "       8.33689848e-01, 3.71447076e-02, 3.21841801e-01, 2.88894495e-01,\n",
       "       7.46804026e-01, 1.77071081e-01, 9.88931508e-01, 7.17025704e-01,\n",
       "       4.75999612e-01, 6.56529378e-01, 4.94975237e-01, 8.74823231e-01,\n",
       "       8.69856598e-01, 9.54374700e-01, 7.04012416e-01, 6.07190353e-01,\n",
       "       4.82478879e-02, 5.06161923e-01, 7.05721852e-01, 5.34941683e-02,\n",
       "       9.00232787e-01, 6.26768594e-01, 8.60513078e-01, 1.77573379e-01,\n",
       "       1.12912630e-01, 5.01078373e-01, 3.10654057e-01, 5.99579664e-01,\n",
       "       3.62759208e-01, 3.75328209e-01, 2.01442849e-01, 5.13176885e-03,\n",
       "       3.90606390e-01, 9.13095820e-01, 5.07705635e-01, 6.49013401e-01,\n",
       "       3.47546535e-01, 9.84598441e-01, 7.10862221e-01, 6.51201721e-01,\n",
       "       6.31859236e-01, 7.13214622e-01, 8.13674802e-01, 4.88957789e-01,\n",
       "       2.84686470e-01, 2.80318500e-01, 7.65384996e-01, 4.23241319e-01,\n",
       "       6.84888130e-01, 1.47585506e-01, 6.05470573e-01, 7.30938321e-01,\n",
       "       2.05134299e-01, 4.71528819e-01, 7.68356948e-01, 5.25243224e-01,\n",
       "       2.27181756e-01, 1.69069099e-01, 3.55065326e-01, 2.25571622e-01,\n",
       "       3.01765563e-01, 6.57343307e-01, 7.24493049e-01, 4.45403085e-02,\n",
       "       2.52950517e-01, 1.60729040e-01, 5.35073459e-01, 6.42064005e-01,\n",
       "       7.29342199e-03, 4.80866799e-01, 2.03762565e-01, 8.70056790e-01,\n",
       "       9.28931670e-01, 4.95850387e-01, 1.80570867e-02, 6.51940576e-01,\n",
       "       1.86161244e-01, 8.79819412e-01, 3.81521430e-01, 3.28625869e-01,\n",
       "       4.12879636e-01, 7.88141690e-01, 4.23129756e-01, 4.80428857e-01,\n",
       "       5.15087869e-01, 3.69983920e-01, 4.07930570e-01, 4.65817133e-01,\n",
       "       3.55622009e-01, 3.51046573e-02, 4.61545482e-01, 1.18168080e-02,\n",
       "       5.36089431e-01, 7.57531954e-01, 9.65160104e-02, 9.25254806e-01,\n",
       "       1.60840617e-01, 3.10821117e-01, 1.75055424e-01, 4.72582854e-01,\n",
       "       9.43106060e-01, 4.19671032e-02, 9.66581133e-01, 2.05492108e-01,\n",
       "       2.27722984e-01, 4.01038050e-01, 3.91307969e-01, 1.28254224e-01,\n",
       "       4.81922536e-02, 4.96124002e-01, 8.10774632e-03, 1.61199307e-01,\n",
       "       3.18852909e-01, 5.04916614e-01, 9.14902675e-02, 9.58832401e-01,\n",
       "       7.72720099e-01, 7.27307503e-01, 9.81807998e-02, 5.28370144e-01])"
      ]
     },
     "execution_count": 54,
     "metadata": {},
     "output_type": "execute_result"
    }
   ],
   "source": [
    "np.random.rand(1000)"
   ]
  },
  {
   "cell_type": "code",
   "execution_count": 55,
   "metadata": {},
   "outputs": [],
   "source": [
    "import pandas as pd\n",
    "\n",
    "df = pd.DataFrame(np.random.rand(1000)) #uniform distribution\n",
    "# df.plot()"
   ]
  },
  {
   "cell_type": "code",
   "execution_count": 57,
   "metadata": {},
   "outputs": [
    {
     "data": {
      "text/plain": [
       "pandas.core.frame.DataFrame"
      ]
     },
     "execution_count": 57,
     "metadata": {},
     "output_type": "execute_result"
    }
   ],
   "source": [
    "type(df)"
   ]
  },
  {
   "cell_type": "code",
   "execution_count": 58,
   "metadata": {},
   "outputs": [
    {
     "data": {
      "text/plain": [
       "<AxesSubplot:>"
      ]
     },
     "execution_count": 58,
     "metadata": {},
     "output_type": "execute_result"
    },
    {
     "data": {
      "image/png": "[encoded data removed]",
      "text/plain": [
       "<Figure size 432x288 with 1 Axes>"
      ]
     },
     "metadata": {
      "needs_background": "light"
     },
     "output_type": "display_data"
    }
   ],
   "source": [
    "df.plot()"
   ]
  },
  {
   "cell_type": "code",
   "execution_count": 59,
   "metadata": {},
   "outputs": [
    {
     "name": "stdout",
     "output_type": "stream",
     "text": [
      "Numbers from Normal distribution with zero mean and standard deviation 1 i.e. standard normal\n",
      "[-0.12475004  2.11180088 -0.33660402  0.65363214]\n"
     ]
    }
   ],
   "source": [
    "print(\"Numbers from Normal distribution with zero mean and standard deviation 1 i.e. standard normal\")\n",
    "print(np.random.randn(4))"
   ]
  },
  {
   "cell_type": "code",
   "execution_count": 60,
   "metadata": {},
   "outputs": [
    {
     "data": {
      "text/plain": [
       "<AxesSubplot:>"
      ]
     },
     "execution_count": 60,
     "metadata": {},
     "output_type": "execute_result"
    },
    {
     "data": {
      "image/png": "[encoded data removed]",
      "text/plain": [
       "<Figure size 432x288 with 1 Axes>"
      ]
     },
     "metadata": {
      "needs_background": "light"
     },
     "output_type": "display_data"
    }
   ],
   "source": [
    "import pandas as pd\n",
    "\n",
    "df = pd.DataFrame(np.random.randn(10000))\n",
    "df.plot()"
   ]
  },
  {
   "cell_type": "code",
   "execution_count": 61,
   "metadata": {},
   "outputs": [
    {
     "name": "stdout",
     "output_type": "stream",
     "text": [
      "Random integer vector: 3\n",
      "\n",
      "Random integer matrix\n"
     ]
    }
   ],
   "source": [
    "print(\"Random integer vector:\",np.random.randint(1,10)) #randint (low, high, # of samples to be drawn)\n",
    "print (\"\\nRandom integer matrix\")\n"
   ]
  },
  {
   "cell_type": "code",
   "execution_count": 62,
   "metadata": {
    "scrolled": true
   },
   "outputs": [
    {
     "name": "stdout",
     "output_type": "stream",
     "text": [
      "[[ 3 62 37 36]\n",
      " [39 43 44 68]\n",
      " [19 83 75  5]\n",
      " [79 90 55 32]]\n",
      "\n",
      "20 samples drawn from a dice throw: [5 6 4 2 2 3 5 3 5 1 3 3 3 6 3 6 4 3 6 1]\n"
     ]
    }
   ],
   "source": [
    "print(np.random.randint(1,100,(4,4))) #randint (low, high, # of samples to be drawn in a tuple to form a matrix)\n",
    "print(\"\\n20 samples drawn from a dice throw:\",np.random.randint(1,7,20)) # 20 samples drawn from a dice throw"
   ]
  },
  {
   "cell_type": "markdown",
   "metadata": {},
   "source": [
    "# Reshaping"
   ]
  },
  {
   "cell_type": "code",
   "execution_count": 68,
   "metadata": {},
   "outputs": [
    {
     "name": "stdout",
     "output_type": "stream",
     "text": [
      "[[49 28 44 37 28]\n",
      " [12 46  7 40  1]\n",
      " [46 29 43 23  2]\n",
      " [18  1  6  3 35]\n",
      " [ 7 34 47 33 26]\n",
      " [ 6 34 23  5 18]]\n"
     ]
    },
    {
     "data": {
      "text/plain": [
       "array([[49, 28],\n",
       "       [44, 37],\n",
       "       [28, 12],\n",
       "       [46,  7],\n",
       "       [40,  1],\n",
       "       [46, 29],\n",
       "       [43, 23],\n",
       "       [ 2, 18],\n",
       "       [ 1,  6],\n",
       "       [ 3, 35],\n",
       "       [ 7, 34],\n",
       "       [47, 33],\n",
       "       [26,  6],\n",
       "       [34, 23],\n",
       "       [ 5, 18]])"
      ]
     },
     "execution_count": 68,
     "metadata": {},
     "output_type": "execute_result"
    }
   ],
   "source": [
    "from numpy.random import randint as ri\n",
    "a = ri(1,50,30)\n",
    "# print(a)\n",
    "\n",
    "# print(a.shape)\n",
    "\n",
    "# b = a.reshape(2,3,5)\n",
    "# print(b)\n",
    "# print(b.shape)\n",
    "\n",
    "c = a.reshape(6,-1)\n",
    "c\n",
    "print(c)\n",
    "a.reshape(15,2)"
   ]
  },
  {
   "cell_type": "code",
   "execution_count": 69,
   "metadata": {},
   "outputs": [
    {
     "name": "stdout",
     "output_type": "stream",
     "text": [
      "Shape of a: (30,)\n",
      "Shape of b: (2, 3, 5)\n",
      "Shape of c: (6, 5)\n"
     ]
    }
   ],
   "source": [
    "print (\"Shape of a:\", a.shape)\n",
    "print (\"Shape of b:\", b.shape)\n",
    "print (\"Shape of c:\", c.shape)\n"
   ]
  },
  {
   "cell_type": "code",
   "execution_count": null,
   "metadata": {},
   "outputs": [],
   "source": [
    "print(\"\\na looks like\\n\",'-'*20,\"\\n\",a,\"\\n\",'-'*20)\n",
    "print(\"\\nb looks like\\n\",'-'*20,\"\\n\",b,\"\\n\",'-'*20)\n",
    "print(\"\\nc looks like\\n\",'-'*20,\"\\n\",c,\"\\n\",'-'*20)\n"
   ]
  },
  {
   "cell_type": "code",
   "execution_count": 76,
   "metadata": {},
   "outputs": [
    {
     "name": "stdout",
     "output_type": "stream",
     "text": [
      "[67 93 99 18 84 58 87 98 97 48]\n",
      "\n",
      "Vector of random integers\n",
      " -------------------------------------------------- \n",
      " [67 93 99 18 84 58 87 98 97 48]\n",
      "\n",
      "Here is the sorted vector\n",
      " -------------------------------------------------- \n",
      " [99 98 97 93 87 84 67 58 48 18]\n"
     ]
    }
   ],
   "source": [
    "A = ri(1,100,10)# Vector of random interegrs\n",
    "np.random.seed(123)\n",
    "print(A)\n",
    "print(\"\\nVector of random integers\\n\",'-'*50,\"\\n\",A)\n",
    "print(\"\\nHere is the sorted vector\\n\",'-'*50,\"\\n\",-np.sort(-A))\n"
   ]
  },
  {
   "cell_type": "code",
   "execution_count": 78,
   "metadata": {},
   "outputs": [
    {
     "name": "stdout",
     "output_type": "stream",
     "text": [
      "\n",
      "Here is the sorted matrix along each column\n",
      " -------------------------------------------------- \n",
      " [[18 67 84 93 99]\n",
      " [48 58 87 97 98]\n",
      " [26 33 47 74 97]\n",
      " [37 79 81 84 97]\n",
      " [ 3 50 56 68 69]]\n"
     ]
    },
    {
     "data": {
      "text/plain": [
       "array([[67, 93, 99, 18, 84],\n",
       "       [58, 87, 98, 97, 48],\n",
       "       [74, 33, 47, 97, 26],\n",
       "       [84, 79, 37, 97, 81],\n",
       "       [69, 50, 56, 68,  3]])"
      ]
     },
     "execution_count": 78,
     "metadata": {},
     "output_type": "execute_result"
    }
   ],
   "source": [
    "M = ri(1,100,25).reshape(5,5) # Matrix of random interegrs\n",
    "#print(\"\\nHere is the sorted matrix along each row\\n\",'-'*50,\"\\n\",np.sort(M, kind='mergesort')) # Default axis =1\n",
    "print(\"\\nHere is the sorted matrix along each column\\n\",'-'*50,\"\\n\",np.sort(M, axis=1, kind='mergesort'))\n",
    "M"
   ]
  },
  {
   "cell_type": "code",
   "execution_count": null,
   "metadata": {},
   "outputs": [],
   "source": [
    "b"
   ]
  },
  {
   "cell_type": "code",
   "execution_count": 79,
   "metadata": {},
   "outputs": [
    {
     "name": "stdout",
     "output_type": "stream",
     "text": [
      "Max of a: 99\n",
      "Max of b: 47\n"
     ]
    },
    {
     "data": {
      "text/plain": [
       "array([[[42, 17,  5, 12, 31],\n",
       "        [ 1, 42, 13, 13, 23],\n",
       "        [17, 28, 45,  8, 29]],\n",
       "\n",
       "       [[23, 12,  2,  1,  7],\n",
       "        [ 8, 35,  8, 47,  4],\n",
       "        [43, 31, 17, 22,  4]]])"
      ]
     },
     "execution_count": 79,
     "metadata": {},
     "output_type": "execute_result"
    }
   ],
   "source": [
    "print(\"Max of a:\", M.max())\n",
    "print(\"Max of b:\", b.max())\n",
    "b"
   ]
  },
  {
   "cell_type": "code",
   "execution_count": null,
   "metadata": {},
   "outputs": [],
   "source": [
    "M"
   ]
  },
  {
   "cell_type": "code",
   "execution_count": 80,
   "metadata": {},
   "outputs": [
    {
     "name": "stdout",
     "output_type": "stream",
     "text": [
      "Max of a location: [3 0 0 1 0]\n",
      "Max of b location: 23\n",
      "Max of c location: 23\n"
     ]
    }
   ],
   "source": [
    "print(\"Max of a location:\", M.argmax(axis= 0))#axiz = 0 > row\n",
    "print(\"Max of b location:\", b.argmax())\n",
    "print(\"Max of c location:\", b.argmax())"
   ]
  },
  {
   "cell_type": "markdown",
   "metadata": {},
   "source": [
    "# Indexing and slicing"
   ]
  },
  {
   "cell_type": "code",
   "execution_count": null,
   "metadata": {},
   "outputs": [],
   "source": [
    "some_list = [\"ajka\",True,10,203]\n",
    "some_list[-1]"
   ]
  },
  {
   "cell_type": "code",
   "execution_count": null,
   "metadata": {},
   "outputs": [],
   "source": [
    "import numpy as np\n",
    "arr = np.arange(0,11)\n",
    "print(\"Array:\",arr)\n"
   ]
  },
  {
   "cell_type": "code",
   "execution_count": null,
   "metadata": {},
   "outputs": [],
   "source": [
    "print(\"Element at 7th index is:\", arr[7])\n"
   ]
  },
  {
   "cell_type": "code",
   "execution_count": null,
   "metadata": {},
   "outputs": [],
   "source": [
    "print(\"Elements from 3rd to 5th index are:\", arr[3:6])\n"
   ]
  },
  {
   "cell_type": "code",
   "execution_count": null,
   "metadata": {},
   "outputs": [],
   "source": []
  },
  {
   "cell_type": "code",
   "execution_count": null,
   "metadata": {},
   "outputs": [],
   "source": [
    "print(\"Elements up to 4th index are:\", arr[:4])\n",
    "arr"
   ]
  },
  {
   "cell_type": "code",
   "execution_count": null,
   "metadata": {},
   "outputs": [],
   "source": [
    "a = [ 0,  1,  2,  3,  4,  5,  6,  7,  8,  9, 10]\n",
    "a[-1:7:-1]"
   ]
  },
  {
   "cell_type": "code",
   "execution_count": null,
   "metadata": {},
   "outputs": [],
   "source": [
    "print(\"Elements from last backwards are:\", arr[-1:7:-1]) #-1 0 1 2 3 4 5 6 7\n"
   ]
  },
  {
   "cell_type": "code",
   "execution_count": null,
   "metadata": {},
   "outputs": [],
   "source": [
    "print(\"3 Elements from last backwards are:\", arr[-1:-6:2])\n"
   ]
  },
  {
   "cell_type": "code",
   "execution_count": null,
   "metadata": {},
   "outputs": [],
   "source": [
    "arr = np.arange(0,21,2)\n",
    "print(\"New array:\",arr)\n"
   ]
  },
  {
   "cell_type": "code",
   "execution_count": null,
   "metadata": {},
   "outputs": [],
   "source": [
    "print(\"Elements at 2nd, 4th, and 9th index are:\", arr[[2,4,9]]) # Pass a list as a index to subset"
   ]
  },
  {
   "cell_type": "code",
   "execution_count": null,
   "metadata": {},
   "outputs": [],
   "source": [
    "import numpy as np \n",
    "mat = np.array(np.linspace(10,100,30,dtype=int)).reshape(6,5)\n",
    "print(\"Matrix of random 2-digit numbers\\n--------------------------------\\n\",mat)\n"
   ]
  },
  {
   "cell_type": "code",
   "execution_count": null,
   "metadata": {},
   "outputs": [],
   "source": [
    "mat[1:4]\n",
    "# [rows,columns]"
   ]
  },
  {
   "cell_type": "code",
   "execution_count": null,
   "metadata": {},
   "outputs": [],
   "source": [
    "mat[2:5,1:4]"
   ]
  },
  {
   "cell_type": "code",
   "execution_count": null,
   "metadata": {},
   "outputs": [],
   "source": [
    "mat[:,[1,3,2]]"
   ]
  },
  {
   "cell_type": "code",
   "execution_count": null,
   "metadata": {},
   "outputs": [],
   "source": [
    "mat[0:3,[1,3]]\n",
    "mat"
   ]
  },
  {
   "cell_type": "code",
   "execution_count": null,
   "metadata": {},
   "outputs": [],
   "source": [
    "print(\"\\nDouble bracket indexing\\n------------------------\")\n",
    "print(\"Element in row index 1 and column index 2:\", mat[4][3])\n",
    "mat"
   ]
  },
  {
   "cell_type": "code",
   "execution_count": null,
   "metadata": {},
   "outputs": [],
   "source": [
    "print(\"\\nSingle bracket with comma indexing\\n----------------------------------\")\n",
    "print(\"Element in row index 1 and column index 2:\", mat[4,3])\n",
    "print(\"\\nRow or column extract\\n----------------------\")\n"
   ]
  },
  {
   "cell_type": "code",
   "execution_count": null,
   "metadata": {},
   "outputs": [],
   "source": [
    "print(\"Entire row at index 2:\", mat[2])\n",
    "print(\"Entire column at index 3:\", mat[:,3])\n"
   ]
  },
  {
   "cell_type": "code",
   "execution_count": null,
   "metadata": {},
   "outputs": [],
   "source": [
    "print(\"\\nSubsetting sub-matrices\\n--------------------------\")\n",
    "print(\"Matrix with row indices 1 and 2 and column indices 3 and 4\\n\", mat[1:3,3:5])\n"
   ]
  },
  {
   "cell_type": "code",
   "execution_count": null,
   "metadata": {},
   "outputs": [],
   "source": [
    "print(\"Matrix with row indices 0 and 1 and column indices 1 and 3\\n\", mat[0:2,[1,3]])"
   ]
  },
  {
   "cell_type": "markdown",
   "metadata": {},
   "source": [
    "# Array Math"
   ]
  },
  {
   "cell_type": "code",
   "execution_count": 81,
   "metadata": {},
   "outputs": [],
   "source": [
    "import numpy as np\n",
    "\n",
    "from numpy.random import randint as ri"
   ]
  },
  {
   "cell_type": "code",
   "execution_count": 82,
   "metadata": {},
   "outputs": [
    {
     "name": "stdout",
     "output_type": "stream",
     "text": [
      "\n",
      "1st Matrix of random single-digit numbers\n",
      "\n",
      " [[5 8 3]\n",
      " [5 9 1]\n",
      " [8 4 5]]\n",
      "\n",
      "2nd Matrix of random single-digit numbers\n",
      "------------\n",
      " [[7 2 6]\n",
      " [7 3 2]\n",
      " [9 4 6]]\n"
     ]
    }
   ],
   "source": [
    "mat1 = np.array(ri(1,10,9)).reshape(3,3)\n",
    "mat2 = np.array(ri(1,10,9)).reshape(3,3)\n",
    "print(\"\\n1st Matrix of random single-digit numbers\\n\\n\",mat1)\n",
    "print(\"\\n2nd Matrix of random single-digit numbers\\n------------\\n\",mat2)\n"
   ]
  },
  {
   "cell_type": "code",
   "execution_count": 83,
   "metadata": {},
   "outputs": [
    {
     "name": "stdout",
     "output_type": "stream",
     "text": [
      "\n",
      "Sq-root of 1st matrix using np\n",
      "------------------\n",
      " [[2.23606798 2.82842712 1.73205081]\n",
      " [2.23606798 3.         1.        ]\n",
      " [2.82842712 2.         2.23606798]]\n"
     ]
    }
   ],
   "source": [
    "print(\"\\nSq-root of 1st matrix using np\\n------------------\\n\", np.sqrt(mat1))\n"
   ]
  },
  {
   "cell_type": "code",
   "execution_count": 84,
   "metadata": {},
   "outputs": [
    {
     "name": "stdout",
     "output_type": "stream",
     "text": [
      "\n",
      "Exponential power of 1st matrix using np\n",
      " -------------------------------------------------- \n",
      " [[1.48413159e+02 2.98095799e+03 2.00855369e+01]\n",
      " [1.48413159e+02 8.10308393e+03 2.71828183e+00]\n",
      " [2.98095799e+03 5.45981500e+01 1.48413159e+02]]\n"
     ]
    }
   ],
   "source": [
    "print(\"\\nExponential power of 1st matrix using np\\n\",'-'*50,\"\\n\", np.exp(mat1))\n"
   ]
  },
  {
   "cell_type": "code",
   "execution_count": 85,
   "metadata": {},
   "outputs": [
    {
     "name": "stdout",
     "output_type": "stream",
     "text": [
      "\n",
      "10-base logarithm on 1st matrix using np\n",
      " -------------------------------------------------- \n",
      " [[0.69897    0.90308999 0.47712125]\n",
      " [0.69897    0.95424251 0.        ]\n",
      " [0.90308999 0.60205999 0.69897   ]]\n",
      "[[5 8 3]\n",
      " [5 9 1]\n",
      " [8 4 5]]\n",
      "[[7 2 6]\n",
      " [7 3 2]\n",
      " [9 4 6]]\n"
     ]
    }
   ],
   "source": [
    "print(\"\\n10-base logarithm on 1st matrix using np\\n\",'-'*50,\"\\n\", np.log10(mat1))\n",
    "print(mat1)\n",
    "print(mat2)"
   ]
  },
  {
   "cell_type": "code",
   "execution_count": 86,
   "metadata": {},
   "outputs": [
    {
     "name": "stdout",
     "output_type": "stream",
     "text": [
      "\n",
      "Modulo reminder using np\n",
      " -------------------------------------------------- \n",
      " [[5 0 3]\n",
      " [5 0 1]\n",
      " [8 0 5]]\n"
     ]
    },
    {
     "data": {
      "text/plain": [
       "array([[5, 0, 3],\n",
       "       [5, 0, 1],\n",
       "       [8, 0, 5]], dtype=int32)"
      ]
     },
     "execution_count": 86,
     "metadata": {},
     "output_type": "execute_result"
    }
   ],
   "source": [
    "print(\"\\nModulo reminder using np\\n\",'-'*50,\"\\n\", np.fmod(mat1,mat2))\n",
    "mat1%mat2"
   ]
  },
  {
   "cell_type": "code",
   "execution_count": null,
   "metadata": {},
   "outputs": [],
   "source": [
    "print(\"\\nCombination of functions by shwoing exponetial decay of a sine wave\\n\",'-'*70)"
   ]
  },
  {
   "cell_type": "code",
   "execution_count": null,
   "metadata": {},
   "outputs": [],
   "source": [
    "A = np.linspace(0,12*np.pi,1001)\n"
   ]
  },
  {
   "cell_type": "code",
   "execution_count": null,
   "metadata": {},
   "outputs": [],
   "source": [
    "A"
   ]
  },
  {
   "cell_type": "code",
   "execution_count": null,
   "metadata": {},
   "outputs": [],
   "source": [
    "np.pi"
   ]
  },
  {
   "cell_type": "code",
   "execution_count": null,
   "metadata": {},
   "outputs": [],
   "source": [
    "#as np\n",
    "np.array\n",
    "np.asarray\n",
    "np.asanyarray\n",
    "\n",
    "#random\n",
    "np.random.rand()\n",
    "np.random.randn\n",
    "np.random.randint\n",
    "np.random.random\n",
    "# FUnction\n",
    "np.fromfunction\n",
    "np.fromstring\n",
    "np.fromiter\n",
    "\n",
    "#general\n",
    "np.sort()\n",
    "np.sqrt()\n",
    "np.expo(),log10(),sum()\n",
    "np.reshape()\n",
    "#attributes\n",
    "shape\n",
    "dtypes\n",
    "ndim\n",
    "index\n"
   ]
  }
 ],
 "metadata": {
  "kernelspec": {
   "display_name": "Python 3",
   "language": "python",
   "name": "python3"
  },
  "language_info": {
   "codemirror_mode": {
    "name": "ipython",
    "version": 3
   },
   "file_extension": ".py",
   "mimetype": "text/x-python",
   "name": "python",
   "nbconvert_exporter": "python",
   "pygments_lexer": "ipython3",
   "version": "3.8.8"
  }
 },
 "nbformat": 4,
 "nbformat_minor": 2
}
