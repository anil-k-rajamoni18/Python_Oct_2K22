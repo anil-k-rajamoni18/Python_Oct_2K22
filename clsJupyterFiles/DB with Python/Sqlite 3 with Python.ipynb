{
 "cells": [
  {
   "cell_type": "markdown",
   "metadata": {},
   "source": [
    "### What is DataBase?\n",
    "\n",
    "- A database is an organized collection of structured information, or data, typically stored electronically in a computer system. \n",
    "- A database is usually controlled by a database management system (DBMS).\n",
    "\n",
    "- Most databases use structured query language (SQL) for writing and querying data.\n",
    "\n",
    "#### types of data\n",
    "- Structured Data\n",
    "    - tables\n",
    "    - excels\n",
    "    \n",
    "- Unstructured Data\n",
    "    - Mails\n",
    "    - Audio's\n",
    "    - videos\n",
    "    \n",
    "    \n",
    "- Semi-Structure \n",
    "\n",
    "    - XML Data\n",
    "  \n",
    "\n",
    "\n",
    "\n",
    "### types of databases\n",
    "\n",
    "- Relational databases\n",
    "- Object oriented Databases\n",
    "- Distributed databases\n",
    "- Data warehouses\n",
    "- No SQL "
   ]
  },
  {
   "cell_type": "markdown",
   "metadata": {},
   "source": [
    "### SQL VS NO SQL\n",
    "\n",
    "- SQL databases are relational, NoSQL are non-relational.\n",
    "- SQL databases use structured query language and have a predefined schema. NoSQL databases have dynamic schemas for unstructured data.\n",
    "- SQL databases are vertically scalable, NoSQL databases are horizontally scalable.\n",
    "- SQL databases are table based, while NoSQL databases are document, key-value, graph or wide-column stores.\n",
    "\n",
    "- SQL databases are better for multi-row transactions, NoSQL are better for unstructured data like documents or JSON.\n",
    "\n",
    "<img src = \"https://www.clariontech.com/hs-fs/hubfs/SQL-NOSQL.png?width=813&name=SQL-NOSQL.png\">\n",
    "\n",
    "#### Popular SQL Databases\n",
    "- MySql\n",
    "- Oracle\n",
    "- PostgreSQL\n",
    "- Microsoft SQL server\n",
    "- SqlLite3\n",
    "### No SQL \n",
    "\n",
    "- MongoDB\n",
    "- Redis\n",
    "- RavenDB\n",
    "- Hbase\n",
    "- Cassandra\n"
   ]
  },
  {
   "cell_type": "markdown",
   "metadata": {},
   "source": [
    "### Sqlite3\n",
    "\n",
    "- In this section we going to discuss the SQLite \n",
    "- SQLite is a C-language library that implements a small, fast, self-contained, high-reliability, full-featured , SQL database engine\n",
    "- SQLite is the most used database engine in the world.\n",
    "- SQLite is built into all mobile phones and most computers and comes bundled inside countless other applications that people use every day\n",
    "\n",
    "- The SQLite file format is stable, cross-platform, and backwards compatible\n",
    "- SQLite source code is in the public-domain and is free to everyone to use for any purpose.\n",
    "\n",
    "- It is open sure embedded Database , it doesnt require any server to communicate with database.\n",
    "- It create a database on file system of computer , directly communicate with it without need of server."
   ]
  },
  {
   "cell_type": "markdown",
   "metadata": {},
   "source": [
    "### When to use?\n",
    "\n",
    "- SQLite strives to provide local data storage for individual applications and devices. SQLite emphasizes economy, efficiency, reliability, independence, and simplicity.\n",
    "\n",
    "- SQLite does not compete with client/server databases. SQLite competes with fopen().\n",
    "\n",
    "- Embedded devices and the internet of things\n",
    "- Application file format\n",
    "- Websites\n",
    "- Data analysis\n",
    "- Cache for enterprise data\n",
    "- Server-side database\n",
    "- Data transfer format\n",
    "- Internal or temporary databases\n",
    "- Very large datasets"
   ]
  },
  {
   "cell_type": "markdown",
   "metadata": {},
   "source": [
    "### Downloading\n",
    "\n",
    "step 1: GO the following \n",
    "\n",
    "https://www.sqlite.org/download.html\n",
    "\n",
    "choose  sqlite-tools-win32-x86-3350500.zip (1.81 MiB)\n",
    "under Precompiled Binaries for Windows\n",
    "\n",
    "step2: Extract it and After extraction paste the Floder in C drive , then rename the floder to sqlite3\n",
    "\n",
    "step3:floder the sqlite3 copy floder location , add it to the path variable in Environmental settings variable\n",
    "\n",
    "step4: check whether sqllite is installed or not by Opening CMD , and typing sqlite3 , if its enters into shell then succesfully installed.\n",
    "\n",
    "\n",
    "#### sqlite3 with python\n",
    "\n",
    "- install the sqlite3 module \n",
    "\n",
    "- pip install sqlite3 (no need) it is a prebuild module"
   ]
  },
  {
   "cell_type": "markdown",
   "metadata": {},
   "source": [
    "### commands\n",
    "- . quit -> to quit from shell\n",
    "- .databases -> to list databases\n",
    "- .tables -> to list tables\n"
   ]
  },
  {
   "cell_type": "markdown",
   "metadata": {},
   "source": [
    "### Data Types\n",
    "\n",
    " - NULL. The value is a NULL value.\n",
    "\n",
    "- INTEGER. The value is a signed integer, stored in 1, 2, 3, 4, 6, or 8 bytes depending on the magnitude of the value.\n",
    "\n",
    "- REAL. The value is a floating point value, stored as an 8-byte IEEE floating point number.\n",
    "\n",
    "- TEXT. The value is a text string, stored using the database encoding (UTF-8, UTF-16BE or UTF-16LE).\n",
    "\n",
    "- BLOB. The value is a blob of data, stored exactly as it was input."
   ]
  },
  {
   "cell_type": "markdown",
   "metadata": {},
   "source": [
    "### create Table"
   ]
  },
  {
   "cell_type": "code",
   "execution_count": null,
   "metadata": {},
   "outputs": [],
   "source": [
    " \n",
    "CREATE TABLE [IF NOT EXISTS] table(\n",
    "   primary_key INTEGER PRIMARY KEY,\n",
    "   column_name type NOT NULL,\n",
    "   column_name type NULL,\n",
    "   ...\n",
    "); "
   ]
  },
  {
   "cell_type": "code",
   "execution_count": 1,
   "metadata": {},
   "outputs": [],
   "source": [
    "import sqlite3"
   ]
  },
  {
   "cell_type": "code",
   "execution_count": 2,
   "metadata": {},
   "outputs": [
    {
     "data": {
      "text/plain": [
       "['Binary',\n",
       " 'Connection',\n",
       " 'Cursor',\n",
       " 'DataError',\n",
       " 'DatabaseError',\n",
       " 'Date',\n",
       " 'DateFromTicks',\n",
       " 'Error',\n",
       " 'IntegrityError',\n",
       " 'InterfaceError',\n",
       " 'InternalError',\n",
       " 'NotSupportedError',\n",
       " 'OperationalError',\n",
       " 'OptimizedUnicode',\n",
       " 'PARSE_COLNAMES',\n",
       " 'PARSE_DECLTYPES',\n",
       " 'PrepareProtocol',\n",
       " 'ProgrammingError',\n",
       " 'Row',\n",
       " 'SQLITE_ALTER_TABLE',\n",
       " 'SQLITE_ANALYZE',\n",
       " 'SQLITE_ATTACH',\n",
       " 'SQLITE_CREATE_INDEX',\n",
       " 'SQLITE_CREATE_TABLE',\n",
       " 'SQLITE_CREATE_TEMP_INDEX',\n",
       " 'SQLITE_CREATE_TEMP_TABLE',\n",
       " 'SQLITE_CREATE_TEMP_TRIGGER',\n",
       " 'SQLITE_CREATE_TEMP_VIEW',\n",
       " 'SQLITE_CREATE_TRIGGER',\n",
       " 'SQLITE_CREATE_VIEW',\n",
       " 'SQLITE_CREATE_VTABLE',\n",
       " 'SQLITE_DELETE',\n",
       " 'SQLITE_DENY',\n",
       " 'SQLITE_DETACH',\n",
       " 'SQLITE_DONE',\n",
       " 'SQLITE_DROP_INDEX',\n",
       " 'SQLITE_DROP_TABLE',\n",
       " 'SQLITE_DROP_TEMP_INDEX',\n",
       " 'SQLITE_DROP_TEMP_TABLE',\n",
       " 'SQLITE_DROP_TEMP_TRIGGER',\n",
       " 'SQLITE_DROP_TEMP_VIEW',\n",
       " 'SQLITE_DROP_TRIGGER',\n",
       " 'SQLITE_DROP_VIEW',\n",
       " 'SQLITE_DROP_VTABLE',\n",
       " 'SQLITE_FUNCTION',\n",
       " 'SQLITE_IGNORE',\n",
       " 'SQLITE_INSERT',\n",
       " 'SQLITE_OK',\n",
       " 'SQLITE_PRAGMA',\n",
       " 'SQLITE_READ',\n",
       " 'SQLITE_RECURSIVE',\n",
       " 'SQLITE_REINDEX',\n",
       " 'SQLITE_SAVEPOINT',\n",
       " 'SQLITE_SELECT',\n",
       " 'SQLITE_TRANSACTION',\n",
       " 'SQLITE_UPDATE',\n",
       " 'Time',\n",
       " 'TimeFromTicks',\n",
       " 'Timestamp',\n",
       " 'TimestampFromTicks',\n",
       " 'Warning',\n",
       " '__builtins__',\n",
       " '__cached__',\n",
       " '__doc__',\n",
       " '__file__',\n",
       " '__loader__',\n",
       " '__name__',\n",
       " '__package__',\n",
       " '__path__',\n",
       " '__spec__',\n",
       " 'adapt',\n",
       " 'adapters',\n",
       " 'apilevel',\n",
       " 'collections',\n",
       " 'complete_statement',\n",
       " 'connect',\n",
       " 'converters',\n",
       " 'datetime',\n",
       " 'dbapi2',\n",
       " 'enable_callback_tracebacks',\n",
       " 'enable_shared_cache',\n",
       " 'paramstyle',\n",
       " 'register_adapter',\n",
       " 'register_converter',\n",
       " 'sqlite_version',\n",
       " 'sqlite_version_info',\n",
       " 'threadsafety',\n",
       " 'time',\n",
       " 'version',\n",
       " 'version_info']"
      ]
     },
     "execution_count": 2,
     "metadata": {},
     "output_type": "execute_result"
    }
   ],
   "source": [
    "dir(sqlite3)"
   ]
  },
  {
   "cell_type": "markdown",
   "metadata": {},
   "source": [
    "### Steps to Write a Query\n",
    "\n",
    "Step 1: import the sqlite3\n",
    "\n",
    "step 2: create a database , with sqlite.connect()\n",
    "\n",
    "- there are two ways to create database .\n",
    "    - create a database with .db extension.\n",
    "    - or use :memory: it is in memory database , it will create a new fresh one everytime"
   ]
  },
  {
   "cell_type": "code",
   "execution_count": 3,
   "metadata": {},
   "outputs": [
    {
     "ename": "SyntaxError",
     "evalue": "EOL while scanning string literal (<ipython-input-3-1306abc731ac>, line 1)",
     "output_type": "error",
     "traceback": [
      "\u001b[1;36m  File \u001b[1;32m\"<ipython-input-3-1306abc731ac>\"\u001b[1;36m, line \u001b[1;32m1\u001b[0m\n\u001b[1;33m    \"hello\u001b[0m\n\u001b[1;37m          ^\u001b[0m\n\u001b[1;31mSyntaxError\u001b[0m\u001b[1;31m:\u001b[0m EOL while scanning string literal\n"
     ]
    }
   ],
   "source": []
  },
  {
   "cell_type": "code",
   "execution_count": 4,
   "metadata": {},
   "outputs": [],
   "source": [
    "import sqlite3\n",
    "\n",
    "#establising the connection or creating the connection object\n",
    "\n",
    "conn = sqlite3.connect(\"course.db\")\n",
    "\n",
    "#create a cursor to perform , queries like create , insert , update , delete\n",
    "\n",
    "c = conn.cursor()\n",
    "\n",
    "# write the query , in order to execute the query ,use cursor.execute()  method\n",
    "\n",
    "\n",
    "c.execute(\"\"\" CREATE TABLE courses(\n",
    "                course_id INTEGER PRIMARY KEY,\n",
    "                course_name TEXT NOT NULL,\n",
    "                course_fee REAL NOT NULL\n",
    "                \n",
    "            )\n",
    "        \"\"\")\n",
    "\n",
    "#commit the changes\n",
    "\n",
    "conn.commit()\n",
    "conn.close()"
   ]
  },
  {
   "cell_type": "code",
   "execution_count": 19,
   "metadata": {},
   "outputs": [],
   "source": [
    "import sqlite3\n",
    "\n",
    "#establising the connection or creating the connection object\n",
    "\n",
    "conn = sqlite3.connect(\"course.db\")\n",
    "\n",
    "#create a cursor to perform , queries like create , insert , update , delete\n",
    "\n",
    "c = conn.cursor()\n",
    "\n",
    "# write the query , in order to execute the query ,use cursor.execute()  method\n",
    "\n",
    "\n",
    "c.execute(\"\"\" INSERT INTO courses VALUES(102,\"java\",9000.1)\n",
    "        \"\"\")\n",
    "\n",
    "#commit the changes\n",
    "\n",
    "conn.commit()\n",
    "conn.close()"
   ]
  },
  {
   "cell_type": "code",
   "execution_count": 24,
   "metadata": {},
   "outputs": [
    {
     "name": "stdout",
     "output_type": "stream",
     "text": [
      "(101, 'Python', 100001.1)\n",
      "(102, 'java', 9000.1)\n"
     ]
    }
   ],
   "source": [
    "import sqlite3\n",
    "\n",
    "#establising the connection or creating the connection object\n",
    "\n",
    "conn = sqlite3.connect(\"course.db\")\n",
    "\n",
    "#create a cursor to perform , queries like create , insert , update , delete\n",
    "\n",
    "c = conn.cursor()\n",
    "\n",
    "# write the query , in order to execute the query ,use cursor.execute()  method\n",
    "\n",
    "\n",
    "data = c.execute(\"\"\" SELECT * FROM courses\n",
    "        \"\"\")\n",
    "\n",
    "for row in data:\n",
    "    print(row)\n",
    "#commit the changes\n",
    "\n",
    "conn.commit()\n",
    "conn.close()"
   ]
  },
  {
   "cell_type": "code",
   "execution_count": 10,
   "metadata": {},
   "outputs": [
    {
     "name": "stdout",
     "output_type": "stream",
     "text": [
      "course.db\n"
     ]
    }
   ],
   "source": [
    "#list the database files\n",
    "import os\n",
    "# print(os.listdir())\n",
    "for ch in os.listdir():\n",
    "    \n",
    "    if ch.split('.')[1]=='db':\n",
    "        print(ch)"
   ]
  },
  {
   "cell_type": "code",
   "execution_count": null,
   "metadata": {},
   "outputs": [],
   "source": []
  },
  {
   "cell_type": "code",
   "execution_count": null,
   "metadata": {},
   "outputs": [],
   "source": []
  },
  {
   "cell_type": "code",
   "execution_count": null,
   "metadata": {},
   "outputs": [],
   "source": []
  },
  {
   "cell_type": "markdown",
   "metadata": {},
   "source": [
    "#### Insert "
   ]
  },
  {
   "cell_type": "code",
   "execution_count": null,
   "metadata": {},
   "outputs": [],
   "source": [
    "INSERT INTO table_name(column1,column2,...)\n",
    "VALUES(value_1,value_2,...);\n",
    "\n",
    "\n",
    "#Insert multiple rows into a table in a single statement:\n",
    "    \n",
    "INSERT INTO table_name(column1,column2,...)\n",
    "VALUES(value_1,value_2,...),\n",
    "      (value_1,value_2,...),\n",
    "      (value_1,value_2,...)..."
   ]
  },
  {
   "cell_type": "code",
   "execution_count": null,
   "metadata": {},
   "outputs": [],
   "source": []
  },
  {
   "cell_type": "code",
   "execution_count": null,
   "metadata": {},
   "outputs": [],
   "source": []
  },
  {
   "cell_type": "code",
   "execution_count": null,
   "metadata": {},
   "outputs": [],
   "source": []
  },
  {
   "cell_type": "markdown",
   "metadata": {},
   "source": [
    "### querying Data\n",
    "\n"
   ]
  },
  {
   "cell_type": "code",
   "execution_count": null,
   "metadata": {},
   "outputs": [],
   "source": [
    "SELECT * FROM table_name;\n",
    "\n",
    "# Query data from the specified column of a table:\n",
    "    \n",
    "SELECT c1, c2\n",
    "FROM table_name;\n",
    "\n",
    "# Query unique rows\n",
    "\n",
    "SELECT DISTINCT (c1)\n",
    "FROM table_name;\n",
    "\n",
    "\n",
    "# Query rows that match a condition using a WHERE clause.\n",
    "\n",
    "SELECT *\n",
    "FROM table_name\n",
    "WHERE condition;"
   ]
  },
  {
   "cell_type": "code",
   "execution_count": null,
   "metadata": {},
   "outputs": [],
   "source": []
  },
  {
   "cell_type": "code",
   "execution_count": null,
   "metadata": {},
   "outputs": [],
   "source": []
  },
  {
   "cell_type": "markdown",
   "metadata": {},
   "source": [
    "### Update"
   ]
  },
  {
   "cell_type": "code",
   "execution_count": null,
   "metadata": {},
   "outputs": [],
   "source": [
    "# Update all rows in a table:\n",
    "\n",
    "UPDATE table_name\n",
    "SET c1 = v1,\n",
    "\n",
    "\n",
    "# Update rows that match with a condition:\n",
    "\n",
    "UPDATE table_name\n",
    "SET c1 = v1,\n",
    "    ...\n",
    "WHERE condition;"
   ]
  },
  {
   "cell_type": "code",
   "execution_count": null,
   "metadata": {},
   "outputs": [],
   "source": []
  },
  {
   "cell_type": "code",
   "execution_count": null,
   "metadata": {},
   "outputs": [],
   "source": []
  },
  {
   "cell_type": "code",
   "execution_count": null,
   "metadata": {},
   "outputs": [],
   "source": [
    "##delete rows\n",
    "\n",
    "DELETE FROM table;\n",
    "\n",
    "\n",
    "# Delete rows specified by a condition:\n",
    "\n",
    "DELETE FROM table\n",
    "WHERE condition;"
   ]
  },
  {
   "cell_type": "code",
   "execution_count": 1,
   "metadata": {},
   "outputs": [],
   "source": [
    "\n",
    "\n",
    "#College - Database\n",
    "# Student  - Tables\n",
    "# columns - Name , ID , College_name , Branch , State , Marks \n",
    "# creat database\n",
    "# create table\n",
    "# insert data 10 records\n",
    "\n",
    "# update  collegename if state is \n",
    "# delete student_name "
   ]
  },
  {
   "cell_type": "code",
   "execution_count": 4,
   "metadata": {},
   "outputs": [
    {
     "name": "stdout",
     "output_type": "stream",
     "text": [
      "CREATED TABLE SUCCESSFULLY\n",
      "INSERTED \n",
      "('RV', 3423, 'TU', 'ECE', 'OK', 67.6)\n"
     ]
    }
   ],
   "source": [
    "\n",
    "import sqlite3\n",
    "conn=sqlite3.connect(\":memory:\")\n",
    "\n",
    "s=conn.cursor()\n",
    "\n",
    "s.execute(\"\"\"CREATE TABLE student(\n",
    "student3_name NOT NULL,\n",
    "student3_id INTEGER PRIMARY KEY,\n",
    "student3_college TEXT,\n",
    "student3_branch TEXT,\n",
    "student3_state NOT NULL,\n",
    "student3_Marks REAL)\n",
    "\"\"\")\n",
    "print(\"CREATED TABLE SUCCESSFULLY\")\n",
    "\n",
    "s.execute(\"\"\"INSERT INTO student VALUES\n",
    "(\"RV\",3423,\"TU\",\"ECE\",\"OK\",67.6)\"\"\")\n",
    "\n",
    "print(\"INSERTED \")\n",
    "info=s.execute(\"\"\"SELECT * FROM student\"\"\")\n",
    "\n",
    "for data in info:\n",
    "    print(data)\n",
    "\n",
    "conn.commit()\n",
    "conn.close()\n",
    "\n"
   ]
  },
  {
   "cell_type": "code",
   "execution_count": 1,
   "metadata": {},
   "outputs": [
    {
     "name": "stdout",
     "output_type": "stream",
     "text": [
      "D:\\JS\\SOCKET NETWORKING PROG'\\Python_Session\\Notebook files\n"
     ]
    }
   ],
   "source": [
    "import os\n",
    "print(os.getcwd())"
   ]
  },
  {
   "cell_type": "code",
   "execution_count": null,
   "metadata": {},
   "outputs": [],
   "source": []
  }
 ],
 "metadata": {
  "kernelspec": {
   "display_name": "Python 3",
   "language": "python",
   "name": "python3"
  },
  "language_info": {
   "codemirror_mode": {
    "name": "ipython",
    "version": 3
   },
   "file_extension": ".py",
   "mimetype": "text/x-python",
   "name": "python",
   "nbconvert_exporter": "python",
   "pygments_lexer": "ipython3",
   "version": "3.8.8"
  }
 },
 "nbformat": 4,
 "nbformat_minor": 4
}
