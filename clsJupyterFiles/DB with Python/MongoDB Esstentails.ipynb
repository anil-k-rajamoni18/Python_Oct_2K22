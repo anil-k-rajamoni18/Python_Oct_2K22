{
 "cells": [
  {
   "cell_type": "markdown",
   "id": "5d0069f0",
   "metadata": {},
   "source": [
    "### What is JSON?\n",
    "\n",
    "    - Json Stands for JavaScript Object Notation\n",
    "    - It's Serialisation language for data exchange between applications running on different tech\n",
    "    - It's lightweight format for storing and transporting the data\n",
    "    - Easy to Understand & self describing\n",
    "    \n",
    "        USED IN :\n",
    "                - REST API's\n",
    "                - Configuration files.\n",
    "   #### Syntax Rules\n",
    "       - Data is in name: value paris\n",
    "       - Data is separated by commons(,)\n",
    "       - curly braces hold object\n",
    "       - square brackets holds arrays\n",
    "       \n",
    "   ### Data types\n",
    "        - object\n",
    "        - arrays\n",
    "        - Intergers\n",
    "        - Strings\n",
    "        - Boolean\n",
    "        - Null/None"
   ]
  },
  {
   "cell_type": "code",
   "execution_count": null,
   "id": "cb3b1476",
   "metadata": {},
   "outputs": [],
   "source": []
  }
 ],
 "metadata": {
  "kernelspec": {
   "display_name": "Python 3",
   "language": "python",
   "name": "python3"
  },
  "language_info": {
   "codemirror_mode": {
    "name": "ipython",
    "version": 3
   },
   "file_extension": ".py",
   "mimetype": "text/x-python",
   "name": "python",
   "nbconvert_exporter": "python",
   "pygments_lexer": "ipython3",
   "version": "3.8.8"
  }
 },
 "nbformat": 4,
 "nbformat_minor": 5
}
