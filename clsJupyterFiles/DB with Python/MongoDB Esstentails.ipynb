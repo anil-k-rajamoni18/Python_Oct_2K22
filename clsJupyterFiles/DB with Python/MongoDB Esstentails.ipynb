{
 "cells": [
  {
   "cell_type": "markdown",
   "id": "5d0069f0",
   "metadata": {},
   "source": [
    "### What is JSON?\n",
    "\n",
    "    - Json Stands for JavaScript Object Notation\n",
    "    - It's Serialisation language for data exchange between applications running on different tech\n",
    "    - It's lightweight format for storing and transporting the data\n",
    "    - Easy to Understand & self describing\n",
    "    \n",
    "        USED IN :\n",
    "                - REST API's\n",
    "                - Configuration files.\n",
    "   #### Syntax Rules\n",
    "       - Data is in name: value paris\n",
    "       - Data is separated by commons(,)\n",
    "       - curly braces hold object\n",
    "       - square brackets holds arrays\n",
    "       \n",
    "   ### Data types\n",
    "        - object\n",
    "        - arrays\n",
    "        - Intergers\n",
    "        - Strings\n",
    "        - Boolean\n",
    "        - Null/None"
   ]
  },
  {
   "cell_type": "code",
   "execution_count": null,
   "id": "cb3b1476",
   "metadata": {},
   "outputs": [],
   "source": [
    "# example\n",
    "{\n",
    "    \"name\": \"Kumar\",\n",
    "    \"country\": \"India\",\n",
    "    \"role\": \"SDE\",\n",
    "    \"skills\":[\"K8's\",\"Java\",\"Python\",\"Web\"],\n",
    "    \"address\":{\n",
    "        \"street1\": \"HYT 80\",\n",
    "        \"street2\": \"LB NAGAR\",\n",
    "        \"pin\": 500070\n",
    "        \n",
    "    }\n",
    "}\n",
    "        "
   ]
  },
  {
   "cell_type": "code",
   "execution_count": 1,
   "id": "c9471735",
   "metadata": {},
   "outputs": [],
   "source": [
    "import json"
   ]
  },
  {
   "cell_type": "code",
   "execution_count": 2,
   "id": "d6c7a156",
   "metadata": {},
   "outputs": [
    {
     "data": {
      "text/plain": [
       "['JSONDecodeError',\n",
       " 'JSONDecoder',\n",
       " 'JSONEncoder',\n",
       " '__all__',\n",
       " '__author__',\n",
       " '__builtins__',\n",
       " '__cached__',\n",
       " '__doc__',\n",
       " '__file__',\n",
       " '__loader__',\n",
       " '__name__',\n",
       " '__package__',\n",
       " '__path__',\n",
       " '__spec__',\n",
       " '__version__',\n",
       " '_default_decoder',\n",
       " '_default_encoder',\n",
       " 'codecs',\n",
       " 'decoder',\n",
       " 'detect_encoding',\n",
       " 'dump',\n",
       " 'dumps',\n",
       " 'encoder',\n",
       " 'load',\n",
       " 'loads',\n",
       " 'scanner']"
      ]
     },
     "execution_count": 2,
     "metadata": {},
     "output_type": "execute_result"
    }
   ],
   "source": [
    "dir(json)"
   ]
  },
  {
   "cell_type": "code",
   "execution_count": null,
   "id": "9c78c7bd",
   "metadata": {},
   "outputs": [],
   "source": []
  },
  {
   "cell_type": "markdown",
   "id": "52976e5f",
   "metadata": {},
   "source": [
    "### What is Data?\n",
    "       - Data is a collection of a distinct small unit of information. \n",
    "       - It can be used in a variety of forms like text, numbers, media, bytes, etc. it can be stored in pieces of paper or electronic memory, etc.\n",
    "  >> Word 'Data' is originated from the word 'datum' that means 'single piece of information.' It is plural of the word datum\n",
    "  \n",
    "  \n",
    "### What is Database?\n",
    "    - A database is an organized collection of data, so that it can be easily accessed and managed.\n",
    "\n",
    "    - You can organize data into tables, rows, columns, and index it to make it easier to find relevant information.\n",
    "    - The main purpose of the database is to operate a large amount of information by storing, retrieving, and managing data.\n",
    "    \n",
    "    \n",
    "   examples:\n",
    "       \n",
    "       MySQL, Sybase, Oracle, MongoDB, Informix, PostgreSQL, SQL Server, etc.\n",
    "       \n",
    "\n",
    "\n"
   ]
  },
  {
   "cell_type": "markdown",
   "id": "ccf51462",
   "metadata": {},
   "source": [
    "### SQL VS NO SQL\n",
    "\n",
    "    SQL databases are primarily called as Relational Databases (RDBMS); \n",
    "    \n",
    "    whereas NoSQL database are primarily called as non-relational or distributed database. \n",
    "    \n",
    " <img src = \"https://i.imgur.com/5I3l2iA.png\" height=\"800\" width=\"800\">"
   ]
  },
  {
   "cell_type": "markdown",
   "id": "56f3ed82",
   "metadata": {},
   "source": [
    "### WHAT IS MONGODB?\n",
    "  \n",
    "  \n",
    "      - MongoDB stores data in flexible, JSON-like documents, meaning fields can vary from document to document and data structure can be changed over time\n",
    "\n",
    "    -  The document model maps to the objects in your application code, making data easy to work with\n",
    "    \n",
    "    -  Ad hoc queries, indexing, and real time aggregation provide powerful ways to access and analyze your data\n",
    "    \n",
    "    -  MongoDB is a distributed database at its core, so high availability, horizontal scaling, and geographic distribution are built in and easy to use\n",
    "\n",
    "\n",
    "    - MongoDB is free to use. Versions released prior to October 16, 2018 are published under the AGPL. All versions released after October 16, 2018, including patch fixes for prior versions, are published under the Server Side Public License (SSPL) v1.\n",
    "    \n",
    "    \n",
    "    \n",
    "<img src =\"https://webimages.mongodb.com/_com_assets/cms/1-lwnlfl1ryn.png?auto=format%2Ccompress&ch=DPR&w=594\" height=\"500\" width=\"500\">   "
   ]
  },
  {
   "cell_type": "markdown",
   "id": "8caa5499",
   "metadata": {},
   "source": [
    "### How to Install ?\n",
    "\n",
    "    - Follow the documentation for installation \n",
    "    https://www.mongodb.com/docs/manual/installation/\n",
    "    \n",
    "    \n",
    "    - AFTER INSTALLATION TO VERIFY\n",
    "    \n",
    "    \n",
    "  > mongod --version \n",
    "  \n",
    "  > mongosh --version\n",
    "  \n",
    "  \n",
    " ### Connect.\n",
    "     1. Local DB \n",
    "         mongosh \n",
    "         \n",
    "     2. Remote DB or cluster DB \n",
    "         mongosh URL \n",
    "  \n",
    "  \n",
    "### Different tools\n",
    "\n",
    "  ##### MONGODB \n",
    "    \n",
    "        - It's A DB acts a NO SQL \n",
    "        - MongoDB is a document database with the scalability and flexibility that you want with the querying and indexing that you need.\n",
    "        \n",
    "    \n",
    "    \n",
    "    \n",
    "  ##### Cluster  : \n",
    "      MongoDB Atlas Cluster is a NoSQL Database-as-a-Service offering in the public cloud (available in Microsoft Azure, Google Cloud Platform, Amazon Web Services).\n",
    "    \n",
    "    \n",
    "    \n",
    "   ###### MongoShell : \n",
    "   \n",
    "       The mongo shell is an interactive JavaScript interface to MongoDB. You can use the mongo shell to query and update data as well as perform administrative operations.\n",
    "    \n",
    "    \n",
    "    \n",
    "   ##### Mongo Altas Compass\n",
    "        \n",
    "        MongoDB Atlas is a fully-managed cloud database that handles all the complexity of deploying, managing, and healing your deployments on the cloud service provider of your choice (AWS , Azure, and GCP). MongoDB Atlas is the best way to deploy, run, and scale MongoDB in the cloud.\n",
    "    \n",
    "    "
   ]
  },
  {
   "cell_type": "code",
   "execution_count": null,
   "id": "c50f7cc3",
   "metadata": {},
   "outputs": [],
   "source": []
  },
  {
   "cell_type": "code",
   "execution_count": null,
   "id": "831e2507",
   "metadata": {},
   "outputs": [],
   "source": []
  },
  {
   "cell_type": "markdown",
   "id": "fdd9a9f7",
   "metadata": {},
   "source": [
    "### Terminology \n",
    "\n",
    "<img src = \" https://i.imgur.com/R44vVcY.png\" height=\"800\" width=\"900\">"
   ]
  },
  {
   "cell_type": "code",
   "execution_count": null,
   "id": "39ae2bc2",
   "metadata": {},
   "outputs": [],
   "source": []
  },
  {
   "cell_type": "markdown",
   "id": "a7ad7a17",
   "metadata": {},
   "source": [
    "### Commands\n",
    "\n",
    "  #### most used commands\n",
    "  \n",
    "      - View all databases\n",
    "             show dbs\n",
    "            \n",
    "      - Create a new or switch databases \n",
    "             use dbName\n",
    "             \n",
    "      - View current Database\n",
    "             db\n",
    "             \n",
    "      - Delete Database  \n",
    "            db.dropDatabase()\n",
    "              \n",
    "      \n",
    "  ##### Collection Commands\n",
    "         \n",
    "       - Show Collections\n",
    "             show collections\n",
    "                  \n",
    "        - Create a collection named 'comments'\n",
    "             Create a collection named 'comments'\n",
    "       \n",
    "        - Drop a collection named 'comments'\n",
    "             db.comments.drop()\n",
    "             \n",
    "\n",
    "### Row(Document) Commands\n",
    "\n",
    "\n",
    "**find all rows**\n",
    "\n",
    "             db.comments.find()\n",
    "             \n",
    "**Show all Rows in a Collection**\n",
    "\n",
    "\n",
    "             db.comments.find().pretty()\n",
    "             \n",
    "**Find the first row matching the object**\n",
    "\n",
    "             db.comments.findOne({name: 'Harry'})\n",
    "            \n",
    "**Insert One Row**\n",
    "             \n",
    "             db.comments.insert({\n",
    "                 'name': 'Harry',\n",
    "                 'lang': 'JavaScript',\n",
    "                 'member_since': 5\n",
    "             })     \n",
    "             \n",
    "   **Insert many Rows**\n",
    "   \n",
    "              db.comments.insertMany([{\n",
    "                 'name': 'Harry',\n",
    "                 'lang': 'JavaScript',\n",
    "                'member_since': 5\n",
    "                }, \n",
    "                {'name': 'Rohan',\n",
    "                'lang': 'Python',\n",
    "                'member_since': 3\n",
    "                },\n",
    "                {'name': 'Lovish',\n",
    "                'lang': 'Java',\n",
    "                'member_since': 4\n",
    "            }])\n",
    "\n",
    "### Search in a MongoDb Database\n",
    "\n",
    "          - db.comments.find({lang:'Python'})\n",
    "          \n",
    "**Limit the number of rows in output**   \n",
    "\n",
    "        db.comments.find().limit(2)\n",
    "        \n",
    "        \n",
    "**Count the number of rows in the output**\n",
    "        \n",
    "        db.comments.find().count()\n",
    "        \n",
    "        \n",
    "**Update a row**\n",
    "        \n",
    "        db.comments.updateOne({name: 'Shubham'},\n",
    "        {$set: {'name': 'Harry',\n",
    "         lang': 'JavaScript',\n",
    "        'member_since': 51\n",
    "        }}, {upsert: true})\n",
    "        \n",
    "        \n",
    "**Mongodb Increment Operator**\n",
    "\n",
    "        db.comments.update({name: 'Rohan'},\n",
    "        {$inc:{\n",
    "        member_since: 2\n",
    "        }})\n",
    "        \n",
    "        \n",
    "**Mongodb Rename Operator**\n",
    "\n",
    "        db.comments.update({name: 'Rohan'},\n",
    "        {$rename:{\n",
    "        member_since: 'member'\n",
    "        }})\n",
    "        \n",
    "        \n",
    "**Delete Row**\n",
    "\n",
    "        db.comments.remove({name: 'Harry'})\n",
    "        \n",
    "        \n",
    "**Less than/Greater than/ Less than or Eq/Greater than or Eq**\n",
    "        \n",
    "       db.comments.find({member_since: {$lt: 90}})\n",
    "       \n",
    "       db.comments.find({member_since: {$lte: 90}})\n",
    "       \n",
    "       db.comments.find({member_since: {$gt: 90}})\n",
    "       \n",
    "       db.comments.find({member_since: {$gte: 90}})\n",
    "        \n",
    "        \n",
    "        "
   ]
  },
  {
   "cell_type": "markdown",
   "id": "c30089cf",
   "metadata": {},
   "source": []
  },
  {
   "cell_type": "code",
   "execution_count": null,
   "id": "34726f5d",
   "metadata": {},
   "outputs": [],
   "source": []
  },
  {
   "cell_type": "markdown",
   "id": "ea62e670",
   "metadata": {},
   "source": [
    "### PyMongo\n",
    "\n",
    "    - Python needs a MongoDB driver to access the MongoDB database.\n",
    "**TO INSTAL MODULE**\n",
    "\n",
    "  >python -m pip install pymongo\n",
    "        \n",
    "    To test if the installation was successful, or if you already have \"pymongo\" installed, create a Python page with the following content:\n",
    "    \n",
    ">import pymongo\n",
    "\n",
    "\n",
    "\n",
    " #### step 1: Creating a Database\n",
    " \n",
    "         - To create a database in MongoDB, start by creating a MongoClient object, then specify a connection URL with the correct ip address and the name of the database you want to create.\n",
    "\n",
    "        MongoDB will create the database if it does not exist, and make a connection to it.\n",
    "        \n",
    "        \n",
    "         MongoDB waits until you have created a collection (table), with at least one document (record) before it actually creates the database (and collection)."
   ]
  },
  {
   "cell_type": "code",
   "execution_count": 14,
   "id": "4be686d1",
   "metadata": {},
   "outputs": [],
   "source": [
    "import pymongo\n",
    "\n",
    "myclient = pymongo.MongoClient(\"mongodb://localhost:27017/\")\n",
    "\n",
    "db_name = \"AKR\"\n",
    "mydb = myclient[db_name]\n",
    "\n",
    "\n",
    "    "
   ]
  },
  {
   "cell_type": "code",
   "execution_count": 15,
   "id": "d272f47c",
   "metadata": {},
   "outputs": [
    {
     "name": "stdout",
     "output_type": "stream",
     "text": [
      "['STUDENT', 'admin', 'appdb', 'config', 'courses', 'local']\n",
      "DB not found ..\n"
     ]
    }
   ],
   "source": [
    "dblist = myclient.list_database_names()\n",
    "print(dblist)\n",
    "\n",
    "try:\n",
    "    if db_name in dblist:\n",
    "        print(\"The database exists.\")  \n",
    "    else:\n",
    "        raise Exception(\"DB not found ..\")\n",
    "except Exception as e:\n",
    "    print(e)\n",
    "    "
   ]
  },
  {
   "cell_type": "markdown",
   "id": "188a7593",
   "metadata": {},
   "source": [
    "####  Step2: Creating a Collection\n",
    "        \n",
    "        To create a collection in MongoDB, use database object and specify the name of the collection you want to create.\n",
    "\n",
    "        MongoDB will create the collection if it does not exist\n",
    "        \n",
    "         In MongoDB, a collection is not created until it gets content!\n",
    "         \n",
    "         MongoDB waits until you have inserted a document before it actually creates the collection.\n",
    "         \n",
    "         \n",
    "        \n",
    "        \n",
    "\n"
   ]
  },
  {
   "cell_type": "code",
   "execution_count": 18,
   "id": "79837a06",
   "metadata": {},
   "outputs": [],
   "source": [
    "import pymongo\n",
    "\n",
    "myclient = pymongo.MongoClient(\"mongodb://localhost:27017/\")\n",
    "mydb = myclient[\"courses\"]\n",
    "\n",
    "mycol = mydb[\"customers\"]"
   ]
  },
  {
   "cell_type": "code",
   "execution_count": 20,
   "id": "fa2ae8d1",
   "metadata": {},
   "outputs": [
    {
     "name": "stdout",
     "output_type": "stream",
     "text": [
      "['course']\n"
     ]
    }
   ],
   "source": [
    "collist = mydb.list_collection_names()\n",
    "print(collist)\n",
    "if \"customers\" in collist:\n",
    "  print(\"The collection exists.\")"
   ]
  },
  {
   "cell_type": "code",
   "execution_count": null,
   "id": "2e418305",
   "metadata": {},
   "outputs": [],
   "source": []
  },
  {
   "cell_type": "markdown",
   "id": "e640a3b9",
   "metadata": {},
   "source": [
    "#### Step3: Insert Into Collection\n",
    "\n",
    "        To insert a record, or document as it is called in MongoDB, into a collection, we use the insert_one() method.\n",
    "\n",
    "        The first parameter of the insert_one() method is a dictionary containing the name(s) and value(s) of each field in the document you want to insert.\n",
    "        \n",
    "        \n",
    "        \n",
    "        \n",
    "\n",
    "        "
   ]
  },
  {
   "cell_type": "code",
   "execution_count": 21,
   "id": "d6ed11e4",
   "metadata": {},
   "outputs": [],
   "source": [
    "import pymongo\n",
    "\n",
    "myclient = pymongo.MongoClient(\"mongodb://localhost:27017/\")\n",
    "mydb = myclient[\"mydatabase\"]\n",
    "mycol = mydb[\"customers\"]\n",
    "\n",
    "mydict = { \"name\": \"John\", \"address\": \"Highway 37\" }\n",
    "\n",
    "x = mycol.insert_one(mydict)"
   ]
  },
  {
   "cell_type": "code",
   "execution_count": 22,
   "id": "0dcfb7ad",
   "metadata": {},
   "outputs": [
    {
     "name": "stdout",
     "output_type": "stream",
     "text": [
      "['STUDENT', 'admin', 'appdb', 'config', 'courses', 'local', 'mydatabase']\n"
     ]
    }
   ],
   "source": [
    "print(myclient.list_database_names())"
   ]
  },
  {
   "cell_type": "code",
   "execution_count": null,
   "id": "d1626b27",
   "metadata": {},
   "outputs": [],
   "source": [
    "# The insert_one() method returns a InsertOneResult object, which has a property, \n",
    "# inserted_id, that holds the id of the inserted document.\n",
    "\n",
    "mydict = { \"name\": \"Peter\", \"address\": \"Lowstreet 27\" }\n",
    "\n",
    "x = mycol.insert_one(mydict)\n",
    "\n",
    "print(x.inserted_id)\n",
    "\n",
    "\n",
    "\n",
    "# If you do not specify an _id field, then MongoDB will add one for you and assign a unique id for each document.\n",
    "\n",
    "# In the example above no _id field was specified, so MongoDB assigned a unique _id for the record (document)."
   ]
  },
  {
   "cell_type": "code",
   "execution_count": null,
   "id": "4a92d5f6",
   "metadata": {},
   "outputs": [],
   "source": []
  },
  {
   "cell_type": "markdown",
   "id": "f876037a",
   "metadata": {},
   "source": [
    "#### Insert Multiple Documents\n",
    "\n",
    "To insert multiple documents into a collection in MongoDB, we use the insert_many() method.\n",
    "\n",
    "The first parameter of the insert_many() method is a list containing dictionaries with the data you want to insert:\n",
    "\n"
   ]
  },
  {
   "cell_type": "code",
   "execution_count": 23,
   "id": "1ea2a98a",
   "metadata": {},
   "outputs": [
    {
     "name": "stdout",
     "output_type": "stream",
     "text": [
      "[ObjectId('637c24dfeb03431529df16ec'), ObjectId('637c24dfeb03431529df16ed'), ObjectId('637c24dfeb03431529df16ee'), ObjectId('637c24dfeb03431529df16ef'), ObjectId('637c24dfeb03431529df16f0'), ObjectId('637c24dfeb03431529df16f1'), ObjectId('637c24dfeb03431529df16f2'), ObjectId('637c24dfeb03431529df16f3'), ObjectId('637c24dfeb03431529df16f4'), ObjectId('637c24dfeb03431529df16f5'), ObjectId('637c24dfeb03431529df16f6'), ObjectId('637c24dfeb03431529df16f7')]\n"
     ]
    }
   ],
   "source": [
    "import pymongo\n",
    "\n",
    "myclient = pymongo.MongoClient(\"mongodb://localhost:27017/\")\n",
    "mydb = myclient[\"mydatabase\"]\n",
    "mycol = mydb[\"customers\"]\n",
    "\n",
    "mylist = [\n",
    "  { \"name\": \"Amy\", \"address\": \"Apple st 652\"},\n",
    "  { \"name\": \"Hannah\", \"address\": \"Mountain 21\"},\n",
    "  { \"name\": \"Michael\", \"address\": \"Valley 345\"},\n",
    "  { \"name\": \"Sandy\", \"address\": \"Ocean blvd 2\"},\n",
    "  { \"name\": \"Betty\", \"address\": \"Green Grass 1\"},\n",
    "  { \"name\": \"Richard\", \"address\": \"Sky st 331\"},\n",
    "  { \"name\": \"Susan\", \"address\": \"One way 98\"},\n",
    "  { \"name\": \"Vicky\", \"address\": \"Yellow Garden 2\"},\n",
    "  { \"name\": \"Ben\", \"address\": \"Park Lane 38\"},\n",
    "  { \"name\": \"William\", \"address\": \"Central st 954\"},\n",
    "  { \"name\": \"Chuck\", \"address\": \"Main Road 989\"},\n",
    "  { \"name\": \"Viola\", \"address\": \"Sideway 1633\"}\n",
    "]\n",
    "\n",
    "x = mycol.insert_many(mylist)\n",
    "\n",
    "#print list of the _id values of the inserted documents:\n",
    "print(x.inserted_ids)"
   ]
  },
  {
   "cell_type": "code",
   "execution_count": null,
   "id": "7adeb227",
   "metadata": {},
   "outputs": [],
   "source": []
  },
  {
   "cell_type": "markdown",
   "id": "bfceda12",
   "metadata": {},
   "source": [
    "#### Find One\n",
    "\n",
    "    In MongoDB we use the find() and find_one() methods to find data in a collection.\n",
    "    \n",
    "    To select data from a collection in MongoDB, we can use the find_one() method.\n",
    "\n",
    "    The find_one() method returns the first occurrence in the selection.\n",
    "    \n",
    "    \n"
   ]
  },
  {
   "cell_type": "code",
   "execution_count": 24,
   "id": "d3a62f28",
   "metadata": {},
   "outputs": [
    {
     "name": "stdout",
     "output_type": "stream",
     "text": [
      "{'_id': ObjectId('637c24a4eb03431529df16ea'), 'name': 'John', 'address': 'Highway 37'}\n"
     ]
    }
   ],
   "source": [
    "import pymongo\n",
    "\n",
    "myclient = pymongo.MongoClient(\"mongodb://localhost:27017/\")\n",
    "mydb = myclient[\"mydatabase\"]\n",
    "mycol = mydb[\"customers\"]\n",
    "\n",
    "x = mycol.find_one()\n",
    "\n",
    "print(x)"
   ]
  },
  {
   "cell_type": "code",
   "execution_count": null,
   "id": "fb5c5727",
   "metadata": {},
   "outputs": [],
   "source": []
  },
  {
   "cell_type": "markdown",
   "id": "f64d0f5a",
   "metadata": {},
   "source": [
    "#### Finall \n",
    "\n",
    "    To select data from a table in MongoDB, we can also use the find() method.\n",
    "\n",
    "    The find() method returns all occurrences in the selection.\n",
    "    \n",
    "    "
   ]
  },
  {
   "cell_type": "code",
   "execution_count": 26,
   "id": "1cb6cc9a",
   "metadata": {},
   "outputs": [
    {
     "name": "stdout",
     "output_type": "stream",
     "text": [
      "John\n",
      "Amy\n",
      "Hannah\n",
      "Michael\n",
      "Sandy\n",
      "Betty\n",
      "Richard\n",
      "Susan\n",
      "Vicky\n",
      "Ben\n",
      "William\n",
      "Chuck\n",
      "Viola\n"
     ]
    }
   ],
   "source": [
    "import pymongo\n",
    "\n",
    "myclient = pymongo.MongoClient(\"mongodb://localhost:27017/\")\n",
    "mydb = myclient[\"mydatabase\"]\n",
    "mycol = mydb[\"customers\"]\n",
    "\n",
    "for x in mycol.find(): \n",
    "  print(x[\"name\"])"
   ]
  },
  {
   "cell_type": "code",
   "execution_count": null,
   "id": "6e2daeac",
   "metadata": {},
   "outputs": [],
   "source": []
  },
  {
   "cell_type": "markdown",
   "id": "81eb2a3c",
   "metadata": {},
   "source": [
    "#### Return Only Some Fields\n",
    "\n",
    "\n",
    "    The second parameter of the find() method is an object describing which fields to include in the result.\n",
    "\n",
    "    This parameter is optional, and if omitted, all fields will be included in the result.\n",
    "    \n",
    "    "
   ]
  },
  {
   "cell_type": "code",
   "execution_count": 27,
   "id": "c720224d",
   "metadata": {},
   "outputs": [
    {
     "name": "stdout",
     "output_type": "stream",
     "text": [
      "{'name': 'John', 'address': 'Highway 37'}\n",
      "{'name': 'Amy', 'address': 'Apple st 652'}\n",
      "{'name': 'Hannah', 'address': 'Mountain 21'}\n",
      "{'name': 'Michael', 'address': 'Valley 345'}\n",
      "{'name': 'Sandy', 'address': 'Ocean blvd 2'}\n",
      "{'name': 'Betty', 'address': 'Green Grass 1'}\n",
      "{'name': 'Richard', 'address': 'Sky st 331'}\n",
      "{'name': 'Susan', 'address': 'One way 98'}\n",
      "{'name': 'Vicky', 'address': 'Yellow Garden 2'}\n",
      "{'name': 'Ben', 'address': 'Park Lane 38'}\n",
      "{'name': 'William', 'address': 'Central st 954'}\n",
      "{'name': 'Chuck', 'address': 'Main Road 989'}\n",
      "{'name': 'Viola', 'address': 'Sideway 1633'}\n"
     ]
    }
   ],
   "source": [
    "import pymongo\n",
    "\n",
    "myclient = pymongo.MongoClient(\"mongodb://localhost:27017/\")\n",
    "mydb = myclient[\"mydatabase\"]\n",
    "mycol = mydb[\"customers\"]\n",
    "\n",
    "for x in mycol.find({},{ \"_id\": 0, \"name\": 1, \"address\": 1 }):\n",
    "  print(x)"
   ]
  },
  {
   "cell_type": "code",
   "execution_count": null,
   "id": "7cb24865",
   "metadata": {},
   "outputs": [],
   "source": []
  },
  {
   "cell_type": "code",
   "execution_count": null,
   "id": "c788d774",
   "metadata": {},
   "outputs": [],
   "source": []
  },
  {
   "cell_type": "markdown",
   "id": "8a3680d6",
   "metadata": {},
   "source": [
    "#### Filter the Result\n",
    "\n",
    "    When finding documents in a collection, you can filter the result by using a query object.\n",
    "\n",
    "    The first argument of the find() method is a query object, and is used to limit the search.\n",
    "    \n",
    "    To make advanced queries you can use modifiers as values in the query object.\n",
    "\n",
    "    E.g. to find the documents where the \"address\" field starts with the letter \"S\" or higher (alphabetically), use the greater than modifier: {\"$gt\": \"S\"}:\n",
    "    \n",
    "   \n",
    "   To find only the documents where the \"address\" field starts with the letter \"S\", use the regular expression {\"$regex\": \"^S\"}:"
   ]
  },
  {
   "cell_type": "code",
   "execution_count": 28,
   "id": "2992395e",
   "metadata": {},
   "outputs": [
    {
     "name": "stdout",
     "output_type": "stream",
     "text": [
      "{'_id': ObjectId('637c24dfeb03431529df16ee'), 'name': 'Michael', 'address': 'Valley 345'}\n",
      "{'_id': ObjectId('637c24dfeb03431529df16f1'), 'name': 'Richard', 'address': 'Sky st 331'}\n",
      "{'_id': ObjectId('637c24dfeb03431529df16f3'), 'name': 'Vicky', 'address': 'Yellow Garden 2'}\n",
      "{'_id': ObjectId('637c24dfeb03431529df16f7'), 'name': 'Viola', 'address': 'Sideway 1633'}\n"
     ]
    }
   ],
   "source": [
    "import pymongo\n",
    "\n",
    "myclient = pymongo.MongoClient(\"mongodb://localhost:27017/\")\n",
    "mydb = myclient[\"mydatabase\"]\n",
    "mycol = mydb[\"customers\"]\n",
    "\n",
    "myquery = { \"address\": { \"$gt\": \"S\" } }\n",
    "\n",
    "mydoc = mycol.find(myquery)\n",
    "\n",
    "for x in mydoc:\n",
    "  print(x)"
   ]
  },
  {
   "cell_type": "code",
   "execution_count": null,
   "id": "a67d9c46",
   "metadata": {},
   "outputs": [],
   "source": []
  },
  {
   "cell_type": "code",
   "execution_count": 29,
   "id": "9cdd31e0",
   "metadata": {},
   "outputs": [
    {
     "name": "stdout",
     "output_type": "stream",
     "text": [
      "{'_id': ObjectId('637c24dfeb03431529df16f1'), 'name': 'Richard', 'address': 'Sky st 331'}\n",
      "{'_id': ObjectId('637c24dfeb03431529df16f7'), 'name': 'Viola', 'address': 'Sideway 1633'}\n"
     ]
    }
   ],
   "source": [
    "import pymongo\n",
    "\n",
    "myclient = pymongo.MongoClient(\"mongodb://localhost:27017/\")\n",
    "mydb = myclient[\"mydatabase\"]\n",
    "mycol = mydb[\"customers\"]\n",
    "\n",
    "myquery = { \"address\": { \"$regex\": \"^S\" } }\n",
    "\n",
    "mydoc = mycol.find(myquery)\n",
    "\n",
    "for x in mydoc:\n",
    "  print(x)"
   ]
  },
  {
   "cell_type": "code",
   "execution_count": null,
   "id": "d28070e9",
   "metadata": {},
   "outputs": [],
   "source": []
  },
  {
   "cell_type": "markdown",
   "id": "ecc7db91",
   "metadata": {},
   "source": [
    "#### Sort\n",
    "    Use the sort() method to sort the result in ascending or descending order.\n",
    "\n",
    "    The sort() method takes one parameter for \"fieldname\" and one parameter for \"direction\" (ascending is the default )\n",
    "    direction).\n",
    "    \n",
    "    sort(\"name\", 1) #ascending\n",
    "    sort(\"name\", -1) #descending\n",
    "    \n",
    "    "
   ]
  },
  {
   "cell_type": "code",
   "execution_count": 31,
   "id": "29e62f24",
   "metadata": {},
   "outputs": [
    {
     "name": "stdout",
     "output_type": "stream",
     "text": [
      "{'_id': ObjectId('637c24dfeb03431529df16f5'), 'name': 'William', 'address': 'Central st 954'}\n",
      "{'_id': ObjectId('637c24dfeb03431529df16f7'), 'name': 'Viola', 'address': 'Sideway 1633'}\n",
      "{'_id': ObjectId('637c24dfeb03431529df16f3'), 'name': 'Vicky', 'address': 'Yellow Garden 2'}\n",
      "{'_id': ObjectId('637c24dfeb03431529df16f2'), 'name': 'Susan', 'address': 'One way 98'}\n",
      "{'_id': ObjectId('637c24dfeb03431529df16ef'), 'name': 'Sandy', 'address': 'Ocean blvd 2'}\n",
      "{'_id': ObjectId('637c24dfeb03431529df16f1'), 'name': 'Richard', 'address': 'Sky st 331'}\n",
      "{'_id': ObjectId('637c24dfeb03431529df16ee'), 'name': 'Michael', 'address': 'Valley 345'}\n",
      "{'_id': ObjectId('637c24a4eb03431529df16ea'), 'name': 'John', 'address': 'Highway 37'}\n",
      "{'_id': ObjectId('637c24dfeb03431529df16ed'), 'name': 'Hannah', 'address': 'Mountain 21'}\n",
      "{'_id': ObjectId('637c24dfeb03431529df16f6'), 'name': 'Chuck', 'address': 'Main Road 989'}\n",
      "{'_id': ObjectId('637c24dfeb03431529df16f0'), 'name': 'Betty', 'address': 'Green Grass 1'}\n",
      "{'_id': ObjectId('637c24dfeb03431529df16f4'), 'name': 'Ben', 'address': 'Park Lane 38'}\n",
      "{'_id': ObjectId('637c24dfeb03431529df16ec'), 'name': 'Amy', 'address': 'Apple st 652'}\n"
     ]
    }
   ],
   "source": [
    "import pymongo\n",
    "\n",
    "myclient = pymongo.MongoClient(\"mongodb://localhost:27017/\")\n",
    "mydb = myclient[\"mydatabase\"]\n",
    "mycol = mydb[\"customers\"]\n",
    "\n",
    "mydoc = mycol.find().sort(\"name\",-1)\n",
    "\n",
    "for x in mydoc:\n",
    "  print(x)"
   ]
  },
  {
   "cell_type": "code",
   "execution_count": null,
   "id": "a25a3a61",
   "metadata": {},
   "outputs": [],
   "source": []
  },
  {
   "cell_type": "markdown",
   "id": "070b1855",
   "metadata": {},
   "source": [
    "#### Delete Document\n",
    "\n",
    "        To delete one document, we use the delete_one() method.\n",
    "\n",
    "    The first parameter of the delete_one() method is a query object defining which document to delete.\n",
    "\n",
    "    **Note: If the query finds more than one document, only the first occurrence is deleted.**"
   ]
  },
  {
   "cell_type": "code",
   "execution_count": 32,
   "id": "a768e161",
   "metadata": {},
   "outputs": [
    {
     "data": {
      "text/plain": [
       "<pymongo.results.DeleteResult at 0x25077a7b9d0>"
      ]
     },
     "execution_count": 32,
     "metadata": {},
     "output_type": "execute_result"
    }
   ],
   "source": [
    "import pymongo\n",
    "\n",
    "myclient = pymongo.MongoClient(\"mongodb://localhost:27017/\")\n",
    "mydb = myclient[\"mydatabase\"]\n",
    "mycol = mydb[\"customers\"]\n",
    "\n",
    "myquery = { \"address\": \"Mountain 21\" }\n",
    "\n",
    "mycol.delete_one(myquery)"
   ]
  },
  {
   "cell_type": "code",
   "execution_count": 34,
   "id": "c46a7bc4",
   "metadata": {},
   "outputs": [
    {
     "name": "stdout",
     "output_type": "stream",
     "text": [
      "None\n"
     ]
    }
   ],
   "source": [
    "print(mycol.find_one(myquery))"
   ]
  },
  {
   "cell_type": "markdown",
   "id": "11de9ab9",
   "metadata": {},
   "source": [
    "#### Delete Many Documents\n",
    "\n",
    "    To delete more than one document, use the delete_many() method.\n",
    "\n",
    "    The first parameter of the delete_many() method is a query object defining which documents to delete."
   ]
  },
  {
   "cell_type": "code",
   "execution_count": 35,
   "id": "865dded8",
   "metadata": {},
   "outputs": [
    {
     "name": "stdout",
     "output_type": "stream",
     "text": [
      "{'_id': ObjectId('637c24a4eb03431529df16ea'), 'name': 'John', 'address': 'Highway 37'}\n",
      "{'_id': ObjectId('637c24dfeb03431529df16ec'), 'name': 'Amy', 'address': 'Apple st 652'}\n",
      "{'_id': ObjectId('637c24dfeb03431529df16ee'), 'name': 'Michael', 'address': 'Valley 345'}\n",
      "{'_id': ObjectId('637c24dfeb03431529df16ef'), 'name': 'Sandy', 'address': 'Ocean blvd 2'}\n",
      "{'_id': ObjectId('637c24dfeb03431529df16f0'), 'name': 'Betty', 'address': 'Green Grass 1'}\n",
      "{'_id': ObjectId('637c24dfeb03431529df16f2'), 'name': 'Susan', 'address': 'One way 98'}\n",
      "{'_id': ObjectId('637c24dfeb03431529df16f3'), 'name': 'Vicky', 'address': 'Yellow Garden 2'}\n",
      "{'_id': ObjectId('637c24dfeb03431529df16f4'), 'name': 'Ben', 'address': 'Park Lane 38'}\n",
      "{'_id': ObjectId('637c24dfeb03431529df16f5'), 'name': 'William', 'address': 'Central st 954'}\n",
      "{'_id': ObjectId('637c24dfeb03431529df16f6'), 'name': 'Chuck', 'address': 'Main Road 989'}\n"
     ]
    }
   ],
   "source": [
    "import pymongo\n",
    "\n",
    "myclient = pymongo.MongoClient(\"mongodb://localhost:27017/\")\n",
    "mydb = myclient[\"mydatabase\"]\n",
    "mycol = mydb[\"customers\"]\n",
    "\n",
    "myquery = { \"address\": { \"$regex\": \"^S\" } }\n",
    "\n",
    "mycol.delete_many(myquery)\n",
    "\n",
    "\n",
    "for data in mycol.find():\n",
    "    print(data)\n"
   ]
  },
  {
   "cell_type": "markdown",
   "id": "1fe36e80",
   "metadata": {},
   "source": [
    "### update One \n",
    "\n",
    "    to update one record , use update_one()"
   ]
  },
  {
   "cell_type": "code",
   "execution_count": 37,
   "id": "61fffd5e",
   "metadata": {},
   "outputs": [
    {
     "data": {
      "text/plain": [
       "['_BaseObject__codec_options',\n",
       " '_BaseObject__read_concern',\n",
       " '_BaseObject__read_preference',\n",
       " '_BaseObject__write_concern',\n",
       " '_Collection__create',\n",
       " '_Collection__create_indexes',\n",
       " '_Collection__database',\n",
       " '_Collection__find_and_modify',\n",
       " '_Collection__full_name',\n",
       " '_Collection__name',\n",
       " '_Collection__write_response_codec_options',\n",
       " '__bool__',\n",
       " '__call__',\n",
       " '__class__',\n",
       " '__class_getitem__',\n",
       " '__delattr__',\n",
       " '__dict__',\n",
       " '__dir__',\n",
       " '__doc__',\n",
       " '__eq__',\n",
       " '__format__',\n",
       " '__ge__',\n",
       " '__getattr__',\n",
       " '__getattribute__',\n",
       " '__getitem__',\n",
       " '__gt__',\n",
       " '__hash__',\n",
       " '__init__',\n",
       " '__init_subclass__',\n",
       " '__iter__',\n",
       " '__le__',\n",
       " '__lt__',\n",
       " '__module__',\n",
       " '__ne__',\n",
       " '__new__',\n",
       " '__next__',\n",
       " '__orig_bases__',\n",
       " '__parameters__',\n",
       " '__reduce__',\n",
       " '__reduce_ex__',\n",
       " '__repr__',\n",
       " '__setattr__',\n",
       " '__sizeof__',\n",
       " '__slots__',\n",
       " '__str__',\n",
       " '__subclasshook__',\n",
       " '__weakref__',\n",
       " '_aggregate',\n",
       " '_aggregate_one_result',\n",
       " '_command',\n",
       " '_count_cmd',\n",
       " '_delete',\n",
       " '_delete_retryable',\n",
       " '_insert_one',\n",
       " '_is_protocol',\n",
       " '_read_preference_for',\n",
       " '_retryable_non_cursor_read',\n",
       " '_socket_for_reads',\n",
       " '_socket_for_writes',\n",
       " '_timeout',\n",
       " '_update',\n",
       " '_update_retryable',\n",
       " '_write_concern_for',\n",
       " '_write_concern_for_cmd',\n",
       " 'aggregate',\n",
       " 'aggregate_raw_batches',\n",
       " 'bulk_write',\n",
       " 'codec_options',\n",
       " 'count_documents',\n",
       " 'create_index',\n",
       " 'create_indexes',\n",
       " 'database',\n",
       " 'delete_many',\n",
       " 'delete_one',\n",
       " 'distinct',\n",
       " 'drop',\n",
       " 'drop_index',\n",
       " 'drop_indexes',\n",
       " 'estimated_document_count',\n",
       " 'find',\n",
       " 'find_one',\n",
       " 'find_one_and_delete',\n",
       " 'find_one_and_replace',\n",
       " 'find_one_and_update',\n",
       " 'find_raw_batches',\n",
       " 'full_name',\n",
       " 'index_information',\n",
       " 'insert_many',\n",
       " 'insert_one',\n",
       " 'list_indexes',\n",
       " 'name',\n",
       " 'next',\n",
       " 'options',\n",
       " 'read_concern',\n",
       " 'read_preference',\n",
       " 'rename',\n",
       " 'replace_one',\n",
       " 'update_many',\n",
       " 'update_one',\n",
       " 'watch',\n",
       " 'with_options',\n",
       " 'write_concern']"
      ]
     },
     "execution_count": 37,
     "metadata": {},
     "output_type": "execute_result"
    }
   ],
   "source": [
    "dir(mycol)"
   ]
  },
  {
   "cell_type": "code",
   "execution_count": 45,
   "id": "d49e7ca6",
   "metadata": {},
   "outputs": [
    {
     "name": "stdout",
     "output_type": "stream",
     "text": [
      "<pymongo.results.UpdateResult object at 0x0000025077A7E520>\n",
      "{'_id': ObjectId('637c24a4eb03431529df16ea'), 'name': 'John', 'address': 'PO BOX0889'}\n",
      "{'_id': ObjectId('637c24dfeb03431529df16ec'), 'name': 'Amy', 'address': 'Apple st 652'}\n",
      "{'_id': ObjectId('637c24dfeb03431529df16ee'), 'name': 'Michael', 'address': 'Valley 345'}\n",
      "{'_id': ObjectId('637c24dfeb03431529df16ef'), 'name': 'Sandy', 'address': 'Ocean blvd 2'}\n",
      "{'_id': ObjectId('637c24dfeb03431529df16f0'), 'name': 'Betty', 'address': 'Green Grass 1'}\n",
      "{'_id': ObjectId('637c24dfeb03431529df16f2'), 'name': 'Susan', 'address': 'One way 98'}\n",
      "{'_id': ObjectId('637c24dfeb03431529df16f3'), 'name': 'Vicky', 'address': 'Yellow Garden 2'}\n",
      "{'_id': ObjectId('637c24dfeb03431529df16f4'), 'name': 'Kumar', 'address': 'HYD'}\n",
      "{'_id': ObjectId('637c24dfeb03431529df16f5'), 'name': 'William', 'address': 'Central st 954'}\n",
      "{'_id': ObjectId('637c24dfeb03431529df16f6'), 'name': 'Chuck', 'address': 'Main Road 989'}\n",
      "{'_id': ObjectId('637c287fb6a7accbabe077d4'), 'name': 'Rajani', 'address': 'PO BOX0889'}\n"
     ]
    }
   ],
   "source": [
    "import pymongo\n",
    "\n",
    "myclient = pymongo.MongoClient(\"mongodb://localhost:27017/\")\n",
    "mydb = myclient[\"mydatabase\"]\n",
    "mycol = mydb[\"customers\"]\n",
    "\n",
    "myquery = {\"name\":\"Ben\"},{\"$set\":{\"name\":\"Kumar\",\"address\":\"HYD\"}},{\"upsert\":True}\n",
    "response = mycol.update_one({\"name\":\"Rajani\"},{\"$set\":{\"address\":\"PO BOX0889\"}},upsert=True)\n",
    "\n",
    "print(response)\n",
    "\n",
    "for data in mycol.find():\n",
    "    print(data)"
   ]
  },
  {
   "cell_type": "code",
   "execution_count": null,
   "id": "d18f6aa7",
   "metadata": {},
   "outputs": [],
   "source": [
    "CRUD \n",
    "Create \n",
    "Read\n",
    "Update\n",
    "Delete."
   ]
  },
  {
   "cell_type": "code",
   "execution_count": null,
   "id": "ca23cfc9",
   "metadata": {},
   "outputs": [],
   "source": []
  },
  {
   "cell_type": "code",
   "execution_count": null,
   "id": "7ade94e6",
   "metadata": {},
   "outputs": [],
   "source": []
  }
 ],
 "metadata": {
  "kernelspec": {
   "display_name": "Python 3",
   "language": "python",
   "name": "python3"
  },
  "language_info": {
   "codemirror_mode": {
    "name": "ipython",
    "version": 3
   },
   "file_extension": ".py",
   "mimetype": "text/x-python",
   "name": "python",
   "nbconvert_exporter": "python",
   "pygments_lexer": "ipython3",
   "version": "3.8.8"
  }
 },
 "nbformat": 4,
 "nbformat_minor": 5
}
