{
 "cells": [
  {
   "cell_type": "markdown",
   "id": "edce18ff",
   "metadata": {},
   "source": [
    "### Tkinter\n"
   ]
  },
  {
   "cell_type": "markdown",
   "id": "84e658eb",
   "metadata": {},
   "source": [
    "Python offers multiple options for developing GUI (Graphical User Interface). \n",
    "- Out of all the GUI methods, tkinter is the most commonly used method. \n",
    "- It is a standard Python interface to the Tk GUI toolkit shipped with Python. \n",
    "- Python with tkinter is the fastest and easiest way to create the GUI applications."
   ]
  },
  {
   "cell_type": "markdown",
   "id": "ffc9e240",
   "metadata": {},
   "source": [
    "#### To create a tkinter app:\n",
    "\n",
    "- 1.Importing the module – tkinter\n",
    "- 2.Create the main window (container)\n",
    "- 3.Add any number of widgets to the main window\n",
    "- 4.Apply the event Trigger on the widgets."
   ]
  },
  {
   "cell_type": "markdown",
   "id": "31d6398a",
   "metadata": {},
   "source": [
    "1.import tkinter\n",
    "\n",
    " - There are two main methods used which the user needs to remember while creating the Python application with GUI.\n",
    "\n",
    "- 1.Tk(screenName=None,  baseName=None,  className=’Tk’,  useTk=1): To create a main window, tkinter offers a method ‘Tk(screenName=None,  baseName=None,  className=’Tk’,  useTk=1)’. To change the name of the window, you can change the className to the desired one. The basic code used to create the main window of the application is:\n",
    "\n",
    "   m=tkinter.Tk() where m is the name of the main window object\n",
    "\n",
    "- 2 .mainloop(): There is a method known by the name mainloop() is used when your application is ready to run. mainloop() is an infinite loop used to run the application, wait for an event to occur and process the event as long as the window is not closed.\n",
    "   m.mainloop()\n",
    "\n",
    "\n",
    "\n",
    "tkinter also offers access to the geometric configuration of the widgets which can organize the widgets in the parent windows. There are mainly three geometry manager classes class.\n",
    "\n",
    "- pack() method:It organizes the widgets in blocks before placing in the parent widget.\n",
    "- grid() method:It organizes the widgets in grid (table-like structure) before placing in the parent widget.\n",
    "- place() method:It organizes the widgets by placing them on specific positions directed by the programmer.\n",
    "\n"
   ]
  },
  {
   "cell_type": "code",
   "execution_count": 2,
   "id": "27927692",
   "metadata": {},
   "outputs": [],
   "source": [
    "import tkinter\n",
    "from tkinter import *"
   ]
  },
  {
   "cell_type": "code",
   "execution_count": 12,
   "id": "ecc42ad4",
   "metadata": {},
   "outputs": [
    {
     "data": {
      "text/plain": [
       "''"
      ]
     },
     "execution_count": 12,
     "metadata": {},
     "output_type": "execute_result"
    }
   ],
   "source": [
    "root = tkinter . Tk()\n",
    "root.title(\"DEMO GUI\")\n",
    "root.geometry(\"600x600\")"
   ]
  },
  {
   "cell_type": "code",
   "execution_count": 13,
   "id": "e70883d8",
   "metadata": {},
   "outputs": [],
   "source": [
    "root.mainloop()"
   ]
  },
  {
   "cell_type": "markdown",
   "id": "3ed3d9a1",
   "metadata": {},
   "source": [
    "#### Label\n",
    "Label: It refers to the display box where you can put any text or image which can be updated any time as per the code.\n",
    "The general syntax is:\n",
    "- w=Label(master, option=value)\n",
    "master is the parameter used to represent the parent window.\n",
    "There are number of options which are used to change the format of the widget. Number of options can be passed as parameters separated by commas. Some of them are listed below.\n",
    "\n",
    "- bg: to set he normal background color.\n",
    "- command: to call a function.\n",
    "- font: to set the font on the button label.\n",
    "- image: to set the image on the button.\n",
    "- width: to set the width of the button.\n",
    "- height” to set the height of the button."
   ]
  },
  {
   "cell_type": "raw",
   "id": "1741eaaf",
   "metadata": {},
   "source": [
    "#Label\n",
    "#Button\n",
    "#Radiobutton\n",
    "#Entry\n",
    "#Combobox\n",
    "#ScrolledText\n",
    "#TextArea"
   ]
  },
  {
   "cell_type": "code",
   "execution_count": 1,
   "id": "ef52014a",
   "metadata": {},
   "outputs": [],
   "source": [
    "#useful links\n",
    "# https://www.geeksforgeeks.org/python-gui-tkinter/"
   ]
  },
  {
   "cell_type": "code",
   "execution_count": null,
   "id": "6a01a916",
   "metadata": {},
   "outputs": [],
   "source": []
  }
 ],
 "metadata": {
  "kernelspec": {
   "display_name": "Python 3",
   "language": "python",
   "name": "python3"
  },
  "language_info": {
   "codemirror_mode": {
    "name": "ipython",
    "version": 3
   },
   "file_extension": ".py",
   "mimetype": "text/x-python",
   "name": "python",
   "nbconvert_exporter": "python",
   "pygments_lexer": "ipython3",
   "version": "3.8.8"
  }
 },
 "nbformat": 4,
 "nbformat_minor": 5
}
