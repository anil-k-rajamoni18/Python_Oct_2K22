{
 "cells": [
  {
   "cell_type": "markdown",
   "metadata": {},
   "source": [
    "### What is Cloud?\n",
    "\n",
    "\n",
    "- \"The cloud\" refers to servers that are accessed over the Internet, and the software and databases that run on those servers. \n",
    "\n",
    "- Cloud servers are located in data centers all over the world. By using cloud computing, users and companies don't have to manage physical servers themselves or run software applications on their own machines.\n",
    "<img src = \"https://images.ctfassets.net/slt3lc6tev37/3YT0gya2bkUeuMrnGxhjAZ/4146c20c214cf001c74c0868ddfb9503/what-is-the-cloud.png\">\n",
    "\n",
    "\n",
    "<img src =\" https://www.cloudflare.com/img/learning/serverless/glossary/platform-as-a-service-paas/saas-paas-iaas-diagram.svg\">"
   ]
  },
  {
   "cell_type": "markdown",
   "metadata": {},
   "source": [
    "### Cloud Providers\n",
    "\n",
    "- Amazon Web Services (AWS)\n",
    "- Microsoft Azure.\n",
    "- Google Cloud.\n",
    "- Alibaba Cloud.\n",
    "- IBM Cloud.\n",
    "- Oracle.\n",
    "- Salesforce.\n",
    "- SAP."
   ]
  },
  {
   "cell_type": "markdown",
   "metadata": {},
   "source": [
    "### What is Server?\n",
    "\n",
    "###### A server is a computer that serves information to other computers. These computers, called clients, can connect to a server through either a local area network or a wide area network, such as the internet. A server is a vital piece of your IT infrastructure.\n",
    "\n",
    "\n",
    "##### What does a server do?\n",
    "A server collects and sends information across a network. That can be a local network, like your business network, or a wider network across multiple locations.\n",
    "\n",
    "Any computer running the right software can be a server. Although when we hear the word server we think of enormous, high-powered machines that push and pull data across the web.\n"
   ]
  },
  {
   "cell_type": "markdown",
   "metadata": {},
   "source": [
    "### what is local host?\n",
    "\n",
    "This term is generally used in the context of networks. Localhost is not just the name for the virtual server but it is also its domain name. Just like .example, .test, or .invalid, ., .localhost is a top-level domain reserved for documentation and testing purposes. While accessing the domain, a loopback is triggered. If you access “http://localhost” in the browser, the request will not be forwarded to the internet through the router. It will instead remain in your own system. Localhost has the IP address 127.0.0.1. This refers back to your own server.\n",
    "\n",
    "\n",
    "- For Testing Purposes – \n",
    "- To block websites – "
   ]
  },
  {
   "cell_type": "markdown",
   "metadata": {},
   "source": [
    "### What is Heroku and Use of Heroku?\n",
    "Heroku is a container-based cloud Platform as a Service (PaaS). Developers use Heroku to deploy, manage, and scale modern apps.\n",
    "- Our platform is elegant, flexible, and easy to use, offering developers the simplest path to getting their apps to market.\n",
    "\n",
    "\n",
    "\n",
    "\n",
    "- Heroku is a cloud-based platform. It offers Platform as a service (PaaS) product. Heroku is based on AWS and its services are simpler to use than Elastic Compute Cloud.\n",
    "\n",
    "\n",
    "<a  href = \"https://www.heroku.com/\"> Direct to this Link For More Information on Heroku and Account Creation</a>"
   ]
  },
  {
   "cell_type": "markdown",
   "metadata": {},
   "source": [
    "### Steps to run the Python  - Flask Project in Local Machine\n",
    "\n",
    "1. Download or Clone the Project \n",
    "\n",
    "    __git clone project-url__\n",
    "    \n",
    "    \n",
    "\n",
    "2. Change the Path to Project \n",
    "\n",
    "    __cd /projectname__\n",
    "       \n",
    "       \n",
    "       \n",
    "3. Install the Enivronment for the Project (Separate Execution Space)\n",
    "\n",
    "    __python -m venv name-of-environment__\n",
    "    \n",
    "    \n",
    "    \n",
    "4. Activate the Created Environment\n",
    "\n",
    "    __.\\name-of-env\\Scripts\\activate__\n",
    "    \n",
    "    \n",
    "5. Install the Packaged or libraries from requirements.txt File\n",
    "    \n",
    "    __pip install -r requirements.txt__\n",
    "    \n",
    "6. Run the Project or Program\n",
    "\n",
    "    __python app.py__"
   ]
  },
  {
   "cell_type": "markdown",
   "metadata": {},
   "source": [
    "### Steps to Deploy Project on Heroku\n",
    "\n",
    "##### Make sure  the project or webapp is executing without any bugs on local machine before pushing the code.\n",
    "\n",
    "\n",
    "- Open Command Prompt , Go to the Project Floder\n",
    "\n",
    "1. Create a requirements.txt file using pip freeze command\n",
    "\n",
    "    __pip freeze > requirements.txt__\n",
    "    \n",
    "    \n",
    "\n",
    "2. Create A Profile for Project Setting\n",
    "    \n",
    "       filename:Profile\n",
    "       \n",
    "       web: gunicorn app:app\n",
    "\n",
    "       \n",
    "      \n",
    "3. Create A Web App On Heroku Website\n",
    "\n",
    "\n",
    "4. Open Gitbash Tool in Project Floder\n",
    "Type the Following commands\n",
    "\n",
    "    - cd my-project/\n",
    "    - git init\n",
    "    - heroku git:remote -a car-prediction-flaskwebapp\n",
    "    - git add .\n",
    "    - git commit -am \"make it better\"\n",
    "    - git push heroku master"
   ]
  },
  {
   "cell_type": "code",
   "execution_count": null,
   "metadata": {},
   "outputs": [],
   "source": []
  }
 ],
 "metadata": {
  "kernelspec": {
   "display_name": "Python 3",
   "language": "python",
   "name": "python3"
  },
  "language_info": {
   "codemirror_mode": {
    "name": "ipython",
    "version": 3
   },
   "file_extension": ".py",
   "mimetype": "text/x-python",
   "name": "python",
   "nbconvert_exporter": "python",
   "pygments_lexer": "ipython3",
   "version": "3.8.8"
  }
 },
 "nbformat": 4,
 "nbformat_minor": 4
}
