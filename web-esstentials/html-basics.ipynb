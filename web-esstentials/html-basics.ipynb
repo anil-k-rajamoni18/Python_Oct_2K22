{
 "cells": [
  {
   "cell_type": "markdown",
   "id": "bb99259f",
   "metadata": {},
   "source": [
    "### What is HTML?\n",
    "\n",
    "    - HTML stands for Hyper Text Markup Language\n",
    "    - HTML is the standard markup language for creating Web pages\n",
    "    - HTML describes the structure of a Web page\n",
    "    - HTML consists of a series of elements\n",
    "    - HTML elements tell the browser how to display the content\n",
    "    - HTML elements label pieces of content such as \"this is a heading\", \"this is a paragraph\", \"this is a link\", etc."
   ]
  },
  {
   "cell_type": "code",
   "execution_count": null,
   "id": "35678b57",
   "metadata": {},
   "outputs": [],
   "source": [
    "<!DOCTYPE html>\n",
    "<html>\n",
    "<head>\n",
    "<title>Page Title</title>\n",
    "</head>\n",
    "<body>\n",
    "\n",
    "<h1>My First Heading</h1>\n",
    "<p>My first paragraph.</p>\n",
    "\n",
    "</body>\n",
    "</html>"
   ]
  },
  {
   "cell_type": "code",
   "execution_count": null,
   "id": "289a8fe7",
   "metadata": {},
   "outputs": [],
   "source": []
  },
  {
   "cell_type": "code",
   "execution_count": null,
   "id": "559ff3c6",
   "metadata": {},
   "outputs": [],
   "source": [
    "The <!DOCTYPE html> declaration defines that this document is an HTML5 document\n",
    "\n",
    "The <html> element is the root element of an HTML page\n",
    "\n",
    "The <head> element contains meta information about the HTML page\n",
    "\n",
    "The <title> element specifies a title for the HTML page (which is shown in the browser's title bar or in the page's tab)\n",
    "\n",
    "The <body> element defines the document's body, and is a container for all the visible contents, such as headings, paragraphs, images, hyperlinks, tables, lists, etc.\n",
    "\n",
    "The <h1> element defines a large heading\n",
    "\n",
    "The <p> element defines a paragraph"
   ]
  },
  {
   "cell_type": "markdown",
   "id": "8b9815fc",
   "metadata": {},
   "source": [
    "### What is an HTML Element?\n",
    "  > An HTML element is defined by a start tag, some content, and an end tag\n",
    "    \n",
    "    <tagname> Content goes here... </tagname>\n",
    "    \n",
    "    The HTML element is everything from the start tag to the end tag:\n",
    "    \n",
    "    <h1>My First Heading</h1>\n",
    "    \n",
    "    <p>My first paragraph.</p>\n",
    "    \n",
    "    \n",
    "  ######  Note: \n",
    "      Some HTML elements have no content (like the <br> element). These elements are called empty elements. Empty elements do not have an end tag!\n",
    "      \n",
    "     The content inside the <body> section (the white area above) will be displayed in a browser. The content inside the <title> element will be shown in the browser's title bar or in the page's tab.\n",
    "     \n",
    "     \n",
    " ### Struture \n",
    " \n",
    " <img src=\"https://i.imgur.com/Zk2LSU4.png\">"
   ]
  },
  {
   "cell_type": "markdown",
   "id": "258974db",
   "metadata": {},
   "source": [
    "### HTML Documents\n",
    "    \n",
    "    All HTML documents must start with a document type declaration: <!DOCTYPE html>.\n",
    "\n",
    "    The HTML document itself begins with <html> and ends with </html>.\n",
    "\n",
    "    The visible part of the HTML document is between <body> and </body>.\n",
    "\n",
    "##### <!DOCTYPE> Declaration\n",
    "    \n",
    "    The <!DOCTYPE> declaration represents the document type, and helps browsers to display web pages correctly.\n",
    "\n",
    "    It must only appear once, at the top of the page (before any HTML tags).\n",
    "\n",
    "    The <!DOCTYPE> declaration is not case sensitive.\n",
    "\n",
    "    The <!DOCTYPE> declaration for HTML5 is:"
   ]
  },
  {
   "cell_type": "markdown",
   "id": "f8fbf5d9",
   "metadata": {},
   "source": [
    "### Most used tags \n",
    "\n",
    "##### HTML Headings\n",
    "        HTML headings are defined with the <h1> to <h6> tags.\n",
    "\n",
    "        <h1> defines the most important heading.\n",
    "        <h6> defines the least important heading: \n",
    "        \n",
    "        "
   ]
  },
  {
   "cell_type": "markdown",
   "id": "f5e266a8",
   "metadata": {},
   "source": [
    "<h1>This is heading 1</h1>\n",
    "<h2>This is heading 2</h2>\n",
    "<h3>This is heading 3</h3>"
   ]
  },
  {
   "cell_type": "code",
   "execution_count": null,
   "id": "5cf143d3",
   "metadata": {},
   "outputs": [],
   "source": []
  },
  {
   "cell_type": "markdown",
   "id": "97d82f3f",
   "metadata": {},
   "source": [
    "##### HTML Paragraphs\n",
    "    HTML paragraphs are defined with the <p> tag:\n",
    "    "
   ]
  },
  {
   "cell_type": "code",
   "execution_count": null,
   "id": "cd7e3822",
   "metadata": {},
   "outputs": [],
   "source": [
    "<p>This is a paragraph.</p>\n",
    "<p>This is another paragraph.</p>"
   ]
  },
  {
   "cell_type": "code",
   "execution_count": null,
   "id": "9467e756",
   "metadata": {},
   "outputs": [],
   "source": []
  },
  {
   "cell_type": "markdown",
   "id": "1ff6f538",
   "metadata": {},
   "source": [
    "#### HTML Links\n",
    "    HTML links are defined with the <a> tag:\n",
    "    \n",
    "    <a href=\"https://www.w3schools.com\">This is a link</a>\n",
    "    \n",
    "    The link's destination is specified in the href attribute. \n",
    "    \n",
    "    "
   ]
  },
  {
   "cell_type": "code",
   "execution_count": null,
   "id": "ad3693a9",
   "metadata": {},
   "outputs": [],
   "source": [
    "<a href=\"https://www.w3schools.com\">This is a link</a>"
   ]
  },
  {
   "cell_type": "code",
   "execution_count": null,
   "id": "3e1f0604",
   "metadata": {},
   "outputs": [],
   "source": []
  },
  {
   "cell_type": "markdown",
   "id": "5027aa76",
   "metadata": {},
   "source": [
    "#### HTML Images\n",
    "\n",
    "    HTML images are defined with the <img> tag.\n",
    "\n",
    "    The source file (src), alternative text (alt), width, and height are provided as attributes\n",
    "    "
   ]
  },
  {
   "cell_type": "code",
   "execution_count": null,
   "id": "842b26b4",
   "metadata": {},
   "outputs": [],
   "source": [
    "<img src=\"w3schools.jpg\" alt=\"W3Schools.com\" width=\"104\" height=\"142\">\n"
   ]
  },
  {
   "cell_type": "code",
   "execution_count": null,
   "id": "f756bb67",
   "metadata": {},
   "outputs": [],
   "source": []
  },
  {
   "cell_type": "markdown",
   "id": "f39aaec4",
   "metadata": {},
   "source": [
    "### NOTE:\n",
    "        HTML tags are not case sensitive: <P> means the same as <p>.\n",
    "\n",
    "        The HTML standard does not require lowercase tags, but W3C recommends lowercase in HTML, and demands lowercase for stricter document types like XHTML.\n",
    "        \n"
   ]
  },
  {
   "cell_type": "markdown",
   "id": "e727f0a0",
   "metadata": {},
   "source": [
    "### HTML Attributes\n",
    "    All HTML elements can have attributes\n",
    "    Attributes provide additional information about elements\n",
    "    Attributes are always specified in the start tag\n",
    "    Attributes usually come in name/value pairs like: name=\"value\""
   ]
  },
  {
   "cell_type": "code",
   "execution_count": null,
   "id": "cb8281f7",
   "metadata": {},
   "outputs": [],
   "source": [
    "The <a> tag defines a hyperlink. The href attribute specifies the URL of the page the link goes to:\n",
    "    \n",
    "<a href=\"https://www.w3schools.com\">Visit W3Schools</a>    \n",
    "\n",
    "href\n",
    "target\n"
   ]
  },
  {
   "cell_type": "code",
   "execution_count": null,
   "id": "7321482b",
   "metadata": {},
   "outputs": [],
   "source": []
  },
  {
   "cell_type": "code",
   "execution_count": null,
   "id": "cc7044db",
   "metadata": {},
   "outputs": [],
   "source": [
    "The <img> tag is used to embed an image in an HTML page. The src attribute specifies the path to the image to be displayed:\n",
    "    \n",
    "<img src=\"img_girl.jpg\">\n",
    "\n",
    "alt\n",
    "height\n",
    "width"
   ]
  },
  {
   "cell_type": "code",
   "execution_count": null,
   "id": "7d1e0eba",
   "metadata": {},
   "outputs": [],
   "source": []
  },
  {
   "cell_type": "markdown",
   "id": "bd76c010",
   "metadata": {},
   "source": [
    "<p style=\"color:red;\">This is a red paragraph.</p>"
   ]
  },
  {
   "cell_type": "code",
   "execution_count": null,
   "id": "001d719e",
   "metadata": {},
   "outputs": [],
   "source": []
  },
  {
   "cell_type": "markdown",
   "id": "7431ea35",
   "metadata": {},
   "source": [
    "<p title=\"I'm a tooltip\">This is a paragraph.</p>"
   ]
  },
  {
   "cell_type": "code",
   "execution_count": null,
   "id": "a007e3cb",
   "metadata": {},
   "outputs": [],
   "source": []
  },
  {
   "cell_type": "markdown",
   "id": "f84a276a",
   "metadata": {},
   "source": [
    "### most used tags \n",
    "    \n",
    "    <h1> content </h1> .... <h6> .. </h6>\n",
    "    \n",
    "    \n",
    "    <p>This is a paragraph.</p>\n",
    "    \n",
    "    \n",
    "<!-- bold  and italic-->\n",
    "\n",
    "    <b>Hello</b>\n",
    "\n",
    "    <i> hello</i>\n",
    "\n",
    "    <legend> Python</legend>\n",
    "\n",
    "    <h1>The mark element</h1>\n",
    "\n",
    "    <p>Do not forget to buy <mark>milk</mark> today.</p>\n",
    "\n",
    "    <small>Java <u>programming</u></small>\n",
    "\n",
    "    <strike>HTML Markup </strike>\n",
    "    \n",
    "    \n",
    "    \n",
    "    <a href=\"https://www.wired.com/\" target=\"_blank\"> Click here</a>\n",
    "\n",
    "     \n",
    "     <img src=\"https://images.unsplash.com/photo-1669114415713-4afe08f367b5?ixlib=rb-4.0.3&ixid=MnwxMjA3fDB8MHxwaG90by1wYWdlfHx8fGVufDB8fHx8&auto=format&fit=crop&w=699&q=80\" height=\"200\" width=\"400\" alt=\"sorry couldn't load\">\n",
    "     \n",
    "     \n",
    "     <ol> \n",
    "      <li>Item1</li>\n",
    "      <li>Item2</li>\n",
    "    </ol>\n",
    "    \n",
    "    \n",
    "    <ul>\n",
    "      <li>Item1</li>\n",
    "      <li>Item2</li>\n",
    "    </ul>\n",
    "\n",
    "\n",
    "\n",
    "\n"
   ]
  },
  {
   "cell_type": "code",
   "execution_count": null,
   "id": "be44b347",
   "metadata": {},
   "outputs": [],
   "source": []
  },
  {
   "cell_type": "markdown",
   "id": "a33f27e5",
   "metadata": {},
   "source": [
    "### input tags\n",
    "\n",
    "    Here are the different input types you can use in HTML:\n",
    "\n",
    "    <input type=\"button\">\n",
    "    <input type=\"checkbox\">\n",
    "    <input type=\"color\">\n",
    "    <input type=\"date\">\n",
    "    <input type=\"datetime-local\">\n",
    "    <input type=\"email\">\n",
    "    <input type=\"file\">\n",
    "    <input type=\"hidden\">\n",
    "    <input type=\"image\">\n",
    "    <input type=\"month\">\n",
    "    <input type=\"number\">\n",
    "    <input type=\"password\">\n",
    "    <input type=\"radio\">\n",
    "    <input type=\"range\">\n",
    "    <input type=\"reset\">\n",
    "    <input type=\"search\">\n",
    "    <input type=\"submit\">\n",
    "    <input type=\"tel\">\n",
    "    <input type=\"text\">\n",
    "    <input type=\"time\">\n",
    "    <input type=\"url\">\n",
    "    <input type=\"week\">\n"
   ]
  },
  {
   "cell_type": "code",
   "execution_count": null,
   "id": "4875e61d",
   "metadata": {},
   "outputs": [],
   "source": []
  },
  {
   "cell_type": "markdown",
   "id": "afba8f19",
   "metadata": {},
   "source": [
    "### What is CSS & Types?\n",
    "        Cascading Style Sheets (CSS) is used to format the layout of a webpage.\n",
    "\n",
    "        With CSS, you can control the color, font, the size of text, the spacing between elements, how elements are positioned and laid out, what background images or background colors are to be used, different displays for different devices and screen sizes, and much more!\n",
    "        \n",
    "        CSS can be added to HTML documents in 3 ways:\n",
    "\n",
    "        Inline - by using the style attribute inside HTML elements\n",
    "        Internal - by using a <style> element in the <head> section\n",
    "        External - by using a <link> element to link to an external CSS file\n",
    "        \n",
    "        \n",
    "        "
   ]
  },
  {
   "cell_type": "code",
   "execution_count": null,
   "id": "a4913acc",
   "metadata": {},
   "outputs": [],
   "source": [
    "<h1 style=\"color:blue;\">A Blue Heading</h1>\n",
    "\n",
    "<p style=\"color:red;\">A red paragraph.</p>"
   ]
  },
  {
   "cell_type": "code",
   "execution_count": null,
   "id": "66395aeb",
   "metadata": {},
   "outputs": [],
   "source": []
  },
  {
   "cell_type": "code",
   "execution_count": null,
   "id": "3e86b872",
   "metadata": {},
   "outputs": [],
   "source": [
    "<!DOCTYPE html>\n",
    "<html>\n",
    "<head>\n",
    "<style>\n",
    "body {background-color: powderblue;}\n",
    "h1   {color: blue;}\n",
    "p    {color: red;}\n",
    "</style>\n",
    "</head>\n",
    "<body>\n",
    "\n",
    "<h1>This is a heading</h1>\n",
    "<p>This is a paragraph.</p>\n",
    "\n",
    "</body>\n",
    "</html>"
   ]
  },
  {
   "cell_type": "code",
   "execution_count": null,
   "id": "c7e261c7",
   "metadata": {},
   "outputs": [],
   "source": []
  },
  {
   "cell_type": "code",
   "execution_count": null,
   "id": "d05512f4",
   "metadata": {},
   "outputs": [],
   "source": [
    "\"styles.css\":\n",
    "body {\n",
    "  background-color: powderblue;\n",
    "}\n",
    "h1 {\n",
    "  color: blue;\n",
    "}\n",
    "p {\n",
    "  color: red;\n",
    "}"
   ]
  },
  {
   "cell_type": "code",
   "execution_count": null,
   "id": "6c25d570",
   "metadata": {},
   "outputs": [],
   "source": [
    "<!DOCTYPE html>\n",
    "<html>\n",
    "<head>\n",
    "  <link rel=\"stylesheet\" href=\"styles.css\">\n",
    "</head>\n",
    "<body>\n",
    "\n",
    "<h1>This is a heading</h1>\n",
    "<p>This is a paragraph.</p>\n",
    "\n",
    "</body>\n",
    "</html>"
   ]
  },
  {
   "cell_type": "code",
   "execution_count": null,
   "id": "6850daa0",
   "metadata": {},
   "outputs": [],
   "source": []
  },
  {
   "cell_type": "markdown",
   "id": "d5739994",
   "metadata": {},
   "source": [
    "### JavaScript with HTML ?\n",
    "    JavaScript makes HTML pages more dynamic and interactive.\n",
    "    \n",
    "    The HTML <script> tag is used to define a client-side script (JavaScript).\n",
    "\n",
    "    The <script> element either contains script statements, or it points to an external script file through the src attribute.\n",
    "\n",
    "    Common uses for JavaScript are image manipulation, form validation, and dynamic changes of content.\n",
    "\n",
    "    To select an HTML element, JavaScript most often uses the document.getElementById() method.\n",
    "\n",
    "    This JavaScript example writes \"Hello JavaScript!\" into an HTML element with id=\"demo\":\n"
   ]
  },
  {
   "cell_type": "code",
   "execution_count": null,
   "id": "cd2623ae",
   "metadata": {},
   "outputs": [],
   "source": [
    "<!DOCTYPE html>\n",
    "<html>\n",
    "<body>\n",
    "\n",
    "<h1>My First JavaScript</h1>\n",
    "\n",
    "<button type=\"button\"\n",
    "onclick=\"document.getElementById('demo').innerHTML = Date()\">\n",
    "Click me to display Date and Time.</button>\n",
    "\n",
    "<p id=\"demo\"></p>\n",
    "\n",
    "</body>\n",
    "</html> \n"
   ]
  },
  {
   "cell_type": "code",
   "execution_count": null,
   "id": "2b411792",
   "metadata": {},
   "outputs": [],
   "source": [
    "<!DOCTYPE html>\n",
    "<html>\n",
    "<body>\n",
    "\n",
    "<h2>Use JavaScript to Change Text</h2>\n",
    "<p>This example writes \"Hello JavaScript!\" into an HTML element with id=\"demo\":</p>\n",
    "\n",
    "<p id=\"demo\"></p>\n",
    "\n",
    "<script>\n",
    "document.getElementById(\"demo\").innerHTML = \"Hello JavaScript!\";\n",
    "</script> \n",
    "\n",
    "</body>\n",
    "</html>"
   ]
  },
  {
   "cell_type": "code",
   "execution_count": null,
   "id": "c27a0e93",
   "metadata": {},
   "outputs": [],
   "source": []
  },
  {
   "cell_type": "code",
   "execution_count": null,
   "id": "5b977ca6",
   "metadata": {},
   "outputs": [],
   "source": [
    "<!DOCTYPE html>\n",
    "<html>\n",
    "<body>\n",
    "\n",
    "<h1>My First JavaScript</h1>\n",
    "\n",
    "<p id=\"demo\">JavaScript can change the style of an HTML element.</p>\n",
    "\n",
    "<script>\n",
    "function myFunction() {\n",
    "  document.getElementById(\"demo\").style.fontSize = \"25px\"; \n",
    "  document.getElementById(\"demo\").style.color = \"red\";\n",
    "  document.getElementById(\"demo\").style.backgroundColor = \"yellow\";        \n",
    "}\n",
    "</script>\n",
    "\n",
    "<button type=\"button\" onclick=\"myFunction()\">Click Me!</button>\n",
    "\n",
    "</body>\n",
    "</html>"
   ]
  },
  {
   "cell_type": "code",
   "execution_count": null,
   "id": "ad292882",
   "metadata": {},
   "outputs": [],
   "source": []
  },
  {
   "cell_type": "markdown",
   "id": "1696389f",
   "metadata": {},
   "source": [
    "<!DOCTYPE html>\n",
    "<html>\n",
    "<body>\n",
    "\n",
    "<h1>My First JavaScript</h1>\n",
    "<p>Here, a JavaScript changes the value of the src (source) attribute of an image.</p>\n",
    "\n",
    "<script>\n",
    "function light(sw) {\n",
    "  var pic;\n",
    "  if (sw == 0) {\n",
    "    pic = \"https://www.w3schools.com/html/pic_bulboff.gif\"\n",
    "  } else {\n",
    "    pic = \"https://www.w3schools.com/html/pic_bulbon.gif\"\n",
    "  }\n",
    "  document.getElementById('myImage').src = pic;\n",
    "}\n",
    "</script>\n",
    "\n",
    "<img id=\"myImage\" src=\"pic_bulboff.gif\" width=\"100\" height=\"180\">\n",
    "\n",
    "<p>\n",
    "<button type=\"button\" onclick=\"light(1)\">Light On</button>\n",
    "<button type=\"button\" onclick=\"light(0)\">Light Off</button>\n",
    "</p>\n",
    "\n",
    "</body>\n",
    "</html>\n"
   ]
  },
  {
   "cell_type": "code",
   "execution_count": null,
   "id": "149c52db",
   "metadata": {},
   "outputs": [],
   "source": []
  }
 ],
 "metadata": {
  "kernelspec": {
   "display_name": "Python 3",
   "language": "python",
   "name": "python3"
  },
  "language_info": {
   "codemirror_mode": {
    "name": "ipython",
    "version": 3
   },
   "file_extension": ".py",
   "mimetype": "text/x-python",
   "name": "python",
   "nbconvert_exporter": "python",
   "pygments_lexer": "ipython3",
   "version": "3.8.8"
  }
 },
 "nbformat": 4,
 "nbformat_minor": 5
}
