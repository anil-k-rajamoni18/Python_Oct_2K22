{
 "cells": [
  {
   "cell_type": "markdown",
   "id": "bb99259f",
   "metadata": {},
   "source": [
    "### What is HTML?\n",
    "\n",
    "    - HTML stands for Hyper Text Markup Language\n",
    "    - HTML is the standard markup language for creating Web pages\n",
    "    - HTML describes the structure of a Web page\n",
    "    - HTML consists of a series of elements\n",
    "    - HTML elements tell the browser how to display the content\n",
    "    - HTML elements label pieces of content such as \"this is a heading\", \"this is a paragraph\", \"this is a link\", etc."
   ]
  },
  {
   "cell_type": "code",
   "execution_count": null,
   "id": "35678b57",
   "metadata": {},
   "outputs": [],
   "source": [
    "<!DOCTYPE html>\n",
    "<html>\n",
    "<head>\n",
    "<title>Page Title</title>\n",
    "</head>\n",
    "<body>\n",
    "\n",
    "<h1>My First Heading</h1>\n",
    "<p>My first paragraph.</p>\n",
    "\n",
    "</body>\n",
    "</html>"
   ]
  },
  {
   "cell_type": "code",
   "execution_count": null,
   "id": "289a8fe7",
   "metadata": {},
   "outputs": [],
   "source": []
  },
  {
   "cell_type": "code",
   "execution_count": null,
   "id": "559ff3c6",
   "metadata": {},
   "outputs": [],
   "source": [
    "The <!DOCTYPE html> declaration defines that this document is an HTML5 document\n",
    "\n",
    "The <html> element is the root element of an HTML page\n",
    "\n",
    "The <head> element contains meta information about the HTML page\n",
    "\n",
    "The <title> element specifies a title for the HTML page (which is shown in the browser's title bar or in the page's tab)\n",
    "\n",
    "The <body> element defines the document's body, and is a container for all the visible contents, such as headings, paragraphs, images, hyperlinks, tables, lists, etc.\n",
    "\n",
    "The <h1> element defines a large heading\n",
    "\n",
    "The <p> element defines a paragraph"
   ]
  },
  {
   "cell_type": "markdown",
   "id": "8b9815fc",
   "metadata": {},
   "source": [
    "### What is an HTML Element?\n",
    "  > An HTML element is defined by a start tag, some content, and an end tag\n",
    "    \n",
    "    <tagname> Content goes here... </tagname>\n",
    "    \n",
    "    The HTML element is everything from the start tag to the end tag:\n",
    "    \n",
    "    <h1>My First Heading</h1>\n",
    "    \n",
    "    <p>My first paragraph.</p>\n",
    "    \n",
    "    \n",
    "  ######  Note: \n",
    "      Some HTML elements have no content (like the <br> element). These elements are called empty elements. Empty elements do not have an end tag!\n",
    "      \n",
    "     The content inside the <body> section (the white area above) will be displayed in a browser. The content inside the <title> element will be shown in the browser's title bar or in the page's tab.\n",
    "     \n",
    "     \n",
    " ### Struture \n",
    " \n",
    " <img src=\"https://i.imgur.com/Zk2LSU4.png\">"
   ]
  },
  {
   "cell_type": "markdown",
   "id": "258974db",
   "metadata": {},
   "source": [
    "### HTML Documents\n",
    "    \n",
    "    All HTML documents must start with a document type declaration: <!DOCTYPE html>.\n",
    "\n",
    "    The HTML document itself begins with <html> and ends with </html>.\n",
    "\n",
    "    The visible part of the HTML document is between <body> and </body>.\n",
    "\n",
    "##### <!DOCTYPE> Declaration\n",
    "    \n",
    "    The <!DOCTYPE> declaration represents the document type, and helps browsers to display web pages correctly.\n",
    "\n",
    "    It must only appear once, at the top of the page (before any HTML tags).\n",
    "\n",
    "    The <!DOCTYPE> declaration is not case sensitive.\n",
    "\n",
    "    The <!DOCTYPE> declaration for HTML5 is:"
   ]
  },
  {
   "cell_type": "markdown",
   "id": "f8fbf5d9",
   "metadata": {},
   "source": [
    "### Most used tags \n",
    "\n",
    "##### HTML Headings\n",
    "        HTML headings are defined with the <h1> to <h6> tags.\n",
    "\n",
    "        <h1> defines the most important heading.\n",
    "        <h6> defines the least important heading: \n",
    "        \n",
    "        "
   ]
  },
  {
   "cell_type": "markdown",
   "id": "f5e266a8",
   "metadata": {},
   "source": [
    "<h1>This is heading 1</h1>\n",
    "<h2>This is heading 2</h2>\n",
    "<h3>This is heading 3</h3>"
   ]
  },
  {
   "cell_type": "code",
   "execution_count": null,
   "id": "5cf143d3",
   "metadata": {},
   "outputs": [],
   "source": []
  },
  {
   "cell_type": "markdown",
   "id": "97d82f3f",
   "metadata": {},
   "source": [
    "##### HTML Paragraphs\n",
    "    HTML paragraphs are defined with the <p> tag:\n",
    "    "
   ]
  },
  {
   "cell_type": "code",
   "execution_count": null,
   "id": "cd7e3822",
   "metadata": {},
   "outputs": [],
   "source": [
    "<p>This is a paragraph.</p>\n",
    "<p>This is another paragraph.</p>"
   ]
  },
  {
   "cell_type": "code",
   "execution_count": null,
   "id": "9467e756",
   "metadata": {},
   "outputs": [],
   "source": []
  },
  {
   "cell_type": "markdown",
   "id": "1ff6f538",
   "metadata": {},
   "source": [
    "#### HTML Links\n",
    "    HTML links are defined with the <a> tag:\n",
    "    \n",
    "    <a href=\"https://www.w3schools.com\">This is a link</a>\n",
    "    \n",
    "    The link's destination is specified in the href attribute. \n",
    "    \n",
    "    "
   ]
  },
  {
   "cell_type": "code",
   "execution_count": null,
   "id": "ad3693a9",
   "metadata": {},
   "outputs": [],
   "source": [
    "<a href=\"https://www.w3schools.com\">This is a link</a>"
   ]
  },
  {
   "cell_type": "code",
   "execution_count": null,
   "id": "3e1f0604",
   "metadata": {},
   "outputs": [],
   "source": []
  },
  {
   "cell_type": "markdown",
   "id": "5027aa76",
   "metadata": {},
   "source": [
    "#### HTML Images\n",
    "\n",
    "    HTML images are defined with the <img> tag.\n",
    "\n",
    "    The source file (src), alternative text (alt), width, and height are provided as attributes\n",
    "    "
   ]
  },
  {
   "cell_type": "code",
   "execution_count": null,
   "id": "842b26b4",
   "metadata": {},
   "outputs": [],
   "source": [
    "<img src=\"w3schools.jpg\" alt=\"W3Schools.com\" width=\"104\" height=\"142\">\n"
   ]
  },
  {
   "cell_type": "code",
   "execution_count": null,
   "id": "f756bb67",
   "metadata": {},
   "outputs": [],
   "source": []
  },
  {
   "cell_type": "markdown",
   "id": "f39aaec4",
   "metadata": {},
   "source": [
    "### NOTE:\n",
    "        HTML tags are not case sensitive: <P> means the same as <p>.\n",
    "\n",
    "        The HTML standard does not require lowercase tags, but W3C recommends lowercase in HTML, and demands lowercase for stricter document types like XHTML.\n",
    "        \n"
   ]
  },
  {
   "cell_type": "markdown",
   "id": "e727f0a0",
   "metadata": {},
   "source": [
    "### HTML Attributes\n",
    "    All HTML elements can have attributes\n",
    "    Attributes provide additional information about elements\n",
    "    Attributes are always specified in the start tag\n",
    "    Attributes usually come in name/value pairs like: name=\"value\""
   ]
  },
  {
   "cell_type": "code",
   "execution_count": null,
   "id": "cb8281f7",
   "metadata": {},
   "outputs": [],
   "source": [
    "The <a> tag defines a hyperlink. The href attribute specifies the URL of the page the link goes to:\n",
    "    \n",
    "<a href=\"https://www.w3schools.com\">Visit W3Schools</a>    \n",
    "\n",
    "href\n",
    "target\n"
   ]
  },
  {
   "cell_type": "code",
   "execution_count": null,
   "id": "7321482b",
   "metadata": {},
   "outputs": [],
   "source": []
  },
  {
   "cell_type": "code",
   "execution_count": null,
   "id": "cc7044db",
   "metadata": {},
   "outputs": [],
   "source": [
    "The <img> tag is used to embed an image in an HTML page. The src attribute specifies the path to the image to be displayed:\n",
    "    \n",
    "<img src=\"img_girl.jpg\">\n",
    "\n",
    "alt\n",
    "height\n",
    "width"
   ]
  },
  {
   "cell_type": "code",
   "execution_count": null,
   "id": "7d1e0eba",
   "metadata": {},
   "outputs": [],
   "source": []
  },
  {
   "cell_type": "markdown",
   "id": "bd76c010",
   "metadata": {},
   "source": [
    "<p style=\"color:red;\">This is a red paragraph.</p>"
   ]
  },
  {
   "cell_type": "code",
   "execution_count": null,
   "id": "001d719e",
   "metadata": {},
   "outputs": [],
   "source": []
  },
  {
   "cell_type": "markdown",
   "id": "7431ea35",
   "metadata": {},
   "source": [
    "<p title=\"I'm a tooltip\">This is a paragraph.</p>"
   ]
  },
  {
   "cell_type": "code",
   "execution_count": null,
   "id": "a007e3cb",
   "metadata": {},
   "outputs": [],
   "source": []
  }
 ],
 "metadata": {
  "kernelspec": {
   "display_name": "Python 3",
   "language": "python",
   "name": "python3"
  },
  "language_info": {
   "codemirror_mode": {
    "name": "ipython",
    "version": 3
   },
   "file_extension": ".py",
   "mimetype": "text/x-python",
   "name": "python",
   "nbconvert_exporter": "python",
   "pygments_lexer": "ipython3",
   "version": "3.8.8"
  }
 },
 "nbformat": 4,
 "nbformat_minor": 5
}
