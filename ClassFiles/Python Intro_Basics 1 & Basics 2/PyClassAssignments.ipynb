{
 "cells": [
  {
   "cell_type": "code",
   "execution_count": null,
   "id": "a8e9ab85",
   "metadata": {},
   "outputs": [],
   "source": [
    "name = input(\"Enter name:\") #string \n",
    "age = int(input(\"Enter age:\")) #int\n",
    "master_degree = True#boolean I dont know how to read bool from keyboard\n",
    "percentage = float(input(\"Enter percentage of Master Degree:\"))  #float\n",
    "complex_num = complex(input(\"enter complex number:\")) #complex\n",
    "print(\"variable”, “type of variable\",\"id of variable\",sep=\"----\")\n",
    "print(name, type(name),id(name), sep=\"----\")\n",
    "print(age, type(age),id(age), sep=\"----\")\n",
    "print(master_degree, type(master_degree), id(master_degree),sep=\"----\")\n",
    "print(percentage,type(percentage),id(percentage),sep=\"----\")\n",
    "print(complex_num, type(complex_num), id(complex_num), sep=\"----\")"
   ]
  },
  {
   "cell_type": "markdown",
   "id": "9b71f96d",
   "metadata": {},
   "source": [
    "### F String and format method\n",
    "\n",
    "- f string provide a concise and convenient way to embed python expressions inside string literals for formatting"
   ]
  },
  {
   "cell_type": "code",
   "execution_count": 3,
   "id": "bc158ddd",
   "metadata": {},
   "outputs": [
    {
     "name": "stdout",
     "output_type": "stream",
     "text": [
      "My name is meena pandit\n"
     ]
    }
   ],
   "source": [
    "first_name = 'meena'\n",
    "last_name = 'pandit'\n",
    "\n",
    "print(\"My name is \"+first_name+\" \"+last_name)"
   ]
  },
  {
   "cell_type": "code",
   "execution_count": 9,
   "id": "b81c3567",
   "metadata": {},
   "outputs": [
    {
     "ename": "TypeError",
     "evalue": "can only concatenate str (not \"float\") to str",
     "output_type": "error",
     "traceback": [
      "\u001b[1;31m---------------------------------------------------------------------------\u001b[0m",
      "\u001b[1;31mTypeError\u001b[0m                                 Traceback (most recent call last)",
      "\u001b[1;32m<ipython-input-9-f40f2512a024>\u001b[0m in \u001b[0;36m<module>\u001b[1;34m\u001b[0m\n\u001b[0;32m      1\u001b[0m \u001b[0msalary\u001b[0m \u001b[1;33m=\u001b[0m \u001b[1;36m100000.20282868738\u001b[0m\u001b[1;33m\u001b[0m\u001b[1;33m\u001b[0m\u001b[0m\n\u001b[1;32m----> 2\u001b[1;33m \u001b[0mprint\u001b[0m\u001b[1;33m(\u001b[0m\u001b[1;34m\"My name is \"\u001b[0m\u001b[1;33m+\u001b[0m\u001b[0mfirst_name\u001b[0m\u001b[1;33m+\u001b[0m\u001b[1;34m\" \"\u001b[0m\u001b[1;33m+\u001b[0m\u001b[0mlast_name\u001b[0m\u001b[1;33m+\u001b[0m\u001b[1;34m\" salary is \"\u001b[0m\u001b[1;33m+\u001b[0m\u001b[0msalary\u001b[0m\u001b[1;33m)\u001b[0m\u001b[1;33m\u001b[0m\u001b[1;33m\u001b[0m\u001b[0m\n\u001b[0m",
      "\u001b[1;31mTypeError\u001b[0m: can only concatenate str (not \"float\") to str"
     ]
    }
   ],
   "source": [
    "salary = 100000.20282868738\n",
    "print(\"My name is \"+first_name+\" \"+last_name+\" salary is \"+salary)"
   ]
  },
  {
   "cell_type": "code",
   "execution_count": 17,
   "id": "02a79fdd",
   "metadata": {},
   "outputs": [
    {
     "name": "stdout",
     "output_type": "stream",
     "text": [
      "My name is pandit meena and salary 100000.2028 \n"
     ]
    }
   ],
   "source": [
    "#format(var,var2 ,var2)\n",
    "#till 3.6V\n",
    "\n",
    "print(\"My name is {1} {0} and salary {2:.4f} \".format(first_name,last_name,salary))\n"
   ]
  },
  {
   "cell_type": "code",
   "execution_count": null,
   "id": "c7b27f3d",
   "metadata": {},
   "outputs": [],
   "source": [
    "#F String "
   ]
  },
  {
   "cell_type": "code",
   "execution_count": 18,
   "id": "6cc17233",
   "metadata": {},
   "outputs": [
    {
     "name": "stdout",
     "output_type": "stream",
     "text": [
      "My name is meena pandit\n"
     ]
    }
   ],
   "source": [
    "first_name = 'meena'\n",
    "last_name = 'pandit'\n",
    "sentence = f\"My name is {first_name} {last_name}\"\n",
    "print (sentence)\n"
   ]
  },
  {
   "cell_type": "code",
   "execution_count": 22,
   "id": "02b50780",
   "metadata": {},
   "outputs": [
    {
     "name": "stdout",
     "output_type": "stream",
     "text": [
      "Addition of 10 add  30 = 40 \n",
      "Addition of 10 and 30 = 40\n"
     ]
    }
   ],
   "source": [
    "num1 = 10\n",
    "num2 = 30 \n",
    "\n",
    "# print(\"Addition of \"+num1 + \"add \"+ num2 +\" = \" +(num1+num2))\n",
    "\n",
    "\n",
    "print(\"Addition of {0} add  {1} = {2} \".format(num1,num2,(num1+num2))) #format()\n",
    "\n",
    "print(f\"Addition of {num1} and {num2} = {num1+num2}\") #f string"
   ]
  },
  {
   "cell_type": "markdown",
   "id": "84945d26",
   "metadata": {},
   "source": [
    "### Reading multiple values from input()"
   ]
  },
  {
   "cell_type": "code",
   "execution_count": 23,
   "id": "c49dbc8f",
   "metadata": {},
   "outputs": [
    {
     "name": "stdout",
     "output_type": "stream",
     "text": [
      "Enter Marks for Student Marks 1: 10\n",
      "Enter Marks for Student Marks 2: 20\n",
      "Enter Marks for Student Marks 3: 30\n",
      "Enter Marks for Student Marks 4: 40\n",
      "Enter Marks for Student Marks 5: 30\n",
      "Enter Marks for Student Marks 6: 30\n",
      "[10, 20, 30, 30, 30, 40]\n"
     ]
    }
   ],
   "source": [
    "m1 = int(input(\"Enter Marks for Student Marks 1: \"))\n",
    "m2 = int(input(\"Enter Marks for Student Marks 2: \"))\n",
    "m3 = int(input(\"Enter Marks for Student Marks 3: \"))\n",
    "m4 = int(input(\"Enter Marks for Student Marks 4: \"))\n",
    "m5 = int(input(\"Enter Marks for Student Marks 5: \"))\n",
    "m6 = int(input(\"Enter Marks for Student Marks 6: \"))\n",
    "\n",
    "myList = [m1, m2, m3, m4, m5, m6]\n",
    "myList.sort()\n",
    "print(myList)\n"
   ]
  },
  {
   "cell_type": "code",
   "execution_count": 24,
   "id": "5b204144",
   "metadata": {},
   "outputs": [
    {
     "name": "stdout",
     "output_type": "stream",
     "text": [
      "Enter number of students : 2\n",
      "student name:Kumar\n",
      "student_age:277\n",
      "student name:Python\n",
      "student_age:2782\n",
      "[['Kumar', 277], ['Python', 2782]]\n"
     ]
    }
   ],
   "source": [
    "lst_students = [ ]\n",
    "n = int(input(\"Enter number of students : \"))\n",
    "  \n",
    "for i in range(0, n):\n",
    "    students = [input(\"student name:\"), int(input(\"student_age:\"))]\n",
    "    lst_students.append(students)\n",
    "      \n",
    "print(lst_students)\n"
   ]
  },
  {
   "cell_type": "code",
   "execution_count": 30,
   "id": "4beb7d3b",
   "metadata": {},
   "outputs": [
    {
     "name": "stdout",
     "output_type": "stream",
     "text": [
      "enter student marks: 10,20,30\n",
      "['10', '20', '30']\n",
      "[10, 20, 30]\n"
     ]
    }
   ],
   "source": [
    "user_input=input(\"enter student marks: \")\n",
    "\n",
    "marks_list=user_input.split(\",\")\n",
    "print(marks_list)\n",
    "\n",
    "for mark in range(len(marks_list)):\n",
    "      marks_list[mark] = int(marks_list[mark])\n",
    "print(marks_list)"
   ]
  },
  {
   "cell_type": "code",
   "execution_count": 34,
   "id": "8d58b7f8",
   "metadata": {},
   "outputs": [
    {
     "name": "stdout",
     "output_type": "stream",
     "text": [
      "enter student marks: 10,20,30\n",
      "10,20,30\n"
     ]
    }
   ],
   "source": [
    "user_input=input(\"enter student marks: \")\n",
    "print(user_input) #string"
   ]
  },
  {
   "cell_type": "code",
   "execution_count": 37,
   "id": "90adbdc5",
   "metadata": {},
   "outputs": [
    {
     "name": "stdout",
     "output_type": "stream",
     "text": [
      "['10', '20', '30']\n",
      "[10, 20, 30]\n"
     ]
    }
   ],
   "source": [
    "lst = user_input.split(\",\")\n",
    "print(lst)\n",
    "lst[0] = int(lst[0])\n",
    "lst[1] = int(lst[1])\n",
    "lst[2] = int(lst[2])\n",
    "#0-999\n",
    "print(lst)"
   ]
  },
  {
   "cell_type": "code",
   "execution_count": 40,
   "id": "f11e4349",
   "metadata": {},
   "outputs": [
    {
     "name": "stdout",
     "output_type": "stream",
     "text": [
      "Enter the marks: 10,20,30,40,40,303,303,33\n",
      "[10, 20, 30, 40, 40, 303, 303, 33]\n"
     ]
    }
   ],
   "source": [
    "student_marks = list(map(int,input(\"Enter the marks: \").split(\",\")))\n",
    "\n",
    "print(student_marks)"
   ]
  },
  {
   "cell_type": "code",
   "execution_count": null,
   "id": "8da05f4f",
   "metadata": {},
   "outputs": [],
   "source": [
    "#map(func,iterable) - map object\n",
    "\n",
    "#input().split() --> list \n"
   ]
  },
  {
   "cell_type": "code",
   "execution_count": 42,
   "id": "e4f87f4b",
   "metadata": {},
   "outputs": [
    {
     "name": "stdout",
     "output_type": "stream",
     "text": [
      "['Meena', 'Rajini', 'Rashmi', 'Rafal']\n"
     ]
    }
   ],
   "source": [
    "names = \"Meena,Rajini,Rashmi,Rafal\"\n",
    "\n",
    "names = names.split(\",\")\n",
    "\n",
    "print(names)"
   ]
  },
  {
   "cell_type": "code",
   "execution_count": 48,
   "id": "0fa765c8",
   "metadata": {},
   "outputs": [
    {
     "name": "stdout",
     "output_type": "stream",
     "text": [
      "['10', '20', '40', '50']\n",
      "10 <class 'str'>\n",
      "10 <class 'int'>\n",
      "20 <class 'str'>\n",
      "20 <class 'int'>\n",
      "40 <class 'str'>\n",
      "40 <class 'int'>\n",
      "50 <class 'str'>\n",
      "50 <class 'int'>\n",
      "[10, 20, 40, 50]\n"
     ]
    }
   ],
   "source": [
    "marks = \"10,20,40,50\"\n",
    "\n",
    "marks = marks.split(\",\")\n",
    "\n",
    "print(marks)\n",
    "\n",
    "for ind in range(len(marks)):\n",
    "    print(marks[ind],type(marks[ind]))\n",
    "    marks[ind] = int(marks[ind])\n",
    "    print(marks[ind],type(marks[ind]))\n",
    "    \n",
    "print(marks)"
   ]
  },
  {
   "cell_type": "code",
   "execution_count": 5,
   "id": "e0dc0881",
   "metadata": {},
   "outputs": [
    {
     "name": "stdout",
     "output_type": "stream",
     "text": [
      "Enter input values:0,1,1,0\n",
      "['0', '1', '1', '0']\n",
      "list value:False,value type:<class 'bool'>\n",
      "list value:True,value type:<class 'bool'>\n",
      "list value:True,value type:<class 'bool'>\n",
      "list value:False,value type:<class 'bool'>\n",
      "sequence:[False, True, True, False],sequence type:<class 'list'>\n"
     ]
    }
   ],
   "source": [
    "bool_list = input(\"Enter input values:\")\n",
    "\n",
    "bool_list = bool_list.split(\",\")\n",
    "\n",
    "print(bool_list)\n",
    "\n",
    "for i in range(len(bool_list)):\n",
    "    \n",
    "    bool_list[i]=bool(int(bool_list[i]))\n",
    "    \n",
    "    print(f'list value:{bool_list[i]},value type:{type(bool_list[i])}')\n",
    "    \n",
    "print(f\"sequence:{bool_list},sequence type:{type(bool_list)}\")"
   ]
  },
  {
   "cell_type": "code",
   "execution_count": 2,
   "id": "0a048392",
   "metadata": {},
   "outputs": [
    {
     "data": {
      "text/plain": [
       "True"
      ]
     },
     "execution_count": 2,
     "metadata": {},
     "output_type": "execute_result"
    }
   ],
   "source": [
    "bool(\"True\")"
   ]
  },
  {
   "cell_type": "code",
   "execution_count": 3,
   "id": "240fdb63",
   "metadata": {},
   "outputs": [
    {
     "data": {
      "text/plain": [
       "False"
      ]
     },
     "execution_count": 3,
     "metadata": {},
     "output_type": "execute_result"
    }
   ],
   "source": [
    "\n",
    "bool(\"False\")"
   ]
  },
  {
   "cell_type": "code",
   "execution_count": null,
   "id": "b7bab7b5",
   "metadata": {},
   "outputs": [],
   "source": [
    "bool(\"True\")"
   ]
  },
  {
   "cell_type": "code",
   "execution_count": 15,
   "id": "e04b646c",
   "metadata": {},
   "outputs": [
    {
     "name": "stdout",
     "output_type": "stream",
     "text": [
      "[20.2, 60.3, 80.3, 139.3]\n",
      "[20.2, 60.3, 80.3, 139.3]\n"
     ]
    }
   ],
   "source": [
    "month = \"may\"\n",
    "weather_hot = True \n",
    "temp1day = 80.45\n",
    "temp2day = 90\n",
    "temp3day = 85\n",
    "average = temp2day+7j\n",
    "\n",
    "# month_weather=[month,weather_hot,temp1day,temp2day,temp3day,average]\n",
    "# print(month_weather)\n",
    "# print(type(month_weather)) #<class 'list'>\n",
    "\n",
    "# for data in month_weather:\n",
    "#     print(data , type(data))\n",
    "                  \n",
    "#1.Declare two list one with integer values another with  float values.\n",
    "#2.And declare third list add both the interge list & float list  values in it.          jan = 80,90,75 --- int\n",
    "\n",
    "\n",
    "int_sal = [10,30,40,50]\n",
    "\n",
    "float_sal = [10.2,30.3,40.3,89.3]\n",
    "\n",
    "# third_list = int_sal + float_sal\n",
    "third_list =[0]*4\n",
    "\n",
    "third_list[0] = int_sal[0] + float_sal[0]\n",
    "third_list[1] = int_sal[1] + float_sal[1]\n",
    "third_list[2] = int_sal[2] + float_sal[2]\n",
    "third_list[3] = int_sal[3] + float_sal[3]\n",
    "fourth_list =[]\n",
    "\n",
    "for ind in range(len(int_sal)):\n",
    "    fourth_list.append(int_sal[ind] + float_sal[ind])\n",
    "                                       \n",
    "                                       \n",
    "print(third_list)\n",
    "print(fourth_list)"
   ]
  },
  {
   "cell_type": "code",
   "execution_count": 1,
   "id": "deb59b22",
   "metadata": {},
   "outputs": [
    {
     "name": "stdout",
     "output_type": "stream",
     "text": [
      "paul 25\n",
      "paul 25\n",
      "{'name': 'paul', 'age': 25, 'phone': 12345, 'hobby': ['coding', 'singing', 'playing']}\n",
      "2\n",
      "dict_keys(['name', 'age'])\n",
      "dict_values(['paul', 25])\n"
     ]
    }
   ],
   "source": [
    "person = {'name': \"paul\", 'age': 25}\n",
    "print (person['name'], person['age'])\n",
    "print (person.get('name'), person.get('age'))\n",
    "person['phone'] = 12345\n",
    "#new key added\n",
    "#print (person)\n",
    "person ['hobby'] = ['coding', 'singing', 'playing'] \n",
    "#list of values\n",
    "print(person) # output -- {'name': 'paul', 'age': 25, 'phone': 12345, 'hobby': ['coding', 'singing', 'playing']}\n",
    "\n",
    "#to delete the items \n",
    "\n",
    "del person['hobby']\n",
    "#print (person) # ouput -{'name': 'paul', 'age': 25, 'phone': 12345}\n",
    "\n",
    "person.pop('phone') # removed or deleted from the person dictionary \n",
    "#print (person) # output -- {'name': 'paul', 'age': 25}\n",
    "\n",
    "print(len(person))\n",
    "\n",
    "print (person.keys()) # output --dict_keys(['name', 'age', 'hobby'])\n",
    "\n",
    "print (person.values()) # output -- dict_values(['paul', 25, ['coding', 'singing', 'playing']]) printing only the values"
   ]
  },
  {
   "cell_type": "code",
   "execution_count": 3,
   "id": "092d3774",
   "metadata": {},
   "outputs": [
    {
     "name": "stdout",
     "output_type": "stream",
     "text": [
      "{'name': 'paul', 'age': 35}\n"
     ]
    }
   ],
   "source": [
    "person.update({\"age\":35})\n",
    "\n",
    "print(person)"
   ]
  },
  {
   "cell_type": "code",
   "execution_count": 4,
   "id": "30d8f026",
   "metadata": {},
   "outputs": [
    {
     "name": "stdout",
     "output_type": "stream",
     "text": [
      "{'name': 'paul', 'age': 35, 'course': 'python'}\n"
     ]
    }
   ],
   "source": [
    "person.update({\"course\": \"python\"})\n",
    "\n",
    "print(person)"
   ]
  },
  {
   "cell_type": "code",
   "execution_count": 5,
   "id": "600d7503",
   "metadata": {},
   "outputs": [
    {
     "ename": "KeyError",
     "evalue": "'fee'",
     "output_type": "error",
     "traceback": [
      "\u001b[1;31m---------------------------------------------------------------------------\u001b[0m",
      "\u001b[1;31mKeyError\u001b[0m                                  Traceback (most recent call last)",
      "\u001b[1;32m<ipython-input-5-c8a147a68b1e>\u001b[0m in \u001b[0;36m<module>\u001b[1;34m\u001b[0m\n\u001b[1;32m----> 1\u001b[1;33m \u001b[0mperson\u001b[0m\u001b[1;33m[\u001b[0m\u001b[1;34m\"fee\"\u001b[0m\u001b[1;33m]\u001b[0m\u001b[1;33m\u001b[0m\u001b[1;33m\u001b[0m\u001b[0m\n\u001b[0m",
      "\u001b[1;31mKeyError\u001b[0m: 'fee'"
     ]
    }
   ],
   "source": [
    "person[\"fee\"]"
   ]
  },
  {
   "cell_type": "code",
   "execution_count": 6,
   "id": "2364586b",
   "metadata": {},
   "outputs": [
    {
     "data": {
      "text/plain": [
       "'Key not found'"
      ]
     },
     "execution_count": 6,
     "metadata": {},
     "output_type": "execute_result"
    }
   ],
   "source": [
    "person.get(\"fee\",\"Key not found\")"
   ]
  },
  {
   "cell_type": "code",
   "execution_count": 7,
   "id": "71ed6c7c",
   "metadata": {},
   "outputs": [
    {
     "data": {
      "text/plain": [
       "{'name': 'paul', 'age': 35, 'course': 'python'}"
      ]
     },
     "execution_count": 7,
     "metadata": {},
     "output_type": "execute_result"
    }
   ],
   "source": [
    "person"
   ]
  },
  {
   "cell_type": "code",
   "execution_count": 8,
   "id": "ab0dc7ba",
   "metadata": {},
   "outputs": [
    {
     "name": "stdout",
     "output_type": "stream",
     "text": [
      "('course', 'python')\n"
     ]
    }
   ],
   "source": [
    "result = person.popitem()\n",
    "\n",
    "print(result)"
   ]
  },
  {
   "cell_type": "code",
   "execution_count": 9,
   "id": "5ab44f96",
   "metadata": {},
   "outputs": [
    {
     "name": "stdout",
     "output_type": "stream",
     "text": [
      "{'name': 'paul', 'age': 35}\n"
     ]
    }
   ],
   "source": [
    "print(person)"
   ]
  },
  {
   "cell_type": "markdown",
   "id": "1264a183",
   "metadata": {},
   "source": [
    "####  negative modulo"
   ]
  },
  {
   "cell_type": "code",
   "execution_count": 2,
   "id": "3928b812",
   "metadata": {},
   "outputs": [
    {
     "name": "stdout",
     "output_type": "stream",
     "text": [
      "-4\n"
     ]
    }
   ],
   "source": [
    "a = 3;b = -8;c = 2;\n",
    "print( (b // c));"
   ]
  },
  {
   "cell_type": "code",
   "execution_count": 3,
   "id": "0c549b1e",
   "metadata": {},
   "outputs": [
    {
     "name": "stdout",
     "output_type": "stream",
     "text": [
      "-1\n"
     ]
    }
   ],
   "source": [
    "print(3%-4)"
   ]
  },
  {
   "cell_type": "code",
   "execution_count": 4,
   "id": "793f77a5",
   "metadata": {},
   "outputs": [
    {
     "name": "stdout",
     "output_type": "stream",
     "text": [
      "3\n"
     ]
    }
   ],
   "source": [
    "print(3%4)"
   ]
  },
  {
   "cell_type": "code",
   "execution_count": 5,
   "id": "f4560821",
   "metadata": {},
   "outputs": [
    {
     "name": "stdout",
     "output_type": "stream",
     "text": [
      "1\n"
     ]
    }
   ],
   "source": [
    "print(-3%4)"
   ]
  },
  {
   "cell_type": "code",
   "execution_count": 2,
   "id": "56299f4d",
   "metadata": {},
   "outputs": [
    {
     "name": "stdout",
     "output_type": "stream",
     "text": [
      "enter the key: 2\n",
      "only one occurence\n"
     ]
    }
   ],
   "source": [
    "\n",
    "data = [10,26,1,4,77,652,2,88,4,37,38]\n",
    "\n",
    "key_input=int(input(\"enter the key: \"))\n",
    "output=0;\n",
    "count_key=data.count(key_input)\n",
    "if count_key==1:\n",
    "    print(\"only one occurence\")\n",
    "elif(key_input not in data):\n",
    "    print(\"key not found\")\n",
    "else:\n",
    "    for index in range(len(data)):\n",
    "        if data[index]==key_input:\n",
    "            output=index\n",
    "    print(output)"
   ]
  },
  {
   "cell_type": "code",
   "execution_count": 4,
   "id": "9e05be5f",
   "metadata": {},
   "outputs": [
    {
     "name": "stdout",
     "output_type": "stream",
     "text": [
      "enter input elements: 2,3,5,2,7\n",
      "[2, 3, 5, 2, 7]\n",
      "enter key value: 2\n",
      "key not found\n"
     ]
    }
   ],
   "source": [
    "data = list(map(int,input(\"enter input elements: \").split(\",\" )))\n",
    "print(data)\n",
    "key = int(input(\"enter key value: \"))\n",
    "count = 0\n",
    "for i in range(len(data)):\n",
    "    if key == data[i]:\n",
    "        count = count+1\n",
    "        if count == 2:\n",
    "            print(\"key found at second occurance: \",i)\n",
    "            break\n",
    "if count==1:\n",
    "    print(\"first occurance of key\")\n",
    "elif count==0:\n",
    "    print(\"key not found\")\n"
   ]
  },
  {
   "cell_type": "code",
   "execution_count": 3,
   "id": "b467626e",
   "metadata": {},
   "outputs": [
    {
     "name": "stdout",
     "output_type": "stream",
     "text": [
      "Me too\n",
      "Me too\n"
     ]
    }
   ],
   "source": [
    "s = 'I love GeeksforGeeks'\n",
    "def f1():\n",
    "    #global s\n",
    "    s = 'I love GeeksforGeeks'\n",
    "\n",
    "def f2():\n",
    "    global s\n",
    "    s = 'Me too'\n",
    "    print(s)\n",
    "\n",
    "f2()\n",
    "print(s)\n",
    "\n",
    "#Driver's code\n",
    "f1()"
   ]
  },
  {
   "cell_type": "code",
   "execution_count": 4,
   "id": "785c1c76",
   "metadata": {},
   "outputs": [
    {
     "name": "stdout",
     "output_type": "stream",
     "text": [
      "10\n"
     ]
    }
   ],
   "source": [
    "if True:\n",
    "    a = 10\n",
    "else:\n",
    "    print(a)\n",
    "    \n",
    "print(a)"
   ]
  },
  {
   "cell_type": "code",
   "execution_count": 5,
   "id": "f04363e4",
   "metadata": {},
   "outputs": [
    {
     "data": {
      "text/plain": [
       "130"
      ]
     },
     "execution_count": 5,
     "metadata": {},
     "output_type": "execute_result"
    }
   ],
   "source": [
    "\t\t\tdef main():\n",
    "\t\t\t\tdef add(a,b):\n",
    "\t\t\t\t\treturn a+b\n",
    "\t\t\t\t\t\n",
    "\t\t\t\tdef mult(a):\n",
    "\t\t\t\t\treturn a*10\n",
    "\t\t\t\treturn add(10,20)+mult(10)\n",
    "\t\t\t\t\n",
    "\t\t\tmain()"
   ]
  },
  {
   "cell_type": "code",
   "execution_count": null,
   "id": "87008689",
   "metadata": {},
   "outputs": [],
   "source": []
  }
 ],
 "metadata": {
  "kernelspec": {
   "display_name": "Python 3",
   "language": "python",
   "name": "python3"
  },
  "language_info": {
   "codemirror_mode": {
    "name": "ipython",
    "version": 3
   },
   "file_extension": ".py",
   "mimetype": "text/x-python",
   "name": "python",
   "nbconvert_exporter": "python",
   "pygments_lexer": "ipython3",
   "version": "3.8.8"
  }
 },
 "nbformat": 4,
 "nbformat_minor": 5
}
