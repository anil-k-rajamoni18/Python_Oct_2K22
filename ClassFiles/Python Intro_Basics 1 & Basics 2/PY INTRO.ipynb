{
 "cells": [
  {
   "cell_type": "markdown",
   "metadata": {},
   "source": [
    "### What is a programming language.\n",
    "\n",
    "<img src = \"https://www.codecademy.com/resources/blog/content/images/2020/07/what-is-a-programming-language.png\">\n",
    "\n",
    "\n",
    "\n",
    "\n",
    "**Programming is simply a way for us to give instructions to computers.**\n",
    "**Simply A Program is a  Set of Instruction To Do A Task.**\n",
    "\n",
    "**Programming is how you get computers to solve problems**\n",
    "- We give it an instruction manual and the computer follows \n",
    "- without code Computer programs wouldn't do anything.\n",
    "- You wouldn't be able to move the mouse around on your screen.\n",
    "- You wouldn't be able to Google things you wouldn't be able to play Pubg on your phone right.\n",
    "- We can't just tell my computer what to do.\n",
    "- You see computers don't understand English or any other human language for that matter.\n",
    "- So what language do computers speak ,Well they speak in ones and zeros all electronics speak that language\n",
    "\n",
    "- It's hard for us to communicate like that.Right , So humans have developed programming languages that are in between human language and machine language.\n",
    "\n",
    "- You have languages like Python and javascript that are r really close to English.\n",
    " \n",
    "\n",
    "ex:**For example if we need to find fligts to mumbai how do we go from to there . Well having let's say a Web site show us a display of all our flights telling the computer to show those flight information on our screen. Here We have these programming languages we usally write on a file such py even Java. These files or Group of files would make it possible to Do, What we want**\n",
    "\n"
   ]
  },
  {
   "cell_type": "markdown",
   "metadata": {},
   "source": [
    "<img src = \"https://cdn-wordpress-info.futurelearn.com/info/wp-content/uploads/1.5-What-Is-Programming.gif\" width = \"800\" height = \"400\">"
   ]
  },
  {
   "cell_type": "markdown",
   "metadata": {},
   "source": [
    "### What is Python?\n",
    "- Python is a computer programming language often used to build websites and software, automate tasks, and conduct data analysis. \n",
    "- Python is a general purpose language, meaning it can be used to create a variety of different programs and isn’t specialized for any specific problems. \n",
    "- This versatility, along with its beginner-friendliness, has made it one of the most-used programming languages today. \n",
    "- A survey conducted by industry analyst firm RedMonk found that it was the most popular programming language among developers in 2020 [1].\n",
    "\n",
    "\n",
    "#### The name Python comes from Monty Python. When Guido van Rossum was creating Python, he was also reading the scripts from BBC’s Monty Python’s Flying Circus. "
   ]
  },
  {
   "cell_type": "code",
   "execution_count": 1,
   "metadata": {},
   "outputs": [
    {
     "name": "stdout",
     "output_type": "stream",
     "text": [
      "Hello World Python \n"
     ]
    }
   ],
   "source": [
    "print(\"Hello World Python \")"
   ]
  },
  {
   "cell_type": "code",
   "execution_count": 2,
   "metadata": {},
   "outputs": [
    {
     "name": "stdout",
     "output_type": "stream",
     "text": [
      "Welcome to python session \n"
     ]
    }
   ],
   "source": [
    "print(\"Welcome to python session \")"
   ]
  },
  {
   "cell_type": "code",
   "execution_count": 4,
   "metadata": {},
   "outputs": [
    {
     "name": "stdout",
     "output_type": "stream",
     "text": [
      "Enter the name  : Raja\n",
      "Hello  Raja\n"
     ]
    }
   ],
   "source": [
    "name = input(\"Enter the name  : \")\n",
    "\n",
    "print(\"Hello \", name)"
   ]
  },
  {
   "cell_type": "markdown",
   "metadata": {},
   "source": [
    "### Why Python?"
   ]
  },
  {
   "cell_type": "markdown",
   "metadata": {},
   "source": [
    "<img src=\"https://www.zarantech.com/blog/wp-content/uploads/2017/01/noteable-features-of-python.jpg\" width=\"400\" height=\"800\">"
   ]
  },
  {
   "cell_type": "markdown",
   "metadata": {},
   "source": [
    "<img src = \"https://miro.medium.com/max/1400/1*FbpL8alBr_6RoCB-4PhfnQ.png\" width=\"800\" height=\"800\">"
   ]
  },
  {
   "cell_type": "markdown",
   "metadata": {},
   "source": [
    "<img src =\"https://lh3.googleusercontent.com/proxy/6CPzSgaYEY-l03bbKsRPGCnbB4WbY3T-9olsT0bEDqRsHVb17WYzCKi6WQvhoXBYCtBFbchqYI0kgp7lj2DJa951geG3qOEwPRjUISNNgGBubnpohFRCyHS1lWvcFTP5Sta_A7JZYc_0zRD7CWNG5MNuSXk\" width=\"800\" height=\"800\">"
   ]
  },
  {
   "cell_type": "markdown",
   "metadata": {},
   "source": [
    "### How to Run the Python?"
   ]
  },
  {
   "cell_type": "markdown",
   "metadata": {},
   "source": [
    "- **Here We need a translator just like a middle person , to convert our written programms which are in HLL to Machine code .** \n",
    "- __Python usually uses an interpreter__\n",
    "- Just like a translator goes line by line through our code and executes our code on our machine.\n"
   ]
  },
  {
   "cell_type": "code",
   "execution_count": null,
   "metadata": {},
   "outputs": [],
   "source": []
  },
  {
   "cell_type": "markdown",
   "metadata": {},
   "source": [
    "<img src=\"Img/translator.png\" width=\"800\" height=\"400\">"
   ]
  },
  {
   "cell_type": "markdown",
   "metadata": {},
   "source": [
    "\n",
    "<img src=\"Img/interpreter.png\" width=\"800\" height=\"400\">"
   ]
  },
  {
   "cell_type": "markdown",
   "metadata": {},
   "source": [
    "<img src=\"Img/phases.png\" width=\"800\" height=\"400\">"
   ]
  },
  {
   "cell_type": "markdown",
   "metadata": {},
   "source": [
    "### 7 Important Reasons Why You Should Use Python\n",
    "\n",
    "- **Readable and Maintainable Code**\n",
    "- **Multiple Programming Paradigms**\n",
    "- **Compatible with Major Platforms and Systems**\n",
    "- **Robust Standard Library**\n",
    "- **Many Open Source Frameworks and Tools**\n",
    "- **Simplify Complex Software Development**\n",
    "- **Adopt Test Driven Development**\n"
   ]
  },
  {
   "cell_type": "markdown",
   "metadata": {},
   "source": [
    "## Histroy\n",
    "\n",
    "### Python was conceived in the late 1980s by Guido van Rossum at Centrum Wiskunde & Informatica (CWI) in the Netherlands as a successor to ABC programming language, which was inspired by SETL\n",
    "\n",
    "<img src=\"Img/timeline.jpg\" width=\"800\" height=\"400\">\n"
   ]
  },
  {
   "cell_type": "markdown",
   "metadata": {},
   "source": [
    "### How / Where to Create to Python Files ?\n",
    "\n",
    "1.Terminals\n",
    "\n",
    "    -cmd\n",
    "    -cpowershell\n",
    "    -cbash\n",
    "    \n",
    "2.Editors\n",
    "    - IDLE\n",
    "    - Sublime\n",
    "    - Notepad++ etc\n",
    "    \n",
    "3.IDE's\n",
    "    - Sublime\n",
    "    - VsCode\n",
    "    - Pycharm\n",
    "    \n",
    "4.Notebooks\n",
    "    - jyupter notebooks\n",
    "    - jyuter labs\n",
    "\n",
    "5. Online Interpreters\n",
    "    - repl\n",
    "    \n",
    "\n"
   ]
  },
  {
   "cell_type": "code",
   "execution_count": null,
   "metadata": {},
   "outputs": [],
   "source": [
    "print(\"Hello World\")"
   ]
  },
  {
   "cell_type": "markdown",
   "metadata": {},
   "source": [
    "#### Comparsion\n"
   ]
  },
  {
   "cell_type": "markdown",
   "metadata": {},
   "source": [
    "<img src = \"https://www.softwaretestinghelp.com/wp-content/qa/uploads/2020/03/Java-Syntax.png\">"
   ]
  },
  {
   "cell_type": "markdown",
   "metadata": {},
   "source": [
    "<img src = \" https://www.techgropse.com/blog/wp-content/uploads/2020/10/image-5.png \" width=\"600\" height=\"300\">"
   ]
  },
  {
   "cell_type": "code",
   "execution_count": null,
   "metadata": {},
   "outputs": [],
   "source": []
  },
  {
   "cell_type": "code",
   "execution_count": null,
   "metadata": {},
   "outputs": [],
   "source": []
  },
  {
   "cell_type": "code",
   "execution_count": null,
   "metadata": {},
   "outputs": [],
   "source": []
  },
  {
   "cell_type": "code",
   "execution_count": null,
   "metadata": {},
   "outputs": [],
   "source": []
  },
  {
   "cell_type": "code",
   "execution_count": null,
   "metadata": {},
   "outputs": [],
   "source": [
    "string = 'Hello world'\n",
    "print(string, type(var3))"
   ]
  },
  {
   "cell_type": "code",
   "execution_count": null,
   "metadata": {},
   "outputs": [],
   "source": [
    "str1 = \"\"\"Hello world\"\"\"\n",
    "print(str1,type(str1))"
   ]
  },
  {
   "cell_type": "code",
   "execution_count": null,
   "metadata": {},
   "outputs": [],
   "source": [
    "dir(str1)"
   ]
  },
  {
   "cell_type": "code",
   "execution_count": null,
   "metadata": {},
   "outputs": [],
   "source": [
    "var4 = 10+3j \n",
    "# x+iy\n",
    "\n",
    "print(var4,type(var4))"
   ]
  },
  {
   "cell_type": "code",
   "execution_count": null,
   "metadata": {},
   "outputs": [],
   "source": [
    "var4.real"
   ]
  },
  {
   "cell_type": "code",
   "execution_count": null,
   "metadata": {},
   "outputs": [],
   "source": [
    "var4.imag"
   ]
  },
  {
   "cell_type": "code",
   "execution_count": null,
   "metadata": {},
   "outputs": [],
   "source": [
    "dir(var4)"
   ]
  },
  {
   "cell_type": "code",
   "execution_count": null,
   "metadata": {},
   "outputs": [],
   "source": [
    "var4.imag"
   ]
  },
  {
   "cell_type": "code",
   "execution_count": null,
   "metadata": {},
   "outputs": [],
   "source": [
    "var5 = 'hello'\n",
    "var6 =\"\"\" world \"\"\"\n",
    "var7 = \" hakjak\"\n",
    "\n",
    "print(var5,var6,var7 , sep = \"&\")"
   ]
  },
  {
   "cell_type": "code",
   "execution_count": null,
   "metadata": {},
   "outputs": [],
   "source": [
    "# Boolean \n",
    "var8 = True\n",
    "var9 = False\n",
    "\n",
    "\n",
    "print(var8,var9)"
   ]
  },
  {
   "cell_type": "code",
   "execution_count": null,
   "metadata": {},
   "outputs": [],
   "source": [
    "var8+var9"
   ]
  },
  {
   "cell_type": "code",
   "execution_count": null,
   "metadata": {},
   "outputs": [],
   "source": [
    "var8*var9"
   ]
  },
  {
   "cell_type": "code",
   "execution_count": null,
   "metadata": {},
   "outputs": [],
   "source": [
    "## Advance dtypes\n",
    "\n",
    "\n",
    "# list\n",
    "# tuple\n",
    "# set\n",
    "# dict\n",
    "# namedtuple\n",
    "# ordered dict\n"
   ]
  },
  {
   "cell_type": "code",
   "execution_count": null,
   "metadata": {},
   "outputs": [],
   "source": [
    "friends = [\"f1\",\"f2\",\"ff3\"]\n",
    "\n",
    "print(friends[0])"
   ]
  },
  {
   "cell_type": "code",
   "execution_count": null,
   "metadata": {},
   "outputs": [],
   "source": [
    "print(friends[2])"
   ]
  },
  {
   "cell_type": "code",
   "execution_count": null,
   "metadata": {},
   "outputs": [],
   "source": [
    "am_cart =[\"laptop\",\"earphones\",\"mobile\"]\n",
    "\n",
    "print(am_cart_cart)"
   ]
  },
  {
   "cell_type": "code",
   "execution_count": null,
   "metadata": {},
   "outputs": [],
   "source": [
    "am_cart[::-1]"
   ]
  },
  {
   "cell_type": "code",
   "execution_count": null,
   "metadata": {},
   "outputs": [],
   "source": [
    "dir(am_cart)"
   ]
  },
  {
   "cell_type": "code",
   "execution_count": null,
   "metadata": {},
   "outputs": [],
   "source": [
    "tuple_var =(1,13,44)\n",
    "print(tuple_var)"
   ]
  },
  {
   "cell_type": "code",
   "execution_count": null,
   "metadata": {},
   "outputs": [],
   "source": [
    "tuple_var[0]"
   ]
  },
  {
   "cell_type": "code",
   "execution_count": null,
   "metadata": {},
   "outputs": [],
   "source": [
    "dir(tuple_var)"
   ]
  },
  {
   "cell_type": "code",
   "execution_count": null,
   "metadata": {},
   "outputs": [],
   "source": [
    "dict ={\n",
    "    \"list\":[1,2,3],\n",
    "    \"name\":\"python\",\n",
    "    \"version\":3.8,\n",
    "    \"version\":3.9\n",
    "}"
   ]
  },
  {
   "cell_type": "code",
   "execution_count": null,
   "metadata": {},
   "outputs": [],
   "source": [
    "dict"
   ]
  },
  {
   "cell_type": "code",
   "execution_count": null,
   "metadata": {},
   "outputs": [],
   "source": [
    "dir(dict)"
   ]
  },
  {
   "cell_type": "code",
   "execution_count": null,
   "metadata": {},
   "outputs": [],
   "source": [
    "dict.keys()"
   ]
  },
  {
   "cell_type": "code",
   "execution_count": null,
   "metadata": {},
   "outputs": [],
   "source": [
    "dict.values()"
   ]
  },
  {
   "cell_type": "code",
   "execution_count": null,
   "metadata": {},
   "outputs": [],
   "source": [
    "dict.items()"
   ]
  },
  {
   "cell_type": "code",
   "execution_count": null,
   "metadata": {},
   "outputs": [],
   "source": [
    "set_var = {\"apple\",\"mango\",\"apple\",\"fruit\"}\n",
    "\n",
    "print(set_var)"
   ]
  },
  {
   "cell_type": "code",
   "execution_count": null,
   "metadata": {},
   "outputs": [],
   "source": [
    "dir(set_var)"
   ]
  },
  {
   "cell_type": "code",
   "execution_count": null,
   "metadata": {},
   "outputs": [],
   "source": [
    "list1 = [1,2,10,1,12]\n",
    "\n",
    "list2 = set(list1)\n",
    "\n",
    "print(list2)"
   ]
  },
  {
   "cell_type": "code",
   "execution_count": null,
   "metadata": {},
   "outputs": [],
   "source": [
    "#\n",
    "fun \n",
    "oops\n",
    "threads\n",
    "#\n",
    "flask \n",
    "requests\n",
    "sklearn , numpy  ,pandas\n",
    "\n",
    "#\n",
    "pyspark\n",
    "\n"
   ]
  },
  {
   "cell_type": "markdown",
   "metadata": {},
   "source": [
    "### Variable Rules"
   ]
  },
  {
   "cell_type": "code",
   "execution_count": null,
   "metadata": {},
   "outputs": [],
   "source": [
    "- variable is  name to the memory location\n",
    "\n",
    "\n",
    "- it should start with aplhabet or underscore\n",
    "- it shouldnt start with numeric \n",
    "- it contain aplha , underscore , numbers\n",
    "- the two no space words with join with underScore.\n"
   ]
  },
  {
   "cell_type": "code",
   "execution_count": null,
   "metadata": {},
   "outputs": [],
   "source": [
    "car_price = 24"
   ]
  },
  {
   "cell_type": "code",
   "execution_count": null,
   "metadata": {},
   "outputs": [],
   "source": [
    "print(car_price)"
   ]
  },
  {
   "cell_type": "code",
   "execution_count": null,
   "metadata": {},
   "outputs": [],
   "source": [
    "# 9_car_name = 25\n",
    "\n"
   ]
  },
  {
   "cell_type": "code",
   "execution_count": null,
   "metadata": {},
   "outputs": [],
   "source": [
    "A=10\n",
    "a=20\n",
    "_ = 30\n",
    "\n",
    "Aa =9"
   ]
  },
  {
   "cell_type": "code",
   "execution_count": null,
   "metadata": {},
   "outputs": [],
   "source": [
    "print(A+a+_+Aa)"
   ]
  },
  {
   "cell_type": "code",
   "execution_count": null,
   "metadata": {},
   "outputs": [],
   "source": [
    "#comments \n",
    "\n",
    "# predicting a salary \n",
    "\n",
    "print(\"python 39\")"
   ]
  },
  {
   "cell_type": "code",
   "execution_count": null,
   "metadata": {},
   "outputs": [],
   "source": [
    "print(\"python 30\")\n"
   ]
  },
  {
   "cell_type": "code",
   "execution_count": null,
   "metadata": {},
   "outputs": [],
   "source": [
    "\"hi hih hi \""
   ]
  },
  {
   "cell_type": "code",
   "execution_count": null,
   "metadata": {},
   "outputs": [],
   "source": [
    "a=1\n",
    "b=2\n",
    "a+b"
   ]
  },
  {
   "cell_type": "code",
   "execution_count": null,
   "metadata": {},
   "outputs": [],
   "source": []
  }
 ],
 "metadata": {
  "kernelspec": {
   "display_name": "Python 3",
   "language": "python",
   "name": "python3"
  },
  "language_info": {
   "codemirror_mode": {
    "name": "ipython",
    "version": 3
   },
   "file_extension": ".py",
   "mimetype": "text/x-python",
   "name": "python",
   "nbconvert_exporter": "python",
   "pygments_lexer": "ipython3",
   "version": "3.8.8"
  }
 },
 "nbformat": 4,
 "nbformat_minor": 4
}
